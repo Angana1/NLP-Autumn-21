{
 "cells": [
  {
   "cell_type": "markdown",
   "metadata": {
    "id": "TUo_mkiioAvN"
   },
   "source": [
    "# Named Entity Recognition using pretrained BERT\n",
    "### Instructor : Prof. Sudeshna Sarkar"
   ]
  },
  {
   "cell_type": "markdown",
   "metadata": {
    "id": "SPCShsuHLePo"
   },
   "source": [
    "## Name: Angana Mondal <br> \n",
    "## Roll Number: 19IE10039 "
   ]
  },
  {
   "cell_type": "code",
   "execution_count": 48,
   "metadata": {
    "colab": {
     "base_uri": "https://localhost:8080/"
    },
    "id": "jaJiGxw62Shu",
    "outputId": "1dbf1566-567f-40ee-85c6-004604b1dc89"
   },
   "outputs": [
    {
     "name": "stdout",
     "output_type": "stream",
     "text": [
      "Mounted at /content/gdrive\n"
     ]
    }
   ],
   "source": [
    "from google.colab import drive\n",
    "drive.mount('/content/gdrive')"
   ]
  },
  {
   "cell_type": "code",
   "execution_count": 1,
   "metadata": {
    "colab": {
     "base_uri": "https://localhost:8080/"
    },
    "id": "ilwxcEJToM48",
    "outputId": "866bc164-d5e4-498f-92c9-2214b755070a"
   },
   "outputs": [
    {
     "name": "stdout",
     "output_type": "stream",
     "text": [
      "Collecting pytorch-pretrained-bert\n",
      "  Downloading pytorch_pretrained_bert-0.6.2-py3-none-any.whl (123 kB)\n",
      "\u001b[K     |████████████████████████████████| 123 kB 4.4 MB/s \n",
      "\u001b[?25hRequirement already satisfied: numpy in /usr/local/lib/python3.7/dist-packages (from pytorch-pretrained-bert) (1.19.5)\n",
      "Requirement already satisfied: tqdm in /usr/local/lib/python3.7/dist-packages (from pytorch-pretrained-bert) (4.62.3)\n",
      "Requirement already satisfied: requests in /usr/local/lib/python3.7/dist-packages (from pytorch-pretrained-bert) (2.23.0)\n",
      "Collecting boto3\n",
      "  Downloading boto3-1.19.12-py3-none-any.whl (131 kB)\n",
      "\u001b[K     |████████████████████████████████| 131 kB 18.7 MB/s \n",
      "\u001b[?25hRequirement already satisfied: torch>=0.4.1 in /usr/local/lib/python3.7/dist-packages (from pytorch-pretrained-bert) (1.9.0+cu111)\n",
      "Requirement already satisfied: regex in /usr/local/lib/python3.7/dist-packages (from pytorch-pretrained-bert) (2019.12.20)\n",
      "Requirement already satisfied: typing-extensions in /usr/local/lib/python3.7/dist-packages (from torch>=0.4.1->pytorch-pretrained-bert) (3.7.4.3)\n",
      "Collecting s3transfer<0.6.0,>=0.5.0\n",
      "  Downloading s3transfer-0.5.0-py3-none-any.whl (79 kB)\n",
      "\u001b[K     |████████████████████████████████| 79 kB 7.1 MB/s \n",
      "\u001b[?25hCollecting botocore<1.23.0,>=1.22.12\n",
      "  Downloading botocore-1.22.12-py3-none-any.whl (8.1 MB)\n",
      "\u001b[K     |████████████████████████████████| 8.1 MB 30.3 MB/s \n",
      "\u001b[?25hCollecting jmespath<1.0.0,>=0.7.1\n",
      "  Downloading jmespath-0.10.0-py2.py3-none-any.whl (24 kB)\n",
      "Requirement already satisfied: python-dateutil<3.0.0,>=2.1 in /usr/local/lib/python3.7/dist-packages (from botocore<1.23.0,>=1.22.12->boto3->pytorch-pretrained-bert) (2.8.2)\n",
      "Collecting urllib3<1.27,>=1.25.4\n",
      "  Downloading urllib3-1.26.7-py2.py3-none-any.whl (138 kB)\n",
      "\u001b[K     |████████████████████████████████| 138 kB 33.7 MB/s \n",
      "\u001b[?25hRequirement already satisfied: six>=1.5 in /usr/local/lib/python3.7/dist-packages (from python-dateutil<3.0.0,>=2.1->botocore<1.23.0,>=1.22.12->boto3->pytorch-pretrained-bert) (1.15.0)\n",
      "  Downloading urllib3-1.25.11-py2.py3-none-any.whl (127 kB)\n",
      "\u001b[K     |████████████████████████████████| 127 kB 50.8 MB/s \n",
      "\u001b[?25hRequirement already satisfied: idna<3,>=2.5 in /usr/local/lib/python3.7/dist-packages (from requests->pytorch-pretrained-bert) (2.10)\n",
      "Requirement already satisfied: chardet<4,>=3.0.2 in /usr/local/lib/python3.7/dist-packages (from requests->pytorch-pretrained-bert) (3.0.4)\n",
      "Requirement already satisfied: certifi>=2017.4.17 in /usr/local/lib/python3.7/dist-packages (from requests->pytorch-pretrained-bert) (2021.5.30)\n",
      "Installing collected packages: urllib3, jmespath, botocore, s3transfer, boto3, pytorch-pretrained-bert\n",
      "  Attempting uninstall: urllib3\n",
      "    Found existing installation: urllib3 1.24.3\n",
      "    Uninstalling urllib3-1.24.3:\n",
      "      Successfully uninstalled urllib3-1.24.3\n",
      "\u001b[31mERROR: pip's dependency resolver does not currently take into account all the packages that are installed. This behaviour is the source of the following dependency conflicts.\n",
      "datascience 0.10.6 requires folium==0.2.1, but you have folium 0.8.3 which is incompatible.\u001b[0m\n",
      "Successfully installed boto3-1.19.12 botocore-1.22.12 jmespath-0.10.0 pytorch-pretrained-bert-0.6.2 s3transfer-0.5.0 urllib3-1.25.11\n",
      "Collecting seqeval\n",
      "  Downloading seqeval-1.2.2.tar.gz (43 kB)\n",
      "\u001b[K     |████████████████████████████████| 43 kB 1.8 MB/s \n",
      "\u001b[?25hRequirement already satisfied: numpy>=1.14.0 in /usr/local/lib/python3.7/dist-packages (from seqeval) (1.19.5)\n",
      "Requirement already satisfied: scikit-learn>=0.21.3 in /usr/local/lib/python3.7/dist-packages (from seqeval) (0.22.2.post1)\n",
      "Requirement already satisfied: scipy>=0.17.0 in /usr/local/lib/python3.7/dist-packages (from scikit-learn>=0.21.3->seqeval) (1.4.1)\n",
      "Requirement already satisfied: joblib>=0.11 in /usr/local/lib/python3.7/dist-packages (from scikit-learn>=0.21.3->seqeval) (1.0.1)\n",
      "Building wheels for collected packages: seqeval\n",
      "  Building wheel for seqeval (setup.py) ... \u001b[?25l\u001b[?25hdone\n",
      "  Created wheel for seqeval: filename=seqeval-1.2.2-py3-none-any.whl size=16181 sha256=e8bc5a6761f1e76aa0a72bb59f8a9f4e4c07fd78fb3b1361cf970dabe76a53fe\n",
      "  Stored in directory: /root/.cache/pip/wheels/05/96/ee/7cac4e74f3b19e3158dce26a20a1c86b3533c43ec72a549fd7\n",
      "Successfully built seqeval\n",
      "Installing collected packages: seqeval\n",
      "Successfully installed seqeval-1.2.2\n"
     ]
    }
   ],
   "source": [
    "import numpy as np \n",
    "import pandas as pd \n",
    "\n",
    "import os\n",
    "#print(os.listdir(\"../input\"))\n",
    "!pip install pytorch-pretrained-bert\n",
    "!pip install seqeval\n"
   ]
  },
  {
   "cell_type": "markdown",
   "metadata": {
    "id": "bRriQnXBn-2z"
   },
   "source": [
    "Reading the data"
   ]
  },
  {
   "cell_type": "code",
   "execution_count": 2,
   "metadata": {
    "_cell_guid": "79c7e3d0-c299-4dcb-8224-4455121ee9b0",
    "_uuid": "d629ff2d2480ee46fbb7e2d37f6b5fab8052498a",
    "colab": {
     "base_uri": "https://localhost:8080/"
    },
    "id": "cAgLy2qp9TRu",
    "outputId": "32dd2f88-9d64-49b7-f1e6-54253add3788"
   },
   "outputs": [
    {
     "name": "stderr",
     "output_type": "stream",
     "text": [
      "b'Skipping line 7200: expected 25 fields, saw 26\\n'\n"
     ]
    }
   ],
   "source": [
    "dframe = pd.read_csv(\"/content/A3_dataset.csv\", encoding = \"ISO-8859-1\", error_bad_lines=False)"
   ]
  },
  {
   "cell_type": "code",
   "execution_count": 3,
   "metadata": {
    "_uuid": "cb9e29cd3d9de99b21ebfedb930c4d59e813664d",
    "colab": {
     "base_uri": "https://localhost:8080/",
     "height": 256
    },
    "id": "lxWnzF3e9TRw",
    "outputId": "bfdf1321-3e86-4135-c7a3-a73505ab5d1e"
   },
   "outputs": [
    {
     "data": {
      "text/html": [
       "<div>\n",
       "<style scoped>\n",
       "    .dataframe tbody tr th:only-of-type {\n",
       "        vertical-align: middle;\n",
       "    }\n",
       "\n",
       "    .dataframe tbody tr th {\n",
       "        vertical-align: top;\n",
       "    }\n",
       "\n",
       "    .dataframe thead th {\n",
       "        text-align: right;\n",
       "    }\n",
       "</style>\n",
       "<table border=\"1\" class=\"dataframe\">\n",
       "  <thead>\n",
       "    <tr style=\"text-align: right;\">\n",
       "      <th></th>\n",
       "      <th>Unnamed: 0</th>\n",
       "      <th>lemma</th>\n",
       "      <th>next-lemma</th>\n",
       "      <th>next-next-lemma</th>\n",
       "      <th>next-next-pos</th>\n",
       "      <th>next-next-shape</th>\n",
       "      <th>next-next-word</th>\n",
       "      <th>next-pos</th>\n",
       "      <th>next-shape</th>\n",
       "      <th>next-word</th>\n",
       "      <th>pos</th>\n",
       "      <th>prev-iob</th>\n",
       "      <th>prev-lemma</th>\n",
       "      <th>prev-pos</th>\n",
       "      <th>prev-prev-iob</th>\n",
       "      <th>prev-prev-lemma</th>\n",
       "      <th>prev-prev-pos</th>\n",
       "      <th>prev-prev-shape</th>\n",
       "      <th>prev-prev-word</th>\n",
       "      <th>prev-shape</th>\n",
       "      <th>prev-word</th>\n",
       "      <th>sentence_idx</th>\n",
       "      <th>shape</th>\n",
       "      <th>word</th>\n",
       "      <th>tag</th>\n",
       "    </tr>\n",
       "  </thead>\n",
       "  <tbody>\n",
       "    <tr>\n",
       "      <th>0</th>\n",
       "      <td>0</td>\n",
       "      <td>thousand</td>\n",
       "      <td>of</td>\n",
       "      <td>demonstr</td>\n",
       "      <td>NNS</td>\n",
       "      <td>lowercase</td>\n",
       "      <td>demonstrators</td>\n",
       "      <td>IN</td>\n",
       "      <td>lowercase</td>\n",
       "      <td>of</td>\n",
       "      <td>NNS</td>\n",
       "      <td>__START1__</td>\n",
       "      <td>__start1__</td>\n",
       "      <td>__START1__</td>\n",
       "      <td>__START2__</td>\n",
       "      <td>__start2__</td>\n",
       "      <td>__START2__</td>\n",
       "      <td>wildcard</td>\n",
       "      <td>__START2__</td>\n",
       "      <td>wildcard</td>\n",
       "      <td>__START1__</td>\n",
       "      <td>1.0</td>\n",
       "      <td>capitalized</td>\n",
       "      <td>Thousands</td>\n",
       "      <td>O</td>\n",
       "    </tr>\n",
       "    <tr>\n",
       "      <th>1</th>\n",
       "      <td>1</td>\n",
       "      <td>of</td>\n",
       "      <td>demonstr</td>\n",
       "      <td>have</td>\n",
       "      <td>VBP</td>\n",
       "      <td>lowercase</td>\n",
       "      <td>have</td>\n",
       "      <td>NNS</td>\n",
       "      <td>lowercase</td>\n",
       "      <td>demonstrators</td>\n",
       "      <td>IN</td>\n",
       "      <td>O</td>\n",
       "      <td>thousand</td>\n",
       "      <td>NNS</td>\n",
       "      <td>__START1__</td>\n",
       "      <td>__start1__</td>\n",
       "      <td>__START1__</td>\n",
       "      <td>wildcard</td>\n",
       "      <td>__START1__</td>\n",
       "      <td>capitalized</td>\n",
       "      <td>Thousands</td>\n",
       "      <td>1.0</td>\n",
       "      <td>lowercase</td>\n",
       "      <td>of</td>\n",
       "      <td>O</td>\n",
       "    </tr>\n",
       "    <tr>\n",
       "      <th>2</th>\n",
       "      <td>2</td>\n",
       "      <td>demonstr</td>\n",
       "      <td>have</td>\n",
       "      <td>march</td>\n",
       "      <td>VBN</td>\n",
       "      <td>lowercase</td>\n",
       "      <td>marched</td>\n",
       "      <td>VBP</td>\n",
       "      <td>lowercase</td>\n",
       "      <td>have</td>\n",
       "      <td>NNS</td>\n",
       "      <td>O</td>\n",
       "      <td>of</td>\n",
       "      <td>IN</td>\n",
       "      <td>O</td>\n",
       "      <td>thousand</td>\n",
       "      <td>NNS</td>\n",
       "      <td>capitalized</td>\n",
       "      <td>Thousands</td>\n",
       "      <td>lowercase</td>\n",
       "      <td>of</td>\n",
       "      <td>1.0</td>\n",
       "      <td>lowercase</td>\n",
       "      <td>demonstrators</td>\n",
       "      <td>O</td>\n",
       "    </tr>\n",
       "    <tr>\n",
       "      <th>3</th>\n",
       "      <td>3</td>\n",
       "      <td>have</td>\n",
       "      <td>march</td>\n",
       "      <td>through</td>\n",
       "      <td>IN</td>\n",
       "      <td>lowercase</td>\n",
       "      <td>through</td>\n",
       "      <td>VBN</td>\n",
       "      <td>lowercase</td>\n",
       "      <td>marched</td>\n",
       "      <td>VBP</td>\n",
       "      <td>O</td>\n",
       "      <td>demonstr</td>\n",
       "      <td>NNS</td>\n",
       "      <td>O</td>\n",
       "      <td>of</td>\n",
       "      <td>IN</td>\n",
       "      <td>lowercase</td>\n",
       "      <td>of</td>\n",
       "      <td>lowercase</td>\n",
       "      <td>demonstrators</td>\n",
       "      <td>1.0</td>\n",
       "      <td>lowercase</td>\n",
       "      <td>have</td>\n",
       "      <td>O</td>\n",
       "    </tr>\n",
       "    <tr>\n",
       "      <th>4</th>\n",
       "      <td>4</td>\n",
       "      <td>march</td>\n",
       "      <td>through</td>\n",
       "      <td>london</td>\n",
       "      <td>NNP</td>\n",
       "      <td>capitalized</td>\n",
       "      <td>London</td>\n",
       "      <td>IN</td>\n",
       "      <td>lowercase</td>\n",
       "      <td>through</td>\n",
       "      <td>VBN</td>\n",
       "      <td>O</td>\n",
       "      <td>have</td>\n",
       "      <td>VBP</td>\n",
       "      <td>O</td>\n",
       "      <td>demonstr</td>\n",
       "      <td>NNS</td>\n",
       "      <td>lowercase</td>\n",
       "      <td>demonstrators</td>\n",
       "      <td>lowercase</td>\n",
       "      <td>have</td>\n",
       "      <td>1.0</td>\n",
       "      <td>lowercase</td>\n",
       "      <td>marched</td>\n",
       "      <td>O</td>\n",
       "    </tr>\n",
       "  </tbody>\n",
       "</table>\n",
       "</div>"
      ],
      "text/plain": [
       "   Unnamed: 0     lemma next-lemma  ...        shape           word tag\n",
       "0           0  thousand         of  ...  capitalized      Thousands   O\n",
       "1           1        of   demonstr  ...    lowercase             of   O\n",
       "2           2  demonstr       have  ...    lowercase  demonstrators   O\n",
       "3           3      have      march  ...    lowercase           have   O\n",
       "4           4     march    through  ...    lowercase        marched   O\n",
       "\n",
       "[5 rows x 25 columns]"
      ]
     },
     "execution_count": 3,
     "metadata": {},
     "output_type": "execute_result"
    }
   ],
   "source": [
    "dframe.head()"
   ]
  },
  {
   "cell_type": "code",
   "execution_count": 4,
   "metadata": {
    "_uuid": "c598cf2c955b71ac3371bf6ebb19169b5734e5f5",
    "id": "psG8otB69TRw"
   },
   "outputs": [],
   "source": [
    "dataset=dframe.drop(['Unnamed: 0', 'lemma', 'next-lemma', 'next-next-lemma', 'next-next-pos',\n",
    "       'next-next-shape', 'next-next-word', 'next-pos', 'next-shape',\n",
    "       'next-word', 'prev-iob', 'prev-lemma', 'prev-pos',\n",
    "       'prev-prev-iob', 'prev-prev-lemma', 'prev-prev-pos', 'prev-prev-shape',\n",
    "       'prev-prev-word', 'prev-shape', 'prev-word','shape'],axis=1)\n",
    "\n",
    "#dataset = dframe.dropdframe.drop([])"
   ]
  },
  {
   "cell_type": "code",
   "execution_count": 5,
   "metadata": {
    "_uuid": "c31cfa31598d78e73db241816ee8f7d98e7b320f",
    "colab": {
     "base_uri": "https://localhost:8080/",
     "height": 202
    },
    "id": "5tFVIgyy9TRx",
    "outputId": "595204f5-b4c2-498f-f6e2-c0d6ed184234"
   },
   "outputs": [
    {
     "data": {
      "text/html": [
       "<div>\n",
       "<style scoped>\n",
       "    .dataframe tbody tr th:only-of-type {\n",
       "        vertical-align: middle;\n",
       "    }\n",
       "\n",
       "    .dataframe tbody tr th {\n",
       "        vertical-align: top;\n",
       "    }\n",
       "\n",
       "    .dataframe thead th {\n",
       "        text-align: right;\n",
       "    }\n",
       "</style>\n",
       "<table border=\"1\" class=\"dataframe\">\n",
       "  <thead>\n",
       "    <tr style=\"text-align: right;\">\n",
       "      <th></th>\n",
       "      <th>pos</th>\n",
       "      <th>sentence_idx</th>\n",
       "      <th>word</th>\n",
       "      <th>tag</th>\n",
       "    </tr>\n",
       "  </thead>\n",
       "  <tbody>\n",
       "    <tr>\n",
       "      <th>0</th>\n",
       "      <td>NNS</td>\n",
       "      <td>1.0</td>\n",
       "      <td>Thousands</td>\n",
       "      <td>O</td>\n",
       "    </tr>\n",
       "    <tr>\n",
       "      <th>1</th>\n",
       "      <td>IN</td>\n",
       "      <td>1.0</td>\n",
       "      <td>of</td>\n",
       "      <td>O</td>\n",
       "    </tr>\n",
       "    <tr>\n",
       "      <th>2</th>\n",
       "      <td>NNS</td>\n",
       "      <td>1.0</td>\n",
       "      <td>demonstrators</td>\n",
       "      <td>O</td>\n",
       "    </tr>\n",
       "    <tr>\n",
       "      <th>3</th>\n",
       "      <td>VBP</td>\n",
       "      <td>1.0</td>\n",
       "      <td>have</td>\n",
       "      <td>O</td>\n",
       "    </tr>\n",
       "    <tr>\n",
       "      <th>4</th>\n",
       "      <td>VBN</td>\n",
       "      <td>1.0</td>\n",
       "      <td>marched</td>\n",
       "      <td>O</td>\n",
       "    </tr>\n",
       "  </tbody>\n",
       "</table>\n",
       "</div>"
      ],
      "text/plain": [
       "   pos  sentence_idx           word tag\n",
       "0  NNS           1.0      Thousands   O\n",
       "1   IN           1.0             of   O\n",
       "2  NNS           1.0  demonstrators   O\n",
       "3  VBP           1.0           have   O\n",
       "4  VBN           1.0        marched   O"
      ]
     },
     "execution_count": 5,
     "metadata": {},
     "output_type": "execute_result"
    }
   ],
   "source": [
    "dataset.head()"
   ]
  },
  {
   "cell_type": "markdown",
   "metadata": {
    "id": "B4gvBBQvqMra"
   },
   "source": [
    "Preprocessing the dataset"
   ]
  },
  {
   "cell_type": "code",
   "execution_count": 6,
   "metadata": {
    "_uuid": "27bac58d6d0a7c67a2e7ca71329ec89b86006cdc",
    "id": "zq9n23HS9TRx"
   },
   "outputs": [],
   "source": [
    "class SentenceGetter(object):\n",
    "    \n",
    "    def __init__(self, dataset):\n",
    "        self.n_sent = 1\n",
    "        self.dataset = dataset\n",
    "        self.empty = False\n",
    "        agg_func = lambda s: [(w,p, t) for w,p, t in zip(s[\"word\"].values.tolist(),\n",
    "                                                       s['pos'].values.tolist(),\n",
    "                                                        s[\"tag\"].values.tolist())]\n",
    "        self.grouped = self.dataset.groupby(\"sentence_idx\").apply(agg_func)\n",
    "        self.sentences = [s for s in self.grouped]\n",
    "    \n",
    "    def get_next(self):\n",
    "        try:\n",
    "            s = self.grouped[\"Sentence: {}\".format(self.n_sent)]\n",
    "            self.n_sent += 1\n",
    "            return s\n",
    "        except:\n",
    "            return None"
   ]
  },
  {
   "cell_type": "code",
   "execution_count": 12,
   "metadata": {
    "colab": {
     "base_uri": "https://localhost:8080/"
    },
    "id": "RdqXsS8cqtBA",
    "outputId": "03d4a121-33f1-4061-d66c-061a68ca36a4"
   },
   "outputs": [
    {
     "name": "stdout",
     "output_type": "stream",
     "text": [
      "[('Thousands', 'NNS', 'O'), ('of', 'IN', 'O'), ('demonstrators', 'NNS', 'O'), ('have', 'VBP', 'O'), ('marched', 'VBN', 'O'), ('through', 'IN', 'O'), ('London', 'NNP', 'B-geo'), ('to', 'TO', 'O'), ('protest', 'VB', 'O'), ('the', 'DT', 'O'), ('war', 'NN', 'O'), ('in', 'IN', 'O'), ('Iraq', 'NNP', 'B-geo'), ('and', 'CC', 'O'), ('demand', 'VB', 'O'), ('the', 'DT', 'O'), ('withdrawal', 'NN', 'O'), ('of', 'IN', 'O'), ('British', 'JJ', 'B-gpe'), ('troops', 'NNS', 'O'), ('from', 'IN', 'O'), ('that', 'DT', 'O'), ('country', 'NN', 'O'), ('.', '.', 'O')]\n"
     ]
    }
   ],
   "source": [
    "print(getter.sentences[0]) #each sentence: list of tuples (word, pos, ner)"
   ]
  },
  {
   "cell_type": "code",
   "execution_count": 15,
   "metadata": {
    "_uuid": "9aac920912c2846b8f01e7a9fac7a1dd75f470e5",
    "colab": {
     "base_uri": "https://localhost:8080/",
     "height": 34
    },
    "id": "xVlKwn649TRz",
    "outputId": "1cab3b40-df54-4b6d-c6d1-dd27875c056f"
   },
   "outputs": [
    {
     "data": {
      "application/vnd.google.colaboratory.intrinsic+json": {
       "type": "string"
      },
      "text/plain": [
       "'Thousands of demonstrators have marched through London to protest the war in Iraq and demand the withdrawal of British troops from that country .'"
      ]
     },
     "execution_count": 15,
     "metadata": {},
     "output_type": "execute_result"
    }
   ],
   "source": [
    "sentences = [\" \".join([s[0] for s in sent]) for sent in getter.sentences]\n",
    "sentences[0]"
   ]
  },
  {
   "cell_type": "code",
   "execution_count": 16,
   "metadata": {
    "colab": {
     "base_uri": "https://localhost:8080/"
    },
    "id": "8YXQF43ZrN2E",
    "outputId": "7def3918-0058-4524-c13c-78506285eb36"
   },
   "outputs": [
    {
     "name": "stdout",
     "output_type": "stream",
     "text": [
      "['Thousands of demonstrators have marched through London to protest the war in Iraq and demand the withdrawal of British troops from that country .', 'Families of soldiers killed in the conflict joined the protesters who carried banners with such slogans as \" Bush Number One Terrorist \" and \" Stop the Bombings . \"', 'They marched from the Houses of Parliament to a rally in Hyde Park .', 'Police put the number of marchers at 10,000 while organizers claimed it was 1,00,000 .', \"The protest comes on the eve of the annual conference of Britain 's ruling Labor Party in the southern English seaside resort of Brighton .\", \"The party is divided over Britain 's participation in the Iraq conflict and the continued deployment of 8,500 British troops in that country .\", 'The London march came ahead of anti-war protests today in other cities , including Rome , Paris , and Madrid .', \"The International Atomic Energy Agency is to hold second day of talks in Vienna Wednesday on how to respond to Iran 's resumption of low-level uranium conversion .\", 'Iran this week restarted parts of the conversion process at its Isfahan nuclear plant .', 'Iranian officials say they expect to get access to sealed sensitive parts of the plant Wednesday , after an IAEA surveillance system begins functioning .', 'The step will allow the facility to operate at full capacity .', 'The European Union , with U.S. backing , has threatened to refer Iran to the U.N. Security Council , which could impose sanctions if it finds Tehran has violated the Nuclear Non-Proliferation treaty .', \"Iran 's new President Mahmoud Ahmadinejad said Tuesday that European incentives aimed at persuading Iran to end its nuclear fuel program are an insult to the Iranian nation .\", \"Two Germans and four Nigerian oil workers were kidnapped by armed militants during a raid on a boat in Nigeria 's southern oil-rich Delta region .\", 'An official with the German firm Bilfinger Berger , Thomas Horbach , said the gunmen stopped the supply boat Wednesday as it sailed from Delta State to Bayelsa State to inspect an offshore oil field owned by Royal-Dutch Shell .', 'The German firm works as a sub-contractor for Shell .', 'Militant groups frequently attack oil operations in the Niger Delta to demand social services and better job opportunities from multinational companies .', \"Poor residents often complain they have been cheated out of the huge riches extracted from their tribal lands - where the bulk of Nigeria 's 2.3 million barrels of petroleum are pumped daily .\", \"Suspected Islamist rebels have fired mortar shells at the palace used by Somalia 's interim President Abdullahi Yusuf Ahmad .\", 'It was not immediately clear if the president was in the palace in Mogadishu when the attack occurred or if anyone was hurt .', 'Local news reports said at least five mortar shells hit the palace compound and other mortars were fired elsewhere in Mogadishu Wednesday .', 'The attacks occurred after the government said it will go ahead with a reconciliation conference to which more than 1,300 Somali elders , warlords and politicians are invited .', 'Iraqi military officials say tanks and troops have arrived in the northern city Mosul for a new offensive against al Qaida in Iraq fighters .', 'Officials will not say how many troops have arrived in the Sunni Arab and Kurdish city , where bombings last week killed at least 34 people and wounded more than 200 .', 'U.S. commanders have not explained how American forces will participate in the offensive .', 'Officials say al Qaida in Iraq fighters have fled successful campaigns against them in Anbar province and Baghdad to other northern provinces .', 'Mosul is the largest city north of Baghdad and has long been a stronghold of Sunni militant fighters .', 'In other violence , U.S. officials said one American soldier was killed while on patrol in Baghdad Sunday .', 'Egyptian police have arrested at least 16 members of the opposition Muslim Brotherhood as parts of the country prepare for parliamentary runoff elections Saturday .', 'The arrests occurred Friday in Alexandria .', 'A spokesman for the Brotherhood said the arrests are an attempt to cut the Brotherhood off from its supporters and punishment for winning parliamentary seats in earlier elections .', \"The Muslim Brotherhood has tripled its strength in parliament in recent elections , raising the party 's total to 47 seats .\", \"In Saturday 's elections , voters will cast ballots in nine provinces where no candidate won a majority in the previous round of voting .\", 'The Muslim Brotherhood is banned as a political party , but it endorses so-called independent candidates whose allegiance to the party is known to voters .', 'Hardline lawmakers in Pakistan \\'s North West Frontier Province have pushed through a law that aims to ensure \" Islamic correctness \" in public places and establishes a morality police to enforce decent behavior .', 'A six-party coalition of religious based parties , the Mutahida Majlis-e-Amal , dominates the provincial assembly , so the bill was easily passed Thursday by a vote of 68-34 .', 'The provincial governor must still sign the bill before it becomes law , a step seen only as a formality .', 'The proposed law calls for setting up a \" religious police force \" to make sure people adhere to Islamic values in public places , and entertainment outlets close during weekly Friday prayers .', 'Violators could be jailed for up to six months .', 'The opposition has denounced the measure , comparing it to the draconian rule of the former Taleban in neighboring Afghanistan .', \"British police say they have arrested a man who dressed as suicide bomber at a demonstration against the publication of cartoons depicting Islam 's Prophet Muhammad .\", 'Bedfordshire police said Tuesday that Omar Khayam was arrested in Bedford for breaching the conditions of his parole .', \"Police said the British Home Office sought an investigation of Khayam 's behavior after he was photographed last week at a demonstration dressed in fatigues , a black cap , and a bulky belt .\", 'A Home Office spokesman told the Associated Press that if the behavior of a paroled offender gives cause for concern , he can be sent back to prison .', 'The AP also reports Khayam has been on parole from prison since last year after serving half his six-year sentence for drug dealing .', 'Pakistani officials say unidentified gunmen have killed three people , including a former government minister , in a semi-autonomous tribal region bordering Afghanistan .', 'The officials say prominent tribal leader Malik Faridullah Khan was traveling in South Waziristan Sunday when his vehicle was ambushed in the Kani Wam area .', 'His driver and a tribal elder were also killed .', 'No one has claimed responsibility for the killings .', 'The ambush came a day after a commander of Pakistani troops said the army has almost completely eliminated militants in South Waziristan .', 'The area became a refuge for many al-Qaida and Taleban fighters after the Taleban government was ousted in Afghanistan in 2001 .', 'A senior Pakistani military official says Pakistan wants to put what he calls the \" sordid chapter \" of proliferation by one of its top scientists behind it and build civilian nuclear ties with the United States .', 'But he says Pakistan is not ready to make the nuclear scientist , Abdul Qadeer Khan , available for direct questioning over his sale of nuclear parts and secrets to states including Iran , Libya and North Korea .', 'He said there are reasons of national sensitivities for not making him available .', 'The Pakistani official was giving a background briefing to a small group of reporters in Washington .', 'Khan admitted in 2004 that he operated a worldwide clandestine network to sell nuclear technology in the black market .', \"He was placed under house arrest in Islamabad , but not jailed because he is considered the father of Pakistan 's nuclear bomb .\", 'U.S. Army officials said Wednesday that they will not renew a controversial multi-billion dollar contract with the Halliburton company to provide logistical support to U.S. troops in Iraq and elsewhere .', 'Halliburton has been providing a long list of services , from meals to communication , for the military for several years .', 'Critics of Halliburton include auditors and congressional Democrats .', 'They say the company has produced some shoddy work and charges too much money .', 'The company strongly denies the allegations .', 'When the huge contract is put out for re-bidding , several companies will get a chance to compete for portions of the work .', 'Representatives from the Asia Pacific Economic Cooperation Business Advisory Council are holding meetings this week to finalize their annual report for APEC leaders who will hold a summit on September 8 and 9 .', \"VOA 's Nancy-Amelia Collins reports from Sydney .\", \"Energy , security , climate change , the World Trade Organization 's stalled negotiations , and investment are all expected to be among the major topics in the annual report of the APEC Business Advisory Council , known as ABAC .\", 'Tim Harcourt , the chief economist of the Australian Trade Commission , says ABAC plays an important role by informing governments where there are problems .', '\" The most important thing the business groups can do is to tell the governments where there are logjams , where there are obstacles , where things can improve , \" Harcourt said .', '\" I think actually ABAC has played a pretty good leadership on that in talking about trade facilitation and basically making sure standards are consistent and harmonious across the region . \"', 'ABAC comprises up to three members of the private sector of each of the 21 economies that make up APEC .', 'It meets three times a year .', 'It was made a permanent body in 1995 to provide an independent business perspective within APEC .', 'Members represent a range of business sectors , including medium and small businesses .', 'ABAC says there is a need for businesses to improve energy efficiency and to encourage conservation practices , and is expected to include this in its annual report .', 'Harcourt , of the Australian Trade Commission , says the ABAC report will also discuss ways to enhance regional cooperation .', '\" I reckon they \\'ll talk a little bit about customs and quarantine , a little bit about having consistent security arrangements around the region , \" Harcourt said .', '\" And I think they \\'ll want a one-stop shop in terms of combining security , immigration , customs , and quarantine together \\x85 just to make sure it \\'s more streamlined and provides more certainty . \"', 'ABAC is the only non-governmental body that has an official role and formal dialogue with the leaders of the APEC economies .', 'It will present its annual report at the APEC leaders meeting on Saturday .', \"Sudan 's government says it will order troops to end attacks immediately in Darfur , and is asking rebels to do the same .\", 'Foreign Minister Mustafa Osman Ismail says Sudanese troops will also withdraw to positions held before an April cease-fire , if rebels in the western region agree to stop attacks .', 'Mr. Ismail announced the decision after meeting with officials from the United Nations and African Union in Khartoum Sunday .', 'In recent weeks , AU officials say Sudanese troops and rebels have repeatedly violated the April truce .', 'Saturday , the head of AU forces in Darfur accused Sudanese government helicopters of bombing rebel sites in the South Darfur village of Labado .', 'Khartoum says troops were defending their positions from rebel attacks .', 'Aid workers say some relief efforts have been suspended in South Darfur due to recent attacks .', 'Indonesian police have arrested three men in connection with the October 1 Bali bombings that left 23 people dead .', 'Indonesian police said Wednesday the men were flown to Bali from neighboring Java island for questioning at Bali police headquarters .', 'Australian and French news agencies say at least one of the men arrested ( Cholily ) was captured during a series of counter-terrorism raids last week in Indonesia .', 'The raids ended with the death of alleged extremist bombmaker Azahari bin Husin .', \"Indonesian authorities blame Azahari bin Husin for orchestrating last month 's attacks in Bali as well as the 2002 Bali bombings that killed more than 200 people .\", 'Gunmen have shot and killed a Roman Catholic nun and her bodyguard at the hospital where she worked in Islamist-controlled Mogadishu , Somalia .', 'Some witnesses to the Sunday shooting said they feared the attack was linked to Muslim anger toward Pope Benedict .', 'Two men with pistols attacked the nun , Sister Leonella Sgorbati , after she finished teaching a medical school class at the hospital in southern Mogadishu .', 'Officials say one suspect was arrested .', 'In Rome , a Vatican spokesman deplored the attack and said he hoped it was an isolated event , and not irrationality arising from comments made by the Pope which angered some Muslims .', 'Authorities in Mogadishu have not determined a motive for the shooting .', 'The pope has said he meant no offense to Muslims when he quoted a 14 century Byzantine emperor as saying some teachings of the Prophet Muhammed brought evil to the world .', 'Pakistani forces have targeted militants in the northwest for a third day , launching airstrikes that they say killed at least nine suspected insurgents .', 'Helicopter gunships Saturday pounded militant hideouts in the Orakzai tribal region , where many Taliban militants are believed to have fled to avoid an earlier military offensive in nearby South Waziristan .', 'The Pakistani military launched its offensive in Orakzai to hunt Taliban insurgents .', 'So far , nearly 100 militants have been reported killed in the region since Thursday .', 'On Friday , five soldiers were killed when dozens of militants stormed a military checkpoint in Orakzai .', 'At least 32 suspected militants were killed when troops launched a counter-attack .', 'Elsewhere in the northwest , authorities on Saturday found the bodies of six people who had been shot dead in the Kurram region along the Afghan border .', 'The six were kidnapped a few days ago .', 'The U.S. military in Afghanistan says coalition forces killed 14 Taleban militants in separate clashes this week .', 'The military said Saturday 13 guerrillas were killed in two encounters in the central province of Uruzgan .', 'One Afghan soldier was killed and four others , including a U.S. soldier , were injured in the fighting .', 'Another militant was killed by U.S. troops in eastern Paktika province .', 'Separately , officials say four British soldiers from the NATO-led peacekeeping mission were wounded early Saturday in an attack in the northern city of Mazar-e-Sharif .', 'It was not immediately clear what motivated the attack .', 'Taleban rebels are not known to operate in northern Afghanistan and the area has been spared much of the bloodshed that has plagued southern and eastern regions .', 'Russian officials say at least five more people have died from a wave of extremely cold weather gripping the nation , bringing the death toll to 43 in the past week .', 'Emergency medical officials say the five victims died in Moscow from exposure , and another 19 people are hospitalized with hypothermia .', \"Russia 's Itar-Tass news agency quotes a medical official as saying some of the victims were intoxicated or homeless .\", 'The unusually cold weather is affecting Russia , the Baltic states of Lithuania , Latvia and Estonia , and is moving into the Nordic countries .', 'The death toll is expected to rise as temperatures continue to hover around minus 30 degrees Celsius or lower overnight .', 'Emergency power rationing has been put into effect around Moscow .', \"Health officials in Vietnam say a deadly strain of the bird flu virus has killed a second Vietnamese man this week , raising the country 's death toll from the virus to 50 .\", \"Officials say the 27-year old man from Vietnam 's northern Ninh Binh province died late Thursday and tested positive for the H5N1 strain of bird flu .\", 'Officials say the man fell ill after slaughtering two chickens at his home .', 'He is the third person to die from avian influenza in Vietnam this year .', 'Not counting the latest death , the World Health Organization says 227 people around the world have died from bird flu since 2003 .', \"Most of the world 's cases , 103 , have occurred in Indonesia .\", 'Witnesses in Somalia say insurgents have burned and dragged the bodies of at least two soldiers through the streets of Mogadishu , after a clash between militants and Ethiopian forces killed seven people .', 'The violence erupted Wednesday after insurgents attacked Ethiopian tanks rolling through an insurgent stronghold near the headquarters of the former Defense Ministry in southern Mogadishu .', 'Witnesses say the Ethiopian troops returned heavy fire and that several people were wounded in the fighting .', 'Ethiopia deployed soldiers to Somalia last December to help the interim government push an Islamist movement from power .', \"Somalia 's internationally-recognized government has since been struggling to contain regular outbursts of violence by fighters loyal to the fallen Islamist movement .\", 'The African Union has deployed troops to Somalia to replace the Ethiopian forces , which Addis Ababa plans to withdraw .', 'Top Palestinian negotiator Ahmed Qureia says Israeli and Palestinian mediators have agreed to prepare a document outlining their progress toward a peace accord .', 'In remarks to reporters , Qureia said the two sides agreed during recent meetings to begin writing out their positions on all issues discussed during peace negotiations .', 'He did not elaborate on why negotiators had come to the decision .', 'Israeli Prime Minister Ehud Olmert and Palestinian President Mahmoud Abbas resumed U.S.-brokered peace talks last November , but progress has been slow .', 'The two sides have expressed hope at reaching a peace deal before U.S. President George Bush leaves office early next year .', 'But Qureia said Wednesday that reaching a peace agreement with Israel before Mr. Bush leaves office will take a \" miracle . \"', 'He told reporters in the West Bank that there is still room for progress in Israeli-Palestinian negotiations .', \"The Israeli military says Major General Udi Adam - the head of the army 's Northern Command - has announced his resignation .\", 'A military statement Wednesday , said General Adam has asked to leave his post \" as soon as possible , \" and the chief of staff has accepted the request to begin the process of his replacement .', 'Adam was widely expected to leave the army after he was pushed aside near the end of the 34-day war against Hezbollah guerrillas in Lebanon .', 'He was replaced by another general as \" coordinator of operations in Lebanon . \"', 'Israeli media say Adam had several disagreements with the army chief , Lieutenant General Dan Halutz , over the conduct of the war .', 'A Washington-based research institute says Pakistan is building a nuclear reactor that could produce enough plutonium for 40 to 50 nuclear weapons a year .', 'The Institute for Science and International Security reports that satellite photos show a possible construction site for a larger nuclear reactor near the small one in the Khushab district of Punjab province .', 'The report says such a reactor could produce over 200 kilograms of weapons-grade plutonium , good for 40 to 50 nuclear weapons a year .', 'According to some media reports , Pakistan is now capable of producing plutonium for just two warheads a year .', \"Pakistan 's Foreign Ministry spokeswoman Tasnim Aslam declined to say whether a new reactor is being constructed , but she said the presence of a nuclear weapons program and facilities at Khushab are well known .\", 'The American Diabetes Association reports the disease is the leading cause of new cases of blindness among adults .', 'It is the leading cause of kidney failure .', 'The rate of amputation is 10 times higher among those who suffer from the disease .', 'Experts say those who learn how to manage the disease early , can live healthier and more normal lives .', \"VOA 's June Soh found camps that provide children with this chronic disease a positive approach to living with diabetes while letting them just be kids .\", 'Amy Katz Narrates .', 'Cuba and Panama have said they will restore consular relations , months after Havana broke ties with Panama City for pardoning four men convicted in connection with an assassination attempt against Cuban President Fidel Castro .', 'The countries agreed to reopen their consulates , following a meeting Friday between Panamanian President Martin Torrijos and Cuban Vice President Carlos Lage .', 'The meeting took place on the sidelines of the Ibero-American Summit in San Jose , Costa Rica , where heads of state were meeting to discuss a candidate to head the Organization of American States and other regional issues .', 'Cuba severed ties with Panama in August , hours after Panamanian President Mireya Moscoso , in her final days in office , pardoned the men , preventing their extradition to Cuba .', 'They were convicted of plotting to kill Mr. Castro during the 2000 Ibero-American summit in Panama City .', 'The Israeli army has killed a Palestinian youth in the northern Gaza Strip and wounded at least three other people .', 'The army says it targeted a man who was collecting a rocket launcher from an area used to fire rockets at Israel recently .', 'Palestinian medical sources say the Israeli strike killed a teenager .', 'The Israeli military began an offensive in Gaza after militants kidnapped an Israeli soldier in June .', 'More than 200 Palestinians have been killed in the offensive .', 'On Sunday , Palestinian Prime Minister Ismail Haniyeh said his Hamas-led government will not recognize Israel .', 'He said an Arab peace plan for the region is problematic because it requires Palestinians to recognize Israel in exchange for an Israeli pullout from Palestinian territories .', 'He spoke after a week of deadly political infighting between Hamas and the rival Fatah party of President Mahmoud Abbas .', 'U.S. automaker Chrysler has opened a $ 570 million engine plant in northern Mexico .', \"During the ceremonial startup of the Saltillo plant Friday , Mexican President Felipe Calderon said Chrysler 's sixth plant in Mexico will create 700 jobs .\", 'Mr. Calderon said Mexico has become a worldwide leader in the auto industry .', 'Chrysler plans to build its new fuel-efficient Pentastar V-6 engine for Chrysler , Dodge , Jeep and Ram vehicles .', 'Mexican officials say the new plant will have the capacity to build 4,40,000 engines per year .', 'A U.S. jury has found that drug maker Merck is not liable for the heart attack suffered by a man taking its painkiller Vioxx .', 'The New Jersey jurists agreed with Merck that job stress and health risks caused the 60-year old postal worker to have a heart attack four years ago .', 'The plaintiff argued Vioxx was responsible .', \"The jury also rejected the man 's claim that Merck failed to properly warn users about the drug 's risks .\", 'Merck withdrew the popular drug last year after a study showed it doubled the risk of heart problems in long-term users .', 'Merck is facing thousands of other lawsuits over Vioxx .', \"Thursday 's verdict is only the second in a Vioxx case .\", 'In the first , Merck was ordered to pay millions of dollars to the widow of a Vioxx user .', 'Merck is appealing that decision .', 'The rumors are TRUE : Nicole Ritchie is pregnant .', \"Speaking to ABC News interviewer Dianne Sawyer , the 25-year-old co-star of TV 's The Simple Life said she is almost four months along in her pregnancy .\", 'She said the father is her boyfriend , Joel Madden of the rock band Good Charlotte .', 'Ritchie also spoke about her guilty plea last week to driving under the influence and the resulting four-day jail sentence .', '\" I have a responsibility and it \\'s something that I did wrong , and if I could personally apologize to every single person that has lost a loved one from drunk driving , I would , \" she said .', '\" And unfortunately I ca n\\'t , but this is my way of paying my dues and taking responsibility and being an adult . \"', 'The interview airs August 2 and 3 on Good Morning America , and later August 3 on 20/20 .', 'U.S. Senator John Warner of the southeastern state of Virginia , a prominent Republican figure in the debate over the war in Iraq , says he will retire after finishing his term in 2009 .', 'Warner told supporters outside of the University of Virginia Friday that he will not seek a sixth term in the 2008 elections .', \"The former chairman of the powerful Senate Armed Services Committee has openly criticized President Bush 's handling of the war in Iraq .\", 'He called on Mr. Bush earlier this month to begin withdrawing some U.S. troops from Iraq .', 'His retirement will leave open what would have been a relatively safe seat for Republicans in the fight for Senate control in the elections .', 'Democrats will now have a better chance to protect or expand their one-seat majority in the Senate .', 'When he leaves office , the 80-year-old former Navy secretary will have served 30 years as a U.S. senator .', \"The United Nations says December 's Indian Ocean tsunami caused around $ 520 million in damage to fishing industries in seven of the worst hit countries .\", \"The U.N. 's Food and Agricultural Organization ( FAO ) said the tsunami destroyed or damaged more than 1,11,000 fishing vessels in the region .\", 'It said the loss was significant in a region where fishing provides a vital source of food .', \"The FAO 's estimate includes damage to fishing industries in Indonesia , Maldives , Somalia , Sri Lanka and Thailand .\", 'The agency says it has sent experts to help rebuild fishing industry infrastructure lost in the disaster and is developing strategies for long-term recovery in the region .', \"Officials in Indonesia say another person has died from bird flu , bringing the country 's death toll from the disease to 96 since the outbreak started in 2003 .\", 'The latest victim was a 16-year-old girl from the town of Bekasi , on the eastern outskirts of Jakarta .', 'Officials say she died Tuesday .', 'Monday , officials reported that a 32-year-old woman from an area just west of Jakarta died of bird flu last week , at her home in the city of Tangerang .', \"A statement from the health ministry said the woman 's family kept chickens in their backyard .\", 'Humans are usually infected with bird flu by direct contact with infected poultry , but experts fear the H5N1 virus may mutate into a form easily transmitted between people .', 'Scientists fear such a mutation could spark a global pandemic with a potential death toll of millions .', \"Thailand says it has photo evidence to prove its claim that Islamic militants responsible for violence in Thailand 's Muslim-majority south are training in neighboring Malaysia .\", \"Thai Deputy Interior Minister Sutham Saengprathum says the photos show the militants training in Malaysia 's northern Kelantan state , which borders southern Thailand .\", 'He said if Malaysia wants to see the photos , Bangkok will provide them .', 'Thai Prime Minister Thaksin Shinawatra has said he believes some of the insurgents have been trained in Malaysia , Indonesia and southern Thailand .', \"Malaysia and Indonesia have demanded proof of Bangkok 's allegations .\", 'More than 500 people have been killed this year in an insurgency that some say is supported by extremist Muslims in Indonesia and Malaysia .', 'Anti-Japanese protests in the western Chinese city of Shanghai turned violent Saturday , with protesters pelting the Japanese consulate with rocks , bottles and eggs .', \"Several thousand people took to the streets of Shanghai as part of a new wave of anti-Japanese protests over Japan 's bid for a permanent seat on the U.N. Security Council and Tokyo 's alleged downplaying of war atrocities .\", 'In Beijing , police are out in force waiting for protests to begin in the capital .', \"State Councilor Tang Jiaxuan told the official Xinhua news agency that China 's government is urging people to protest in a calm and orderly manner .\", \"Japan 's Foreign Minister , Nobutaka Machimura , arrives Sunday in Beijing for talks with his Chinese counterpart , Li Zhaoxing , to discuss relations between the two countries .\", 'Organizers of the 2012 Summer Olympics in London have promised the \" greenest games \" in history and sought to soothe concerns about the rising cost of the event .', 'With 2,012 days to go until the Games get under way , organizers said the design would champion low waste , low carbon emissions and environmentally friendly transportation .', 'The Olympic Delivery Authority has promised to cut emissions 50 percent by generating energy on site and using renewable energy .', 'Prime Minister Tony Blair said London is farther ahead in preparations at this stage than any other previous Olympic host city .', 'The British government wants to have the Olympic budget finalized early this year , but costs have already risen substantially since London won the bid in July of 2005 .', \"A select committee report due Wednesday is expected to be highly critical of the government 's financing of the Games .\", \"China 's giant pandas have been on endangered species lists for nearly 30 years .\", 'There are only about 1,600 pandas still living in the wild in China .', 'One of the 2008 Olympic mascots is modeled on a panda called Jing Jing .', \"Conservationists hope she will help draw attention to the threats facing the giant panda -- one of China 's national symbols .\", \"Sam Beattie reports from Jing Jing 's home in Sichuan province .\", 'British defense officials say 14 British military personnel have been killed in a crash of a NATO aircraft in southern Afghanistan .', 'A NATO spokesman says the aircraft went off the radar and crashed in an open area near Kandahar Saturday .', \"Officials say the aircraft was supporting a NATO mission in the country 's south , but there is no indication of enemy action causing the crash .\", 'The crash comes as NATO forces launched an offensive to drive Taleban remnants out of Kandahar .', 'Officials say \" Operation Medusa \" is aimed at removing the Taleban threat so that stability , reconstruction and development can be achieved in the area .', 'Sri Lankan authorities say a prominent Tamil journalist was found shot dead Friday in Colombo , hours after he was abducted by several attackers as he left a restaurant .', \"Dharmeratnam Sivaram was a board member of the pro-rebel TamilNet Web site and a columnist for Sri Lanka 's english newspaper , the Daily Mirror .\", \"Mr. Sivaram 's Web site became popular for ongoing reports on the Sri Lankan civil war and was a prominent supporter of the Tamil Tiger rebel movement .\", 'Mr. Sivaram , who was also brutally attacked in 2001 , was found near a lake gagged with gunshot wounds to the head .', 'No one claimed responsibility for the killing .', 'Japan and North Korea say they are considering a resumption of bilateral talks as part of efforts to normalize relations .', 'Japanese media reported Monday that the two countries hope to arrange to hold the talks in Beijing in early November .', \"The talks could come before six-party talks on North Korea 's nuclear ambitions resume .\", 'Japan and North Korea have not had formal bilateral talks for about a year .', \"Tokyo and Pyongyang are at odds over North Korea 's nuclear weapons program and the North 's kidnapping of Japanese citizens in the 1970s and 1980s .\", 'A human rights group has accused coalition forces in Iraq of failing to secure evidence considered vital to the upcoming war crimes trial of former Iraqi leader Saddam Hussein .', 'Human Rights Watch , in a report released Thursday , said coalition forces failed to stop people from stealing thousands of Iraqi government documents in the months after the 2003 invasion of Iraq .', 'The group also accused troops of failing to stop people from damaging several mass graves in the war-torn country .', 'The Associated Press quotes a U.S. Defense Department spokeswoman as saying it has not reviewed the report .', 'Saddam Hussein was arraigned in July at a U.S. military base on the outskirts of Baghdad .', 'He faces charges of war crimes , genocide and crimes against humanity .', \"Egypt 's government and the World Health Organization say three Egyptian children have been hospitalized with the deadly form of avian flu .\", 'The children come from different parts of the country .', 'WHO says they are receiving treatment and are in stable condition .', 'The organization says the children had a history of contact with dead birds .', 'Thirty two Egyptians have contracted the H5N1 form of avian flu .', 'Thirteen of them have died .', 'Egypt has had the largest number of human bird flu cases outside of Asia .', 'The head of the U.N. investigation into the Iraq oil-for-food program says Saddam Hussein illegally obtained more money from oil smuggling than from corruption in the U.N. program .', 'Former U.S. Federal Reserve Chairman Paul Volcker says the smuggling began before the start of the oil-for-food program , and was known to the United Nations Security Council .', 'In an interview with the U.S. government-funded alHurra television station , Mr. Volcker said there is a lot of confusion about how much money Saddam obtained from the oil-for-food program itself .', 'He refused to provide specific estimates , but said large amounts that have been reported in the media were from smuggling and not from funds diverted from the program .', \"The United Nations created the oil-for-food program after the first Gulf War to allow Iraq to sell oil and use the profits for the Iraqi people 's humanitarian needs .\", \"Kyrgyzstan 's Justice Ministry says four people , including parliament member Tynychbek Akmatbayev , have been killed at a prison near Bishkek after inmates took them hostage .\", 'Interior Minister Murat Sutalinov is at the prison to head negotiations with the inmates .', 'The ministry gave no other details .', 'It is not clear if the hostage-takers made any demands .', 'Mr. Akmatbayev was involved in negotiations on Wednesday at another Kyrgyz prison where a riot over poor living conditions forced the staff to evacuate earlier this week .', 'That prison , also near Bishkek , remained surrounded by security forces on Thursday .', 'A commercial airplane taking off from Western Europe has landed in Iraq for the first time in nearly 20 years .', \"The plane , operated by France 's Aigle Azur airline , took off from Charles De Gaulle airport in Paris late Saturday and touched down at Baghdad International Airport early Sunday .\", 'Officials said this first flight was largely ceremonial , and that most of the passengers were French diplomats and business leaders .', 'One of the passengers , French Foreign Trade Minister Anne-Marie Idrac , called it a historic day for cooperation between France and Iraq .', 'Regular service between Paris and Baghdad is not expected to start for at least several weeks .', 'Aigle Azur is just one of a number of airlines to start flying to Baghdad .', 'Etihad and Emirates airlines , both operating out of the United Arab Emirates , started flying to Baghdad earlier this year .', 'A new government report shows U.S. businesses added a moderate 1,11,000 new jobs in January .', 'The Labor Department Friday issued a report that also showed the U.S. unemployment rate increased for the first time in three months - to 4.6 percent .', 'According to the report , American workers earned an average of $ 17.09 an hour in January - a slight increase from the previous month .', 'Analysts say the Department of Labor report will help ease worries that a tight labor market will significantly inflate wages and costs .', 'Earlier this week , the U.S. central bank decided to maintain a key interest rate , despite the risk of inflation .', \"Venezuelan President Hugo Chavez has denounced Colombia 's defense minister as an obstacle to peace and a pawn of the United States .\", \"Mr. Chavez reacted sharply Sunday to the defense minister 's remarks about a meeting between Mr. Chavez and Colombian President Alvaro Uribe .\", 'The two presidents met Friday to try to mend ties between their countries .', 'After the meeting , Colombian Defense Minister Juan Manuel Santos said he hoped Venezuela would follow through with promises made during the meeting .', 'During a televised speech Sunday , Mr. Chavez called on President Uribe to put his defense minister in his place .', 'Tensions between the two countries rose in March when Colombia attacked a rebel camp in Ecuador .', 'Venezuela responded by sending troops to the Colombian border .', 'China has lashed out at a U.S. report critical of Chinese policies on religious freedom , saying such criticism could harm U.S. - China relations .', 'In its annual report issued Wednesday , the U.S. Commission on International Religious Freedom said China continues to be responsible for pervasive and severe violations of religious freedom , regularly imprisoning and harassing religious leaders and practitioners .', 'In a statement Saturday Chinese Foreign Ministry spokesman Liu Jianchao accused the U.S. body of attempting to interfere with Chinese internal affairs under the guise of religious freedom .', 'He said such criticism runs counter to the good development of U.S - China relations .', 'Liu said China protects the religious freedom of Chinese citizens according to law , and that citizens enjoy full freedom of religion .', \"China 's communist government allows worship only in state-approved and state-monitored churches , temples and mosques .\", 'People who worship in unauthorized ways are subject to arrest .', 'President Bush has issued 14 pardons to convicted criminals , and has commuted the prison sentences of two others .', 'The pardons , announced Monday , include no high-profile names .', 'They were for people convicted of such acts as bank embezzlement , making FALSE statements to the federal government , unlawfully killing wildlife , and committing drug offenses .', \"Including Monday 's actions , Mr. Bush has granted 171 pardons and commuted eight sentences while U.S. president .\", \"Pardons are one of the president 's absolute powers , and in recent years it has become typical for the president to issue pardons as he prepares to leave office .\", 'White House officials say he made the pardon decisions on a case-by-case basis , and will continue to review clemency requests .', \"Uganda 's government and rebels of the Lord 's Resistance Army are nearing a peace deal to end more than 20 years of conflict .\", 'Officials close to the negotiations say an accord signed Friday provides for the disarmament and demobilization of the LRA .', 'The two sides signed a permanent cease-fire agreement last Saturday during peace talks in Sudan .', 'However , there is still uncertainty the rebels will sign the final peace deal until rebel leader Joseph Kony is granted immunity from international prosecution .', 'Kony is one of five LRA officials sought by the International Criminal Court for alleged war crimes .', 'LRA fighters are accused of murdering thousands of civilians and raping and mutilating others during the long insurgency in northern Uganda .', \"World number one men 's tennis player Roger Federer has been nearly unbeatable in the past year .\", 'But his warmup for the Australian Open has abruptly ended with a rare loss .', 'The Swiss star was upset Wednesday by German Tommy Haas in the opening match of the Kooyong Classic in Melbourne .', 'Because he was playing in exhibition tournament , the loss will not count on his Association of Tennis Professionals Tour record .', 'The 41st ranked Haas fended off three break points while serving for the match and closed a 03-Jun , 06-Apr , 06-Apr win with an ace .', 'Federer said he is completely healthy and has no concerns that the ankle problem that curtailed his last season would flare up before the Australian Open , which starts Monday .', \"The European Space Agency says it has received the first images and scientific readings from the surface of Saturn 's moon Titan .\", 'Officials at agency headquarters in Germany Friday say information taken from the Huygens space probe show what looks like drainage channels on the moon .', 'They say the surface has canyons that were most likely caused by some type of liquid .', \"The space probe began transmitting data to the Cassini spacecraft while landing on Saturn 's largest moon earlier Friday .\", 'Scientists say the information from Huygens - operated jointly by the American , European and Italian space agencies - may provide clues about how primitive Earth evolved into a life-bearing planet .', 'Ugandan opposition leader Kizza Besigye has been released on bail , after a judge ruled his detention by the military was illegal .', \"Police fired tear gas to disperse hundreds of Dr. Besigye 's supporters who took to the streets in Kampala after his release Monday .\", \"Uganda 's military had detained Dr. Besigye since November , when he returned from self-imposed exile to run against President Yoweri Museveni in next month 's presidential election .\", 'A military tribunal has charged Dr. Besigye with terrorism and possessing illegal weapons .', 'But a Ugandan High Court Judge , John Bosco Katutsi , said his detention was illegal because the High Court had suspended the military trial .', 'Dr. Besigye still faces rape charges , for which a civilian trial began Monday .', 'He has denied all the charges , which supporters say were trumped up to keep him from running for president .', 'U.S. President Barack Obama says improvements in the American health care system are inevitable .', 'Mr. Obama made his comments in the White House Rose Garden Monday as he nominated an African-American woman , Regina Benjamin , to become the U.S. Surgeon General .', 'The president said \" naysayers and cynics \" should not bet against the passage of health insurance legislation .', 'He also said inaction on the issue is not an option .', 'Mr. Obama has vowed to sign a health care bill into law this year', 'decisively to stop militant attacks .', 'He also said he will not hold talks with Palestinian leader Mahmoud Abbas until the attacks stop .', 'A draft peace proposal under consideration by the Afghan government could offer Taliban leaders exile overseas if they agree to stop fighting .', 'The draft plan , seen by reporters for British news organizations Reuters and the Guardian newspaper , also calls for \" de-radicalization \" classes for insurgents and thousands of new jobs to be created for militants who renounce violence .', 'The proposal comes weeks before a grand council of Afghans , known as a jirga , meets in Kabul on May 29 to discuss how to make peace with the insurgents .', 'Possible peace talks will be a key issue discussed when Afghan President Hamid Karzai meets with U.S. President Barack Obama in Washington this week .', 'Russia has ordered its fleet of Su-24 bombers grounded after one of the planes crashed during a training mission .', 'Air force officials said Thursday that a technical problem caused the early morning accident in the Far East Khabarovsk territory .', 'They said preliminary investigation indicates that a technical problem rather than pilot error cause the crash .', 'Russian news media say rescue helicopters found the wreckage more than a 100 kilometers away from the airfield .', 'The two pilots had ejected safely before the crash and were taken to a military hospital for a medical examination .', 'Reports say there was no damage on the ground .', 'The bomber flights are to remain suspended until investigators establish the cause of the crash .', \"Pro-Russian demonstrators in Crimea have protested against the arrival of a U.S. naval frigate in Sevastopol , the Ukrainian port where Russia 's Black Sea fleet is based .\", 'News-agency reports from Sevastopol say the demonstrators shouted \" NATO out \" and \" Yankee go home \" during their protest Wednesday .', \"Ukraine 's navy says the U.S. naval vessel is on a friendly visit to the Black Sea and is not taking part in any military exercises .\", \"Sevastopol 's naval base dates back to Soviet times .\", 'Through a lease agreement with Ukraine , Russia will operate the facility until 2017 .', \"Ukraine 's campaign to win NATO membership has been strongly opposed by Moscow , which says it will not accept any further expansion of the western alliance on Russia 's borders .\", \"Egypt 's largest opposition group defied authorities and held anti-government protests in Cairo Sunday .\", 'Several thousand riot police prevented the Muslim Brotherhood from holding a rally outside the Egyptian parliament as planned .', 'Instead , members of the group gathered in front of a Cairo mosque , shouting demands for political reforms .', 'Authorities say they arrested at least 50 protesters .', 'Estimates of the crowd range from several hundred to 3,000 .', 'Smaller protests took place at two other Cairo locations .', 'Egyptian authorities had arrested another 50 Brotherhood members before the protests .', \"The Muslim Brotherhood calls for replacing Egypt 's secular government with an Islamic state .\", \"The group was formally banned in 1954 , but its members , running in elections as independents , hold enough seats to make the Brotherhood the largest opposition group in Egypt 's parliament .\", 'Russia says it is commissioning its first unit of new mobile intercontinental ballistic missiles .', 'Monday told Russian television the new version of the Topol-M missile is capable of penetrating multi-layered missile defense systems .', \"Ivanov said the missiles will form the core of Russia 's strategic missile forces .\", 'He called them a new generation of the stationary Topol system already in service .', 'Western analysts say Topol missiles were first deployed in Russian silos in the late 1990s .', 'The new missiles reportedly can carry a 1,200 kilogram payload and have an estimated range of about 10,000 kilometers .', 'They are said to maneuver in ways that are difficult to detect .', \"A massive blast at an ammunition shop in Afghanistan 's capital leveled shops and homes , killing at least six people and wounding around nine others .\", 'Bystanders joined rescuers Wednesday to dig through the rubble of collapsed buildings in an attempt to find survivors .', 'Descriptions of the scope of the damage vary , with reports saying several to 25 buildings in Kabul were destroyed .', 'Police have not said what caused the blast in the ammunition store .', 'Also Wednesday , a suicide bomber in eastern Afghanistan blew himself up near a police convoy .', 'Police officers in Khost said at least four civilians were killed and more than 30 other people were injured , among them Afghan policemen .', 'Members of a violent Central American street gang have been sent to the southwestern U.S. state of Arizona to attack Minuteman Project volunteers , as they begin a month-long campaign to help patrol the southern U.S. border with Mexico .', \"James Gilchrist , a Minuteman organizer frustrated by the U.S. government 's failure to control illegal immigration , tells the Washington Times newspaper that leaders of Mara Salvatrucha or MS-13 have sent gang members to confront his group in Arizona .\", 'More than 1,000 civilian volunteers are expected to converge on the city of Tombstone Friday to begin a 30-day border patrol .', 'Likewise , Hispanics from the National Alliance for Human Rights are going to Tombstone to protest the Minuteman Project .', 'Last year , 5,00,000 illegal aliens were caught in Arizona .', 'MS-13 runs a major smuggling operation on the U.S.-Mexico border , running drugs , weapons and undocumented aliens from Central and South America into the United States .', \"The World Bank has approved $ 257 million in loans for business development in Colombia and a project designed to improve the country 's environment .\", 'In a statement issued Thursday , the bank says its board of directors allocated $ 250 million to fund a business productivity and efficiency project designed to create businesses , improve their access to financing , and increase overall productivity in Colombia .', 'The Bank allocated another $ 7 million to Colombia for a sustainable development project , aimed at reducing air and water pollution , improve hygiene and urban environmental management .', 'The bank is also loaning El Salvador $ 27 million to support a poverty reduction program known as Red Solidaria , designed to help the poorest Salvadorans by improving health , nutrition and education in the country .', \"Italian opposition politicians are demanding Prime Minister Silvio Berlusconi apologize for using an obscenity to refer to anyone who would vote against him in Sunday 's election .\", 'During a speech to a group of shopkeepers Tuesday , Mr. Berlusconi used a word regarded by many as an obscenity and by others as an insult .', 'He said using such language was rough but effective .', 'The remark came a day after Mr. Berlusconi traded insults in a political debate with his chief political rival , center-left leader Romano Prodi .', 'Both candidates assailed the other \\'s fiscal policies , with Mr. Berlusconi calling Prodi a \" useful idiot \" and Prodi saying the prime minister is like a \" drunkard clinging to a lamppost . \"', 'Voters go to the polls Sunday and Monday to choose a new government .', 'Polls show many of the voters are undecided .', \"Iraqi police say a roadside bombing in Baghdad Saturday killed at least two people who were taking part in a Shi'ite Muslim religious procession .\", 'The attack , in the New Baghdad district , also wounded eight others .', \"Iraqi authorities have boosted security measures as hundreds of thousands of Shi'ite pilgrims flock to Iraq 's holy shrine city of Karbala for the solemn Ashura holiday .\", 'Worshipers travel to the shrine each year to mourn the seventh-century killing of the grandson of the Prophet Muhammad .', 'Several pilgrims were killed earlier this week in a spate of attacks targeting worshipers .', \"On Friday , a roadside bomb blast killed at least six Shi'ites in the eastern Baghdad district of Sadr City .\", 'Other attacks this week in the city of Mosul targeted the Christian minority as they celebrated Christmas .', 'Are the streets in America really paved with gold ?', 'Moses Bittok probably thinks so .', 'Mr. Bittok , who immigrated from Kenya to the United States , learned last week he had a winning ticket worth nearly $ 2 million from an Iowa lottery .', 'And get this - he realized he had won shortly after taking the oath of U.S. citizenship .', 'As he cashed in his ticket , Mr. Bittok said - quote - \" It \\'s almost like you adopted a country and they netted you $ 1.8 million dollars . \"', 'He added that something like this can only happen in America .', 'A top Japanese official is calling for U.N. economic sanctions against North Korea if Pyongyang tests a nuclear device .', 'Shinzo Abe , acting secretary general of Japan \\'s ruling Liberal Democratic Party , said Sunday that it would be \" unthinkable \" for Tokyo to do nothing should North Korea conduct such a test .', 'U.S. officials have warned that North Korea may be preparing for a nuclear test , citing satellite photos they say show suspicious activity near the coastal town of Kilju .', 'Interviewed on the television program Fox News Sunday ,', 'U.S. National Security Adviser Stephen Hadley said a nuclear test would be an act of defiance , and prompt Washington and its allies to discuss new steps to punish the North Korean government .', 'North Korea has warned that it will consider any sanctions imposed against it a declaration of war .', 'Authorities in Iraq say a car bomb exploded in central Baghdad early Monday , killing at least three people and injuring two others .', 'The blast occurred near one of the gates to the heavily fortified Green Zone , where the headquarters of the Iraqi government , U.S. forces and most foreign missions are located .', 'Separately , the U.S. military says more than 35 insurgents were killed when coalition air strikes hit five targets in a small western town ( Obeidi ) near the Syrian border .', 'Officials say 25 other insurgents were captured .', \"U.S. and Iraqi forces have been operating in the Euphrates River valley to stem the flow of insurgents and supplies from across the border , ahead of next month 's parliamentary elections .\", \"On Sunday , Iraq 's Sunni Arab leaders called for an end to large-scale military operations in mostly Sunni areas , saying they may discourage Sunnis from taking part in the vote .\", 'European Union Health Commissioner Markos Kypriano says the EU is increasing its pledge for the fight against bird flu to $ 120 million .', 'The EU pledged the assistance in Beijing Tuesday at a donors conference organized by health experts to raise money to help developing countries contain bird flu .', 'The World Bank and World Health Organization are hoping to raise $ 1.5 billion from rich countries to help poorer nations fight bird flu and prevent a global pandemic .', 'The United States is expected to announce its pledge on Wednesday .', 'Swiss drugmaker Roche said it will donate another batch of Tamiflu , an anti-viral medication , to treat an additional two million people in the event of a bird flu pandemic .', 'A World Health Organization official , Margaret Chan , told the meeting there is a great risk of an epidemic , although the timing and severity is uncertain .', 'The Inter-American Development Bank says the world Haitian disapora sent more than $ 1.6 billion back to families on the impoverished island in 2006 .', \"The bank said Tuesday the money sent to Haiti from overseas equals more than one-third of the country 's gross national product .\", 'More than $ 1 billion came from the United States and the large Haitian communities in Boston , Miami , and New~York .', 'Other large contributions came from Canada , France , and the Bahamas .', 'The bank says many of the recipients of overseas money have incomes less than $ 500 a year .', 'They use the extra funds for basic expenses , while others invest it in small businesses and education for their children .', \"Ukraine 's Prime Minister Yury Yekhanurov says the signing of a controversial natural gas deal with Russia has been postponed again .\", 'The signing had already been delayed from Saturday to Wednesday .', 'But Mr. Yekhanurov says experts continue to work on the documents .', 'The draft agreement calls for Ukraine to pay Russia nearly twice as much for natural gas .', 'The new price would be $ 95 per 1,000 cubic meters , up from the previous rate of $ 50 .', 'The two sides reached the deal January 4 , after a three-day suspension of Russian gas deliveries to Ukraine .', 'The agreement triggered a political crisis in Ukraine , and parliament voted to dismiss the government .', 'The Chinese government has called for new measures to prevent the economy from overheating .', 'The official Xinhua news agency reports the State Council moved on Friday to tighten controls on fixed asset investments and money supply after concluding they increased excessively in the first quarter .', \"China 's banks doled out $ 156 billion in new loans in the first quarter , more than half the target for all of 2006 .\", 'The Chinese economy is growing at a rapid pace , topping nine percent in the last two years .', 'Leaders are concerned the pace could raise inflation rates or lead to investment in unnecessary projects .', 'The central bank said the growth of the broad money supply rose nearly 19 percent on a year-on-year basis to $ 3.9 trillion by the end of March .', \"A media rights group says Burma 's military-led government has released two Burmese journalists working for a Japanese television station .\", 'Reporters Without Borders and the Burma Media Association welcomed the release of the reporters after two days of detention .', 'They say the journalists are in good shape - despite being shaken by the incident .', 'The two journalists were arrested Monday after they went to a port near Rangoon to verify the arrival of a North Korean cargo ship .', \"The reporters , Aung Shwe Oo and his daughter , Daw Sint Sint Aung , both work for Nippon News Network 's Bangkok bureau .\", 'Images of the Indian Ocean floor show a giant landslide at the starting point of the earthquake triggered tsunami that devastated regional coastlines on December 26 .', \"The digital map has been produced by a British survey ship HMS Scott that has been collecting data off the coast of Indonesia 's Sumatra Island since early January .\", 'The probe of the area where two pieces of ocean floor collided shows a ridge of mud hundreds of meters thick where the seawater was forced up to form the tsunami .', 'Scientists on the ship say that while the data will not help predict when earthquakes will occur , it could help in warning of future tsunamis .', 'A Republican Congressman says he is temporarily stepping down from a House committee-chairman position while he is being investigated for corruption .', 'Ohio Representative Bob Ney is the second lawmaker to relinquish a House leadership post in recent months .', 'He said in a statement Sunday that the allegations against him have become a distraction to lawmakers , including those in the committee he chaired , the House Administration Committee .', 'Ney has been identified as the unnamed lawmaker that lobbyist Jack Abramoff said accepted lavish gifts and financial contributions in exchange for favors and support .', 'Abramoff has pleaded guilty to fraud and tax evasion .', 'Ney denies any wrongdoing .', 'Texas representative Tom DeLay stepped down as House Majority Leader late last year after being indicted for alleged campaign finance violations .', \"DeLay had close ties to Abramoff and some of the congressman 's aides are being investigated in the Abramoff scandal .\", \"One of the suspected bombers in the failed July 21 attacks on London 's transport system is being extradited from Italy to Britain .\", \"A plane carrying Ethiopian-born Hamdi Issac , also known as Osman Hussain , left Rome 's Ciampino airport around midday Thursday , for London .\", 'Italian police arrested the British citizen in Rome a week after the July 21 attacks , which caused no fatalities but brought chaos to London two weeks after suicide bombers killed 52 people in the British capital .', 'Hamdi Issac has admitted to taking part in the second set of attacks but has said the action was meant to scare people , not kill them .', \"Italy 's highest court upheld his extradition order on September 13 .\", 'The surging Mississippi River spilled over levees in two towns in the state of Illinois and is threatening to deluge other parts of the central United States .', 'The Army Corps of Engineers says 20 levees in the central U.S. have already overflowed - and up to 30 more are in danger of overflowing .', \"Central U.S. river towns are at risk as floodwaters that submerged parts of two of the state of Iowa 's largest cities are now flowing downstream .\", 'Residents have joined members of the National Guard in a desperate effort to strengthen levees with sandbags .', 'Meanwhile , Iowa is cleaning up after widespread flooding inundated homes , destroyed crops and cut off highways and bridges .', 'At the White House Tuesday , U.S. President George Bush expressed concern for the flood victims .', 'He is to visit Iowa Thursday to inspect the damage .', 'A U.S. government audit shows that at least 232 civilians have been killed while working on U.S. reconstruction projects in Iraq .', 'The report by the Special Inspector General for Iraq Reconstruction indicates the death toll of those employees for private contractors increased 93 percent in recent months ( the fourth quarter of 2004 ) .', 'In addition to those killed , 728 claims were filed for employees who missed more than four days of work .', 'The inspector \\'s report says \" Iraq \\'s unsettled security environment continues to present grave risks for contractors and employees . \"', \"The quarterly report sent to U.S. Congress based its information on statistics from the U.S. Labor Department compiled from workers ' compensation claims filed by all U.S. government contractors .\", 'Former Chilean dictator Augusto Pinochet has been indicted on human rights charges and placed under house arrest .', 'Judge Victor Montiglio charged General Pinochet in connection with the kidnapping and disappearance of seven people in the early years of his 1973 to 1990 rule .', 'The charges are part of a human rights case known as \" Operation Colombo , \" in which 119 dissidents disappeared while in custody .', \"Mr. Montiglio 's indictment Thursday comes six days after he questioned the ex-dictator and the former head of the secret police , Manuel Contreras , to determine responsibility for the disappearance of the 119 Pinochet foes .\", 'This is the second indictment in two days against the former dictator .', 'General Pinochet , who turns 90 on Friday , had just made bail following his indictment Wednesday on charges of tax evasion , corruption and using FALSE passports in a case involving an estimated $ 27 million hidden in foreign bank accounts .', 'Leaders of the South American trade bloc Mercosur are meeting in Venezuela to formally welcome Venezuela into the group .', 'Presidents of member nations Argentina , Brazil , Paraguay and Uruguay are to sign a document Tuesday extending voting rights and lower tariffs to Venezuela .', 'With the new member , officials say the trade bloc will account for $ 1 trillion in annual economic activity and include 250 million people .', 'Bolivian President Evo Morales also is to attend the summit for talks with his Brazilian counterpart Luiz Inacio Lula da Silva to discuss the price of gas exports to Brazil .', 'Bolivia is an associate member of Mercosur , formed in 1991 .', \"Meanwhile , Paraguay 's President Nicanor Duarte has threatened to abandon the group because of alleged protectionist trade policies by Brazil and Argentina .\", \"A strong earthquake shook Indonesia 's Aceh province just before midnight Saturday ( about 1657 UTC ) , causing residents to flee their homes in panic .\", 'The magnitude 5.8 quake was centered 33 kilometers under the Indian Ocean and about 33 kilometers northwest of the provincial capital of Banda Aceh .', 'Officials say there have been no reports of damage or casualties , but residents of the city ran out of their homes in panic after the quake jolted them awake .', 'A magnitude 9 quake off the west coast of Aceh triggered the December 26 tsunamis , which the U.S. Geological Survey says killed more than 2,75,000 people around the Indian Ocean .', 'That includes 1,31,000 in Aceh .', \"U.S. Democratic senators have criticized President Bush 's proposal to revamp Social Security , on the eve of the retirement program 's 70th anniversary .\", \"Senator John Kerry , the 2004 democratic presidential candidate , said in a radio address delivered in Spanish Saturday that the president 's proposal to add private investments accounts to the program will hurt Hispanics .\", 'Democratic Senator Ken Salazar , from Colorado said in a separate English-language radio address Saturday the president is fabricating a crisis in the retirement program so he can push through his proposals to change it .', 'President Bush says his plans will help the program avoid severe funding shortfalls over the next few decades .', 'A key part of his proposal is to allow younger workers to privately invest some of their Social Security funds which are now managed by the government .', 'More than 60 African migrants have drowned while crossing the Gulf of Aden on their way to Yemen .', 'Witnesses say at least 15 others swam to safety after their vessel sank close to the Yemeni coast .', 'The boat originated from Somalia and most of those on board are believed to have been Somalians .', 'It is not clear how the boat capsized .', 'Migrants frequently attempt the crossing to escape violence in Somalia and often rely on smugglers to help them cross .', 'They often face abuse at the hands of smugglers , with many forced to disembark offshore to avoid Yemeni coast guard patrols .', 'Earlier this month , the U.N. High Commissioner for Refugees estimated 20,000 people have made the crossing this year and said at least 439 people have died and another 489 are missing .', 'Police in Afghanistan say attackers have shot and killed an Afghan senator who briefly served as prime minister in the early 1990s .', 'Authorities say Abdul Saboor Farid was killed late Wednesday outside his home in the capital , Kabul .', \"Mr. Farid was Afghanistan 's prime minister for one month in 1992 during the chaos of a civil war that followed the defeat of the Soviet army .\", \"The motive for the senator 's killing is not clear .\", 'In another development , police say a remote-controlled roadside bomb tore through the side of an Afghan army bus Thursday in Kabul , killing the driver and wounding 29 people .', 'Taleban militants claimed responsibility for the attack .', 'Meanwhile , the British defense ministry says a British soldier serving with the NATO-led coalition in Afghanistan was killed during fighting with militants in the south .', 'NATO has launched large-scale military operations in the region recently to pre-empt an expected Taleban offensive .', 'Insurgents in Iraq killed at least nine people in attacks Sunday northeast of Baghdad .', 'Police say a roadside bomb killed four policemen and wounded nine in Baquba .', \"In another town , Balad Ruz , police say a rocket attack on a policeman 's house killed the man 's brother and four children .\", 'Military officials say on Saturday U.S. soldiers killed three gunmen who fired on a patrol in the northern town of Baiji .', 'In northern Iraq , police say the bodies of an elderly tribal leader , Ibrahim Ali al-Nuimei , and his son were found near the town of Kirkuk .', 'In a separate development , the trial of ousted leader Saddam Hussein is scheduled to resume Tuesday with a new presiding judge , and a Western diplomat says members of the former Baathist regime may testify .', 'The United States Government , Wednesday [ May 14 ] officially added polar bears to the list of threatened animals under the Endangered Species Act .', 'Bush administration scientists decided the species is at risk of becoming endangered .', 'Officials cited warming trends and loss of sea ice as threatening the bears , opening a debate over whether to regulate greenhouse gases to protect the bear and its habitat .', 'Paul Sisco reports .', 'Iranian media report that inspectors from the U.N. International Atomic Energy Agency will travel to Iran early next month .', 'News reports Saturday quote an unnamed Iranian official as saying a delegation will visit on August 6 to discuss technical issues and regulations .', \"Separately , the United Nations ' nuclear agency is set to inspect Iran 's heavy water nuclear reactor in a matter of days .\", 'That reactor is under construction in the industrial city of Arak .', 'It will produce plutonium once it is completed .', 'Enriched plutonium and uranium can be used to build nuclear weapons .', 'The U.N. Security Council has imposed two sets of sanctions on Iran because of its refusal to suspend uranium enrichment .', 'The United States and its Western allies accuse Iran of trying to develop nuclear weapons , but Iran says its atomic program is for peaceful purposes .', \"Insurgents have launched two deadly attacks against Shi'ites in Iraq , just hours after U.S. Secretary of Defense Donald Rumsfeld paid a surprise visit to American troops in the country .\", \"In the first attack , gunmen entered a bakery in a mainly Shi'ite neighborhood in Baghdad , killing at least nine people .\", \"A short time later , a car bomb exploded outside a Shi'ite mosque in the town of Balad Ruz , northeast of Baghdad .\", \"Abu Musab al-Zarqawi 's group claimed responsibility for that blast that killed 13 and injured 23 others .\", 'An American soldier was also killed when a bomb exploded in western Baghdad .', 'The violence came as Mr. Rumsfeld visited U.S. troops in Mosul and Baghdad .', 'He also observed Iraqi police and special forces perform training exercises , before he met with Iraqi interim Prime Minister Iyad Allawi .', \"Nigerian authorities say kidnappers have released a Polish oil worker seized last week in the country 's restive Niger Delta region .\", 'The officials say the Polish national was released late Sunday .', 'He was seized Thursday by six gunmen near the southern city of Warri .', 'Abduction for ransom or to press political demands is frequent in the oil-rich Niger Delta .', 'In all , more than 100 foreign oil workers have been kidnapped in the region this year .', 'Most have been released unharmed , often after a payment of ransom .', \"Some kidnappings have been carried out by criminal gangs , while others are the work of militants who want impoverished local villages to get more of the region 's oil wealth .\", 'The attacks on the oil industry have caused Nigeria to cut oil production by almost 25 percent .', 'U.S. Treasury officials have frozen the assets of an Ohio-based nonprofit group because they say it has ties to the Palestinian militant organization Hamas .', 'Officials said Sunday that the group named KindHearts has coordinated with Hamas leaders and has ties to two other U.S.-based charities accused of links to terrorism .', 'Those groups were shut down by U.S. officials in late 2001 .', \"KindHearts describes itself on its Web site as a nonprofit charitable organization administering humanitarian aid to the world 's poor .\", 'KindHearts officials have not commented on the alleged links to terrorism .', 'Hamas dominated recent Palestinian elections , but U.S. officials regard it as a terrorist organization .', \"The group refuses to recognize Israel 's right to exist and has organized suicide attacks against Israeli targets in the past .\", 'China says it has designated three parks in outlying parts of Beijing to be used for public protests during the Olympic Games next month .', \"China 's head of Olympic security , Liu Shaowu , made the announcement Wednesday at a news conference .\", 'He said protesters may stage demonstrations if they apply to the government for a permit and are approved .', 'He did not answer questions about whether foreigners could protest in the parks , or whether there would be restrictions on what people could protest about .', 'The city of Athens , Greece , designated such protest areas when it hosted the Olympic Games in 2004 .', 'The International Olympic Committee bars demonstrations at Olympic venues .', \"The international portion of the Olympic torch relay was marred in some cities earlier this year by protests against China 's rule in Tibet .\", 'Childhood obesity affects children in most countries in the world according to the International Obesity Task Force .', 'Now , a new study shows that one of the most effective ways of preventing obesity -- exercise -- is something children are not getting enough of .', \"VOA 's Carol Pearson reports .\", 'The last Australian aid agency operating in Iraq says it is pulling out .', 'World Vision Australia chief Tim Costello says the situation in Iraq is too dangerous for its staff to remain .', 'He says the work the organization has been doing in Iraq will be handed over to local officials and any unspent funds will be returned to donors .', 'Mr. Costello says the agency made the decision to leave Iraq before the apparent murder of international aid worker Margaret Hassan .', \"World Vision Australia 's Iraqi head of operations , Mohammed Hushiar , was killed in late September in the northern city of Mosul .\", 'A published report says the Bush administration is pressing Iraqi leaders to end their political stalemate and form a new government .', \"The New York Times newspaper says Secretary of State Condoleezza Rice telephoned Iraq 's President Jalal Talabani on Friday to urge that the government be formed as soon as possible .\", \"It says Ms. Rice and Vice President Dick Cheney conveyed the same message in a White House meeting with Adil Abdul Mahdi , a leading Shi'ite politician named as one of the new Iraqi vice presidents .\", 'U.S. officials have said repeatedly that Iraqis must form their own government without American intervention .', 'But efforts to name a new cabinet in Baghdad have failed , although nearly three months have passed since the Iraqi elections .', 'Many Iraqis blame the political turmoil for a recent upsurge in violence .', 'Israeli Prime Minister Ehud Olmert is scheduled to meet with Palestinian President Mahmoud Abbas Wednesday in Jerusalem .', 'Palestinian negotiator Saeb Erekat said the talks will focus on permanent-status issues , Israeli checkpoints and the fate of Palestinian prisoners .', \"The meeting , at Mr. Olmert 's official residence , will be the first between the two since Mr. Olmert announced that he will step down after his Kadima Party chooses a new leader in September .\", \"The two leaders re-started peace talks in November with the goal of reaching a deal by this year 's end .\", \"Authorities in Afghanistan say nine Afghan soldiers and 10 Taleban rebels have been killed in two separate ambushes in the country 's restive south .\", 'A provincial government official says suspected Taleban rebels attacked the soldiers late Thursday when they were on patrol in the remote Chakul area of southern Helmand province .', 'Later , a person claiming to be a Taleban spokesman claimed responsibility for the attack .', 'The U.S. military said 10 Taleban rebels also were killed Thursday during a U.S. helicopter raid in southeastern Khost province after five Afghan soldiers were wounded in an ambush .', 'Taleban activity has eased during the harshest Afghan winter in decades , but officials believe upcoming warmer weather will result in a renewed surge of violence .', \"Britain 's defense ministry has defended its decision to allow the sailors and marines freed by Iran last week to sell their stories - a reversal of usual policy .\", 'On Sunday , the ministry said that huge public interest made the circumstances exceptional .', 'Members of the opposition Conservative Party immediately challenged the decision .', 'Many families of British troops killed in Iraq and Afghanistan have also said they find the decision distasteful .', 'The two officers among the 15 service members detained in Iran for 13 days have said they have chosen not to profit from stories of their captivity , but others in the group have reportedly made lucrative deals with British media .', 'Several of the the former captives have said they were mistreated during their detention .', 'However , a video released Monday , by Iran shows the sailors and marines relaxing and socializing during their captivity .', 'The weather in the western U.S. state of California has helped firefighters gain greater control of a massive wildfire that is burning near the populous city of Santa Barbara .', 'Fire officials said the winds were calmer overnight and a dense fog rolled in Saturday morning helping firefighters gain control of 30 percent of the blaze , compared to 10 percent on Friday .', 'Authorities said the fire has burned 35 square kilometers and has damaged 80 homes in the area known for its large mansions and scenic ocean views .', 'Before now , strong overnight winds and dry conditions had been making it difficult to keep the blaze from spreading .', 'The fire , which began on May 5 , has forced the evacuation of more than 30,000 .', 'More than 4,200 personnel are battling the wildfire .', 'A top aide to Iraqi Prime Minister Nouri al-Maliki says the government has launched an inquiry into the conduct of the execution of Saddam Hussein and how it was secretly filmed and distributed .', 'The official execution tape , which had no sound , showed the former dictator being led to the gallows but not his actual hanging .', 'However , video captured on a mobile phone camera showed footage and sound of Saddam being taunted and then dropping to his death .', 'In the mobile phone footage , one person can be heard shouting \" Moqtada , \" the name of a radical Shi\\'ite cleric and opponent of Saddam .', 'The unauthorized video has caused anger among many Saddam supporters , who say it shows that the execution was a sectarian act against the deposed Sunni Arab leader .', \"Tuesday , Sunni Arab mourners in Saddam 's hometown Tikrit and other cities marched to pay their respects to the former dictator .\", \"Local officials in Afghanistan 's northeastern Nuristan Province say three Afghans who had been kidnapped earlier in the week have been found unharmed .\", 'The three had been reported abducted from a house in the Kamdesh district of Nuristan Province .', 'At least two of the three Afghans were election workers .', 'No further details were immediately available .', \"More than three years after a U.S.-led coalition ousted the Taleban regime , loyalists are waging an escalating guerrilla campaign ahead of Afghanistan 's September parliamentary vote .\", 'In recent days in Kandahar Province , a judge and a district administrator were killed in attacks believed to have been carried out by insurgents .', 'More than 700 people have been killed in the violence this year .', 'World famous Russian cellist and conductor , Mstislav Rostropovich , who appeared frail at his 80th birthday celebration last month , has been hospitalized in Moscow for the second time this year .', 'A spokesman for the cellist said Thursday he is undergoing routine treatment .', 'Following his earlier hospitalization in February , Russian news media reported that he was being treated for cancer .', 'At the time , Russian President Vladimir Putin visited the hospital to confer a medal honoring Rostropovich for his extraordinary achievements in music .', 'Rostropovich and his wife , soprano Galina Vishnevskaya , left the Soviet Union in 1974 in response to political persecution .', 'They returned to Russia after the fall of the Soviet Union and are running a charitable organization aiding orphaned children .', 'The U.S. Internet giant Google is planning to install solar panels at its headquarters in the western state of California to run some of its operations with energy from the sun .', 'The leading Internet search engine says it will install enough solar grids at its complex in Mountain View , California to generate 1.6 megawatts of electricity .', \"That 's enough energy to light up about 1,000 California homes .\", 'The company hopes the sun will produce 30 percent of the power needed to run its 93,000 square meter complex .', 'Google says it wants to set an example that renewable energy can be profitable .', \"The Israeli parliament has rejected a bill calling for a national referendum on Prime Minister Ariel Sharon 's plan to evacuate settlers and troops from the Gaza Strip and four small West Bank enclaves later this year .\", \"Monday 's vote of 72-39 all but ends attempts by withdrawal opponents to derail the Gaza pullout .\", 'Under the withdrawal plan , all 21 Jewish settlements in Gaza are to be evacuated , along with four of 120 settlements in the occupied West Bank .', 'A referendum would have delayed the withdrawal for months from its July starting date .', 'Meanwhile , Israeli troops raided the West Bank Palestinian town of Jenin today , arresting eight accused members of Islamic Jihad .', 'The Israeli army alleges the suspects were making crude rockets and mortars for future attacks .', 'Popular American tennis star Andre Agassi has been knocked out of the quarterfinals at the Delray Beach International in Florida .', \"The top seed and former world number one lost in straight sets Friday to Spain 's Guillermo Garcia-Lopez , 06-Apr , 06-Feb .\", 'The Spaniard next takes on defending champion Xavier Malisse of Belgium in the semifinals .', 'The third-seeded Malisse rallied after dropping the first set to eliminate sixth-seeded Florian Mayer of Germany 06-Jul , 06-Feb , 06-Mar .', \"Meanwhile , fourth-seeded Tommy Haas of Germany beat Luxembourg 's Gilles Muller in straight sets ( 06-Mar , 06-Feb ) .\", 'Haas next plays eighth-seeded American Vince Spadea , a straight-sets winner over Lee Hyung-taik of South Korea ( 06-Mar , 06-Mar ) .', 'United Nations investigators have begun questioning top Syrian officials about the assassination of former Lebanese Prime Minister Rafik Hariri .', 'Diplomatic sources say five Syrian officials are being questioned at U.N. offices in Vienna .', 'The interviews are expected to continue until Wednesday .', 'The sources say the suspects arrived in the Austrian capital late Sunday .', 'Damascus recently agreed to allow its officials to be questioned outside Syria .', 'Syria denies any involvement in the February 14 bombing in Beirut that killed Mr. Hariri and 20 other people .', 'However , a report by a U.N. commission in October implicated top Syrian and Lebanese officials .', 'The U.N. Security Council has warned Syria to cooperate fully with the probe or face consequences .', 'Earlier this year , Syria was forced to withdraw its troops from Lebanon under intense domestic and international pressure .', 'Aides to U.S. Senator - and former first lady - Hillary Rodham Clinton have confirmed that the New~York senator has invited supporters from the state of Iowa to her Washington , D.C. home for a private political fundraising event .', 'Senator Clinton is facing re-election in New York in 2006 , but the invitation of Iowa supporters raises speculation that a 2008 bid for the U.S. presidency is likely .', \"Iowa is traditionally the first state to hold political caucuses in which candidates from the same party compete against each other for their party 's presidential nomination .\", \"Mrs. Clinton 's former national finance director from her 2000 Senate campaign is currently on trial in Los Angeles federal court on charges he lied to regulators about the cost of a lavish Hollywood fundraiser .\", 'Neither Mrs. Clinton nor her husband , the former president , are accused of any wrongdoing .', 'Burmese pro-democracy leader Aung San Suu Kyi met Saturday with a top United Nations official .', 'Aung San Suu Kyi spoke to reporters Saturday at her lakeside home in Rangoon , and praised the talks with Vijay Nambiar , chief of staff for U.N. Secretary-General Ban Ki-moon .', 'The 65-year-old Nobel peace prize laureate has been vocal about pursuing democratic reforms since her release November 13 from more than seven years of house arrest .', \"But she has also been careful not to verbally challenge Burma 's ruling generals .\", \"Nambiar also met Saturday with Burma 's foreign minister .\", 'He also planned to meet with diplomats and recently-elected lawmakers .', 'Pakistani officials say security forces have arrested at least three al-Qaida suspects after a gunfight near the Afghan border .', 'They say police opened fire Monday on a car carrying the suspects outside the northwestern city of Peshawar and forced it to stop .', 'Reports say one of the suspects escaped while the others were arrested .', 'This comes less than a week after Pakistani officials said a senior al-Qaida explosives expert was killed in a raid on a suspected insurgent hideout in the tribal region of North Waziristan bordering Afghanistan .', 'Egyptian-born Muhsin Musa Matwali Atwah was wanted in connection with the 1998 bombings of the U.S. embassies in Kenya and Tanzania .', 'The United States offered a $ 5 million reward for his capture .', 'Six other Islamic militants were killed in the raid .', 'Rebels in eastern Sudan say government war planes have been bombing a rebel area near the border with Eritrea , wounding several people .', 'A spokesman with rebels known as the Eastern Front said Friday , the bombing began Thursday in the Barka Valley region near the town of Tokar , 120 kilometers south Port Sudan on the Red Sea .', 'The French news agency quotes a rebel spokesman']\n"
     ]
    }
   ],
   "source": [
    "print(sentences) #list of strings"
   ]
  },
  {
   "cell_type": "code",
   "execution_count": 18,
   "metadata": {
    "_uuid": "ef108c6958dccc1855966ece23d582a0a427ffce",
    "colab": {
     "base_uri": "https://localhost:8080/"
    },
    "id": "2rZRrXAA9TR0",
    "outputId": "80566d41-da62-4224-e44a-46530d794b0f"
   },
   "outputs": [
    {
     "name": "stdout",
     "output_type": "stream",
     "text": [
      "['O', 'O', 'O', 'O', 'O', 'O', 'B-geo', 'O', 'O', 'O', 'O', 'O', 'B-geo', 'O', 'O', 'O', 'O', 'O', 'B-gpe', 'O', 'O', 'O', 'O', 'O']\n"
     ]
    }
   ],
   "source": [
    "labels = [[s[2] for s in sent] for sent in getter.sentences]\n",
    "print(labels[0]) #list of characters of a sentence: NER tags"
   ]
  },
  {
   "cell_type": "code",
   "execution_count": 19,
   "metadata": {
    "_uuid": "7e274ec75490323bdbc5f0227d62fd17d3de90da",
    "id": "RpGTxb6o9TR2"
   },
   "outputs": [],
   "source": [
    "tags_vals = list(set(dataset[\"tag\"].values)) \n",
    "tag2idx = {t: i for i, t in enumerate(tags_vals)}"
   ]
  },
  {
   "cell_type": "code",
   "execution_count": 20,
   "metadata": {
    "colab": {
     "base_uri": "https://localhost:8080/"
    },
    "id": "geJBqdtfr7aJ",
    "outputId": "6466b598-c180-4d03-a830-32403da14a49"
   },
   "outputs": [
    {
     "name": "stdout",
     "output_type": "stream",
     "text": [
      "['I-geo', nan, 'B-art', 'I-per', 'I-art', 'B-org', 'B-tim', 'I-eve', 'O', 'B-geo', 'I-org', 'B-nat', 'B-per', 'B-gpe', 'I-gpe', 'B-eve', 'I-tim', 'I-nat']\n",
      "{'I-geo': 0, nan: 1, 'B-art': 2, 'I-per': 3, 'I-art': 4, 'B-org': 5, 'B-tim': 6, 'I-eve': 7, 'O': 8, 'B-geo': 9, 'I-org': 10, 'B-nat': 11, 'B-per': 12, 'B-gpe': 13, 'I-gpe': 14, 'B-eve': 15, 'I-tim': 16, 'I-nat': 17}\n"
     ]
    }
   ],
   "source": [
    "print(tags_vals) #list of every unique NER tag\n",
    "print(tag2idx) #dictionary assigning an index to every NER tag"
   ]
  },
  {
   "cell_type": "markdown",
   "metadata": {
    "id": "1MOg7AYgqW7Z"
   },
   "source": [
    "Importing model pacakages"
   ]
  },
  {
   "cell_type": "code",
   "execution_count": 21,
   "metadata": {
    "_uuid": "1cdd149a0e14d9e9291bdf993f01c6fedb02d6ac",
    "id": "CNIUugH29TR3"
   },
   "outputs": [],
   "source": [
    "import torch\n",
    "from torch.optim import Adam\n",
    "from torch.utils.data import TensorDataset, DataLoader, RandomSampler, SequentialSampler\n",
    "from keras.preprocessing.sequence import pad_sequences\n",
    "from sklearn.model_selection import train_test_split\n",
    "from pytorch_pretrained_bert import BertTokenizer, BertConfig\n",
    "from pytorch_pretrained_bert import BertForTokenClassification, BertAdam\n",
    "from tqdm import tqdm, trange"
   ]
  },
  {
   "cell_type": "markdown",
   "metadata": {
    "id": "pMkMbt9dq7Qx"
   },
   "source": [
    "Setting up seed value"
   ]
  },
  {
   "cell_type": "code",
   "execution_count": 22,
   "metadata": {
    "id": "PBB9oNg3hhu8"
   },
   "outputs": [],
   "source": [
    "import random"
   ]
  },
  {
   "cell_type": "code",
   "execution_count": 23,
   "metadata": {
    "id": "v9roxUsuq-s6"
   },
   "outputs": [],
   "source": [
    "# setup random seed\n",
    "seed =42\n",
    "random.seed(seed)\n",
    "np.random.seed(seed)\n",
    "torch.manual_seed(seed)\n",
    "torch.cuda.manual_seed_all(seed)\n",
    "torch.backends.cudnn.deterministic = True"
   ]
  },
  {
   "cell_type": "code",
   "execution_count": 24,
   "metadata": {
    "_uuid": "9bf2b8a2864802dae72ff7313e833a2c4d26fe73",
    "id": "jUd3mFKc9TR4"
   },
   "outputs": [],
   "source": [
    "MAX_LEN = 40 #maximum sentence length\n",
    "bs =64 #batch size"
   ]
  },
  {
   "cell_type": "code",
   "execution_count": 25,
   "metadata": {
    "_uuid": "f57a27970f56c488884c464ab87ac8228e4a0e72",
    "id": "iS88Oaz99TR4"
   },
   "outputs": [],
   "source": [
    "device = torch.device(\"cuda\" if torch.cuda.is_available() else \"cpu\")\n",
    "n_gpu = torch.cuda.device_count()"
   ]
  },
  {
   "cell_type": "code",
   "execution_count": 26,
   "metadata": {
    "_uuid": "01c72c953cf95d447e1376dfc5b7d349868bb0a6",
    "colab": {
     "base_uri": "https://localhost:8080/",
     "height": 34
    },
    "id": "em4XP5la9TR5",
    "outputId": "32b87894-15f3-47c2-b838-0f684a0e5f01"
   },
   "outputs": [
    {
     "data": {
      "application/vnd.google.colaboratory.intrinsic+json": {
       "type": "string"
      },
      "text/plain": [
       "'Tesla K80'"
      ]
     },
     "execution_count": 26,
     "metadata": {},
     "output_type": "execute_result"
    }
   ],
   "source": [
    "torch.cuda.get_device_name(0) "
   ]
  },
  {
   "cell_type": "markdown",
   "metadata": {
    "id": "RrW_k60XrUQ1"
   },
   "source": [
    "Features generation  for pre-trained languge BERT"
   ]
  },
  {
   "cell_type": "code",
   "execution_count": 27,
   "metadata": {
    "_uuid": "115b9ebaeeb38126bd30bb825e00fdf2220c20df",
    "colab": {
     "base_uri": "https://localhost:8080/"
    },
    "id": "Q2lil3kW9TR5",
    "outputId": "fa32eac1-a85e-4726-eec7-7d195c871d41"
   },
   "outputs": [
    {
     "name": "stderr",
     "output_type": "stream",
     "text": [
      "100%|██████████| 231508/231508 [00:00<00:00, 317245.52B/s]\n"
     ]
    }
   ],
   "source": [
    "tokenizer = BertTokenizer.from_pretrained('bert-base-uncased', do_lower_case=True)"
   ]
  },
  {
   "cell_type": "code",
   "execution_count": 28,
   "metadata": {
    "_uuid": "e1a671a466e656bdf14158365d0fc66273abf6ae",
    "colab": {
     "base_uri": "https://localhost:8080/"
    },
    "id": "4fPn_NPU9TR5",
    "outputId": "45ec418f-bc63-41d3-ec03-9ec6531770e5"
   },
   "outputs": [
    {
     "name": "stdout",
     "output_type": "stream",
     "text": [
      "['thousands', 'of', 'demonstrators', 'have', 'marched', 'through', 'london', 'to', 'protest', 'the', 'war', 'in', 'iraq', 'and', 'demand', 'the', 'withdrawal', 'of', 'british', 'troops', 'from', 'that', 'country', '.']\n"
     ]
    }
   ],
   "source": [
    "tokenized_texts = [tokenizer.tokenize(sent) for sent in sentences]\n",
    "print(tokenized_texts[0])"
   ]
  },
  {
   "cell_type": "code",
   "execution_count": 29,
   "metadata": {
    "colab": {
     "base_uri": "https://localhost:8080/"
    },
    "id": "OgGFD99IspUp",
    "outputId": "7e90d091-a804-415e-f642-da74cf76923b"
   },
   "outputs": [
    {
     "name": "stdout",
     "output_type": "stream",
     "text": [
      "[['thousands', 'of', 'demonstrators', 'have', 'marched', 'through', 'london', 'to', 'protest', 'the', 'war', 'in', 'iraq', 'and', 'demand', 'the', 'withdrawal', 'of', 'british', 'troops', 'from', 'that', 'country', '.'], ['families', 'of', 'soldiers', 'killed', 'in', 'the', 'conflict', 'joined', 'the', 'protesters', 'who', 'carried', 'banners', 'with', 'such', 'slogan', '##s', 'as', '\"', 'bush', 'number', 'one', 'terrorist', '\"', 'and', '\"', 'stop', 'the', 'bombings', '.', '\"'], ['they', 'marched', 'from', 'the', 'houses', 'of', 'parliament', 'to', 'a', 'rally', 'in', 'hyde', 'park', '.'], ['police', 'put', 'the', 'number', 'of', 'marche', '##rs', 'at', '10', ',', '000', 'while', 'organizers', 'claimed', 'it', 'was', '1', ',', '00', ',', '000', '.'], ['the', 'protest', 'comes', 'on', 'the', 'eve', 'of', 'the', 'annual', 'conference', 'of', 'britain', \"'\", 's', 'ruling', 'labor', 'party', 'in', 'the', 'southern', 'english', 'seaside', 'resort', 'of', 'brighton', '.'], ['the', 'party', 'is', 'divided', 'over', 'britain', \"'\", 's', 'participation', 'in', 'the', 'iraq', 'conflict', 'and', 'the', 'continued', 'deployment', 'of', '8', ',', '500', 'british', 'troops', 'in', 'that', 'country', '.'], ['the', 'london', 'march', 'came', 'ahead', 'of', 'anti', '-', 'war', 'protests', 'today', 'in', 'other', 'cities', ',', 'including', 'rome', ',', 'paris', ',', 'and', 'madrid', '.'], ['the', 'international', 'atomic', 'energy', 'agency', 'is', 'to', 'hold', 'second', 'day', 'of', 'talks', 'in', 'vienna', 'wednesday', 'on', 'how', 'to', 'respond', 'to', 'iran', \"'\", 's', 'res', '##ump', '##tion', 'of', 'low', '-', 'level', 'uranium', 'conversion', '.'], ['iran', 'this', 'week', 'restarted', 'parts', 'of', 'the', 'conversion', 'process', 'at', 'its', 'is', '##fahan', 'nuclear', 'plant', '.'], ['iranian', 'officials', 'say', 'they', 'expect', 'to', 'get', 'access', 'to', 'sealed', 'sensitive', 'parts', 'of', 'the', 'plant', 'wednesday', ',', 'after', 'an', 'ia', '##ea', 'surveillance', 'system', 'begins', 'functioning', '.'], ['the', 'step', 'will', 'allow', 'the', 'facility', 'to', 'operate', 'at', 'full', 'capacity', '.'], ['the', 'european', 'union', ',', 'with', 'u', '.', 's', '.', 'backing', ',', 'has', 'threatened', 'to', 'refer', 'iran', 'to', 'the', 'u', '.', 'n', '.', 'security', 'council', ',', 'which', 'could', 'impose', 'sanctions', 'if', 'it', 'finds', 'tehran', 'has', 'violated', 'the', 'nuclear', 'non', '-', 'proliferation', 'treaty', '.'], ['iran', \"'\", 's', 'new', 'president', 'mahmoud', 'ahmad', '##ine', '##jad', 'said', 'tuesday', 'that', 'european', 'incentives', 'aimed', 'at', 'per', '##su', '##ading', 'iran', 'to', 'end', 'its', 'nuclear', 'fuel', 'program', 'are', 'an', 'insult', 'to', 'the', 'iranian', 'nation', '.'], ['two', 'germans', 'and', 'four', 'nigerian', 'oil', 'workers', 'were', 'kidnapped', 'by', 'armed', 'militants', 'during', 'a', 'raid', 'on', 'a', 'boat', 'in', 'nigeria', \"'\", 's', 'southern', 'oil', '-', 'rich', 'delta', 'region', '.'], ['an', 'official', 'with', 'the', 'german', 'firm', 'bi', '##lf', '##inger', 'berger', ',', 'thomas', 'ho', '##rba', '##ch', ',', 'said', 'the', 'gunmen', 'stopped', 'the', 'supply', 'boat', 'wednesday', 'as', 'it', 'sailed', 'from', 'delta', 'state', 'to', 'bay', '##els', '##a', 'state', 'to', 'inspect', 'an', 'offshore', 'oil', 'field', 'owned', 'by', 'royal', '-', 'dutch', 'shell', '.'], ['the', 'german', 'firm', 'works', 'as', 'a', 'sub', '-', 'contractor', 'for', 'shell', '.'], ['militant', 'groups', 'frequently', 'attack', 'oil', 'operations', 'in', 'the', 'niger', 'delta', 'to', 'demand', 'social', 'services', 'and', 'better', 'job', 'opportunities', 'from', 'multinational', 'companies', '.'], ['poor', 'residents', 'often', 'complain', 'they', 'have', 'been', 'cheated', 'out', 'of', 'the', 'huge', 'riches', 'extracted', 'from', 'their', 'tribal', 'lands', '-', 'where', 'the', 'bulk', 'of', 'nigeria', \"'\", 's', '2', '.', '3', 'million', 'barrels', 'of', 'petroleum', 'are', 'pumped', 'daily', '.'], ['suspected', 'islamist', 'rebels', 'have', 'fired', 'mortar', 'shells', 'at', 'the', 'palace', 'used', 'by', 'somalia', \"'\", 's', 'interim', 'president', 'abdullah', '##i', 'yusuf', 'ahmad', '.'], ['it', 'was', 'not', 'immediately', 'clear', 'if', 'the', 'president', 'was', 'in', 'the', 'palace', 'in', 'mo', '##ga', '##dis', '##hu', 'when', 'the', 'attack', 'occurred', 'or', 'if', 'anyone', 'was', 'hurt', '.'], ['local', 'news', 'reports', 'said', 'at', 'least', 'five', 'mortar', 'shells', 'hit', 'the', 'palace', 'compound', 'and', 'other', 'mortar', '##s', 'were', 'fired', 'elsewhere', 'in', 'mo', '##ga', '##dis', '##hu', 'wednesday', '.'], ['the', 'attacks', 'occurred', 'after', 'the', 'government', 'said', 'it', 'will', 'go', 'ahead', 'with', 'a', 'reconciliation', 'conference', 'to', 'which', 'more', 'than', '1', ',', '300', 'somali', 'elders', ',', 'warlord', '##s', 'and', 'politicians', 'are', 'invited', '.'], ['iraqi', 'military', 'officials', 'say', 'tanks', 'and', 'troops', 'have', 'arrived', 'in', 'the', 'northern', 'city', 'mo', '##sul', 'for', 'a', 'new', 'offensive', 'against', 'al', 'q', '##aid', '##a', 'in', 'iraq', 'fighters', '.'], ['officials', 'will', 'not', 'say', 'how', 'many', 'troops', 'have', 'arrived', 'in', 'the', 'sunni', 'arab', 'and', 'kurdish', 'city', ',', 'where', 'bombings', 'last', 'week', 'killed', 'at', 'least', '34', 'people', 'and', 'wounded', 'more', 'than', '200', '.'], ['u', '.', 's', '.', 'commanders', 'have', 'not', 'explained', 'how', 'american', 'forces', 'will', 'participate', 'in', 'the', 'offensive', '.'], ['officials', 'say', 'al', 'q', '##aid', '##a', 'in', 'iraq', 'fighters', 'have', 'fled', 'successful', 'campaigns', 'against', 'them', 'in', 'an', '##bar', 'province', 'and', 'baghdad', 'to', 'other', 'northern', 'provinces', '.'], ['mo', '##sul', 'is', 'the', 'largest', 'city', 'north', 'of', 'baghdad', 'and', 'has', 'long', 'been', 'a', 'stronghold', 'of', 'sunni', 'militant', 'fighters', '.'], ['in', 'other', 'violence', ',', 'u', '.', 's', '.', 'officials', 'said', 'one', 'american', 'soldier', 'was', 'killed', 'while', 'on', 'patrol', 'in', 'baghdad', 'sunday', '.'], ['egyptian', 'police', 'have', 'arrested', 'at', 'least', '16', 'members', 'of', 'the', 'opposition', 'muslim', 'brotherhood', 'as', 'parts', 'of', 'the', 'country', 'prepare', 'for', 'parliamentary', 'runoff', 'elections', 'saturday', '.'], ['the', 'arrests', 'occurred', 'friday', 'in', 'alexandria', '.'], ['a', 'spokesman', 'for', 'the', 'brotherhood', 'said', 'the', 'arrests', 'are', 'an', 'attempt', 'to', 'cut', 'the', 'brotherhood', 'off', 'from', 'its', 'supporters', 'and', 'punishment', 'for', 'winning', 'parliamentary', 'seats', 'in', 'earlier', 'elections', '.'], ['the', 'muslim', 'brotherhood', 'has', 'triple', '##d', 'its', 'strength', 'in', 'parliament', 'in', 'recent', 'elections', ',', 'raising', 'the', 'party', \"'\", 's', 'total', 'to', '47', 'seats', '.'], ['in', 'saturday', \"'\", 's', 'elections', ',', 'voters', 'will', 'cast', 'ballots', 'in', 'nine', 'provinces', 'where', 'no', 'candidate', 'won', 'a', 'majority', 'in', 'the', 'previous', 'round', 'of', 'voting', '.'], ['the', 'muslim', 'brotherhood', 'is', 'banned', 'as', 'a', 'political', 'party', ',', 'but', 'it', 'end', '##ors', '##es', 'so', '-', 'called', 'independent', 'candidates', 'whose', 'allegiance', 'to', 'the', 'party', 'is', 'known', 'to', 'voters', '.'], ['hard', '##line', 'law', '##makers', 'in', 'pakistan', \"'\", 's', 'north', 'west', 'frontier', 'province', 'have', 'pushed', 'through', 'a', 'law', 'that', 'aims', 'to', 'ensure', '\"', 'islamic', 'correct', '##ness', '\"', 'in', 'public', 'places', 'and', 'establishes', 'a', 'morality', 'police', 'to', 'enforce', 'decent', 'behavior', '.'], ['a', 'six', '-', 'party', 'coalition', 'of', 'religious', 'based', 'parties', ',', 'the', 'mu', '##ta', '##hid', '##a', 'maj', '##lis', '-', 'e', '-', 'ama', '##l', ',', 'dominates', 'the', 'provincial', 'assembly', ',', 'so', 'the', 'bill', 'was', 'easily', 'passed', 'thursday', 'by', 'a', 'vote', 'of', '68', '-', '34', '.'], ['the', 'provincial', 'governor', 'must', 'still', 'sign', 'the', 'bill', 'before', 'it', 'becomes', 'law', ',', 'a', 'step', 'seen', 'only', 'as', 'a', 'formal', '##ity', '.'], ['the', 'proposed', 'law', 'calls', 'for', 'setting', 'up', 'a', '\"', 'religious', 'police', 'force', '\"', 'to', 'make', 'sure', 'people', 'adhere', 'to', 'islamic', 'values', 'in', 'public', 'places', ',', 'and', 'entertainment', 'outlets', 'close', 'during', 'weekly', 'friday', 'prayers', '.'], ['viola', '##tors', 'could', 'be', 'jailed', 'for', 'up', 'to', 'six', 'months', '.'], ['the', 'opposition', 'has', 'denounced', 'the', 'measure', ',', 'comparing', 'it', 'to', 'the', 'dr', '##aco', '##nian', 'rule', 'of', 'the', 'former', 'tale', '##ban', 'in', 'neighboring', 'afghanistan', '.'], ['british', 'police', 'say', 'they', 'have', 'arrested', 'a', 'man', 'who', 'dressed', 'as', 'suicide', 'bomber', 'at', 'a', 'demonstration', 'against', 'the', 'publication', 'of', 'cartoons', 'depicting', 'islam', \"'\", 's', 'prophet', 'muhammad', '.'], ['bedfordshire', 'police', 'said', 'tuesday', 'that', 'omar', 'k', '##haya', '##m', 'was', 'arrested', 'in', 'bedford', 'for', 'breach', '##ing', 'the', 'conditions', 'of', 'his', 'parole', '.'], ['police', 'said', 'the', 'british', 'home', 'office', 'sought', 'an', 'investigation', 'of', 'k', '##haya', '##m', \"'\", 's', 'behavior', 'after', 'he', 'was', 'photographed', 'last', 'week', 'at', 'a', 'demonstration', 'dressed', 'in', 'fatigue', '##s', ',', 'a', 'black', 'cap', ',', 'and', 'a', 'bulky', 'belt', '.'], ['a', 'home', 'office', 'spokesman', 'told', 'the', 'associated', 'press', 'that', 'if', 'the', 'behavior', 'of', 'a', 'parole', '##d', 'offender', 'gives', 'cause', 'for', 'concern', ',', 'he', 'can', 'be', 'sent', 'back', 'to', 'prison', '.'], ['the', 'ap', 'also', 'reports', 'k', '##haya', '##m', 'has', 'been', 'on', 'parole', 'from', 'prison', 'since', 'last', 'year', 'after', 'serving', 'half', 'his', 'six', '-', 'year', 'sentence', 'for', 'drug', 'dealing', '.'], ['pakistani', 'officials', 'say', 'unidentified', 'gunmen', 'have', 'killed', 'three', 'people', ',', 'including', 'a', 'former', 'government', 'minister', ',', 'in', 'a', 'semi', '-', 'autonomous', 'tribal', 'region', 'bordering', 'afghanistan', '.'], ['the', 'officials', 'say', 'prominent', 'tribal', 'leader', 'malik', 'far', '##id', '##ulla', '##h', 'khan', 'was', 'traveling', 'in', 'south', 'wa', '##zi', '##rist', '##an', 'sunday', 'when', 'his', 'vehicle', 'was', 'ambushed', 'in', 'the', 'kan', '##i', 'wa', '##m', 'area', '.'], ['his', 'driver', 'and', 'a', 'tribal', 'elder', 'were', 'also', 'killed', '.'], ['no', 'one', 'has', 'claimed', 'responsibility', 'for', 'the', 'killings', '.'], ['the', 'ambush', 'came', 'a', 'day', 'after', 'a', 'commander', 'of', 'pakistani', 'troops', 'said', 'the', 'army', 'has', 'almost', 'completely', 'eliminated', 'militants', 'in', 'south', 'wa', '##zi', '##rist', '##an', '.'], ['the', 'area', 'became', 'a', 'refuge', 'for', 'many', 'al', '-', 'q', '##aid', '##a', 'and', 'tale', '##ban', 'fighters', 'after', 'the', 'tale', '##ban', 'government', 'was', 'ousted', 'in', 'afghanistan', 'in', '2001', '.'], ['a', 'senior', 'pakistani', 'military', 'official', 'says', 'pakistan', 'wants', 'to', 'put', 'what', 'he', 'calls', 'the', '\"', 'so', '##rdi', '##d', 'chapter', '\"', 'of', 'proliferation', 'by', 'one', 'of', 'its', 'top', 'scientists', 'behind', 'it', 'and', 'build', 'civilian', 'nuclear', 'ties', 'with', 'the', 'united', 'states', '.'], ['but', 'he', 'says', 'pakistan', 'is', 'not', 'ready', 'to', 'make', 'the', 'nuclear', 'scientist', ',', 'abdul', 'q', '##ade', '##er', 'khan', ',', 'available', 'for', 'direct', 'questioning', 'over', 'his', 'sale', 'of', 'nuclear', 'parts', 'and', 'secrets', 'to', 'states', 'including', 'iran', ',', 'libya', 'and', 'north', 'korea', '.'], ['he', 'said', 'there', 'are', 'reasons', 'of', 'national', 'sen', '##sit', '##iv', '##ities', 'for', 'not', 'making', 'him', 'available', '.'], ['the', 'pakistani', 'official', 'was', 'giving', 'a', 'background', 'briefing', 'to', 'a', 'small', 'group', 'of', 'reporters', 'in', 'washington', '.'], ['khan', 'admitted', 'in', '2004', 'that', 'he', 'operated', 'a', 'worldwide', 'clandestine', 'network', 'to', 'sell', 'nuclear', 'technology', 'in', 'the', 'black', 'market', '.'], ['he', 'was', 'placed', 'under', 'house', 'arrest', 'in', 'islamabad', ',', 'but', 'not', 'jailed', 'because', 'he', 'is', 'considered', 'the', 'father', 'of', 'pakistan', \"'\", 's', 'nuclear', 'bomb', '.'], ['u', '.', 's', '.', 'army', 'officials', 'said', 'wednesday', 'that', 'they', 'will', 'not', 'renew', 'a', 'controversial', 'multi', '-', 'billion', 'dollar', 'contract', 'with', 'the', 'hall', '##ib', '##urt', '##on', 'company', 'to', 'provide', 'logistical', 'support', 'to', 'u', '.', 's', '.', 'troops', 'in', 'iraq', 'and', 'elsewhere', '.'], ['hall', '##ib', '##urt', '##on', 'has', 'been', 'providing', 'a', 'long', 'list', 'of', 'services', ',', 'from', 'meals', 'to', 'communication', ',', 'for', 'the', 'military', 'for', 'several', 'years', '.'], ['critics', 'of', 'hall', '##ib', '##urt', '##on', 'include', 'auditor', '##s', 'and', 'congressional', 'democrats', '.'], ['they', 'say', 'the', 'company', 'has', 'produced', 'some', 'sho', '##ddy', 'work', 'and', 'charges', 'too', 'much', 'money', '.'], ['the', 'company', 'strongly', 'denies', 'the', 'allegations', '.'], ['when', 'the', 'huge', 'contract', 'is', 'put', 'out', 'for', 're', '-', 'bidding', ',', 'several', 'companies', 'will', 'get', 'a', 'chance', 'to', 'compete', 'for', 'portions', 'of', 'the', 'work', '.'], ['representatives', 'from', 'the', 'asia', 'pacific', 'economic', 'cooperation', 'business', 'advisory', 'council', 'are', 'holding', 'meetings', 'this', 'week', 'to', 'final', '##ize', 'their', 'annual', 'report', 'for', 'ape', '##c', 'leaders', 'who', 'will', 'hold', 'a', 'summit', 'on', 'september', '8', 'and', '9', '.'], ['vo', '##a', \"'\", 's', 'nancy', '-', 'amelia', 'collins', 'reports', 'from', 'sydney', '.'], ['energy', ',', 'security', ',', 'climate', 'change', ',', 'the', 'world', 'trade', 'organization', \"'\", 's', 'stalled', 'negotiations', ',', 'and', 'investment', 'are', 'all', 'expected', 'to', 'be', 'among', 'the', 'major', 'topics', 'in', 'the', 'annual', 'report', 'of', 'the', 'ape', '##c', 'business', 'advisory', 'council', ',', 'known', 'as', 'aba', '##c', '.'], ['tim', 'harcourt', ',', 'the', 'chief', 'economist', 'of', 'the', 'australian', 'trade', 'commission', ',', 'says', 'aba', '##c', 'plays', 'an', 'important', 'role', 'by', 'informing', 'governments', 'where', 'there', 'are', 'problems', '.'], ['\"', 'the', 'most', 'important', 'thing', 'the', 'business', 'groups', 'can', 'do', 'is', 'to', 'tell', 'the', 'governments', 'where', 'there', 'are', 'log', '##ja', '##ms', ',', 'where', 'there', 'are', 'obstacles', ',', 'where', 'things', 'can', 'improve', ',', '\"', 'harcourt', 'said', '.'], ['\"', 'i', 'think', 'actually', 'aba', '##c', 'has', 'played', 'a', 'pretty', 'good', 'leadership', 'on', 'that', 'in', 'talking', 'about', 'trade', 'fa', '##ci', '##lita', '##tion', 'and', 'basically', 'making', 'sure', 'standards', 'are', 'consistent', 'and', 'harmon', '##ious', 'across', 'the', 'region', '.', '\"'], ['aba', '##c', 'comprises', 'up', 'to', 'three', 'members', 'of', 'the', 'private', 'sector', 'of', 'each', 'of', 'the', '21', 'economies', 'that', 'make', 'up', 'ape', '##c', '.'], ['it', 'meets', 'three', 'times', 'a', 'year', '.'], ['it', 'was', 'made', 'a', 'permanent', 'body', 'in', '1995', 'to', 'provide', 'an', 'independent', 'business', 'perspective', 'within', 'ape', '##c', '.'], ['members', 'represent', 'a', 'range', 'of', 'business', 'sectors', ',', 'including', 'medium', 'and', 'small', 'businesses', '.'], ['aba', '##c', 'says', 'there', 'is', 'a', 'need', 'for', 'businesses', 'to', 'improve', 'energy', 'efficiency', 'and', 'to', 'encourage', 'conservation', 'practices', ',', 'and', 'is', 'expected', 'to', 'include', 'this', 'in', 'its', 'annual', 'report', '.'], ['harcourt', ',', 'of', 'the', 'australian', 'trade', 'commission', ',', 'says', 'the', 'aba', '##c', 'report', 'will', 'also', 'discuss', 'ways', 'to', 'enhance', 'regional', 'cooperation', '.'], ['\"', 'i', 'reckon', 'they', \"'\", 'll', 'talk', 'a', 'little', 'bit', 'about', 'customs', 'and', 'qu', '##aran', '##tine', ',', 'a', 'little', 'bit', 'about', 'having', 'consistent', 'security', 'arrangements', 'around', 'the', 'region', ',', '\"', 'harcourt', 'said', '.'], ['\"', 'and', 'i', 'think', 'they', \"'\", 'll', 'want', 'a', 'one', '-', 'stop', 'shop', 'in', 'terms', 'of', 'combining', 'security', ',', 'immigration', ',', 'customs', ',', 'and', 'qu', '##aran', '##tine', 'together', 'just', 'to', 'make', 'sure', 'it', \"'\", 's', 'more', 'streamlined', 'and', 'provides', 'more', 'certainty', '.', '\"'], ['aba', '##c', 'is', 'the', 'only', 'non', '-', 'governmental', 'body', 'that', 'has', 'an', 'official', 'role', 'and', 'formal', 'dialogue', 'with', 'the', 'leaders', 'of', 'the', 'ape', '##c', 'economies', '.'], ['it', 'will', 'present', 'its', 'annual', 'report', 'at', 'the', 'ape', '##c', 'leaders', 'meeting', 'on', 'saturday', '.'], ['sudan', \"'\", 's', 'government', 'says', 'it', 'will', 'order', 'troops', 'to', 'end', 'attacks', 'immediately', 'in', 'dar', '##fur', ',', 'and', 'is', 'asking', 'rebels', 'to', 'do', 'the', 'same', '.'], ['foreign', 'minister', 'mustafa', 'osman', 'ismail', 'says', 'sudanese', 'troops', 'will', 'also', 'withdraw', 'to', 'positions', 'held', 'before', 'an', 'april', 'cease', '-', 'fire', ',', 'if', 'rebels', 'in', 'the', 'western', 'region', 'agree', 'to', 'stop', 'attacks', '.'], ['mr', '.', 'ismail', 'announced', 'the', 'decision', 'after', 'meeting', 'with', 'officials', 'from', 'the', 'united', 'nations', 'and', 'african', 'union', 'in', 'k', '##hart', '##oum', 'sunday', '.'], ['in', 'recent', 'weeks', ',', 'au', 'officials', 'say', 'sudanese', 'troops', 'and', 'rebels', 'have', 'repeatedly', 'violated', 'the', 'april', 'truce', '.'], ['saturday', ',', 'the', 'head', 'of', 'au', 'forces', 'in', 'dar', '##fur', 'accused', 'sudanese', 'government', 'helicopters', 'of', 'bombing', 'rebel', 'sites', 'in', 'the', 'south', 'dar', '##fur', 'village', 'of', 'lab', '##ado', '.'], ['k', '##hart', '##oum', 'says', 'troops', 'were', 'defending', 'their', 'positions', 'from', 'rebel', 'attacks', '.'], ['aid', 'workers', 'say', 'some', 'relief', 'efforts', 'have', 'been', 'suspended', 'in', 'south', 'dar', '##fur', 'due', 'to', 'recent', 'attacks', '.'], ['indonesian', 'police', 'have', 'arrested', 'three', 'men', 'in', 'connection', 'with', 'the', 'october', '1', 'bali', 'bombings', 'that', 'left', '23', 'people', 'dead', '.'], ['indonesian', 'police', 'said', 'wednesday', 'the', 'men', 'were', 'flown', 'to', 'bali', 'from', 'neighboring', 'java', 'island', 'for', 'questioning', 'at', 'bali', 'police', 'headquarters', '.'], ['australian', 'and', 'french', 'news', 'agencies', 'say', 'at', 'least', 'one', 'of', 'the', 'men', 'arrested', '(', 'cho', '##li', '##ly', ')', 'was', 'captured', 'during', 'a', 'series', 'of', 'counter', '-', 'terrorism', 'raids', 'last', 'week', 'in', 'indonesia', '.'], ['the', 'raids', 'ended', 'with', 'the', 'death', 'of', 'alleged', 'ex', '##tre', '##mist', 'bomb', '##maker', 'az', '##aha', '##ri', 'bin', 'hu', '##sin', '.'], ['indonesian', 'authorities', 'blame', 'az', '##aha', '##ri', 'bin', 'hu', '##sin', 'for', 'orchestra', '##ting', 'last', 'month', \"'\", 's', 'attacks', 'in', 'bali', 'as', 'well', 'as', 'the', '2002', 'bali', 'bombings', 'that', 'killed', 'more', 'than', '200', 'people', '.'], ['gunmen', 'have', 'shot', 'and', 'killed', 'a', 'roman', 'catholic', 'nun', 'and', 'her', 'bodyguard', 'at', 'the', 'hospital', 'where', 'she', 'worked', 'in', 'islamist', '-', 'controlled', 'mo', '##ga', '##dis', '##hu', ',', 'somalia', '.'], ['some', 'witnesses', 'to', 'the', 'sunday', 'shooting', 'said', 'they', 'feared', 'the', 'attack', 'was', 'linked', 'to', 'muslim', 'anger', 'toward', 'pope', 'benedict', '.'], ['two', 'men', 'with', 'pistols', 'attacked', 'the', 'nun', ',', 'sister', 'leone', '##lla', 'sg', '##or', '##bat', '##i', ',', 'after', 'she', 'finished', 'teaching', 'a', 'medical', 'school', 'class', 'at', 'the', 'hospital', 'in', 'southern', 'mo', '##ga', '##dis', '##hu', '.'], ['officials', 'say', 'one', 'suspect', 'was', 'arrested', '.'], ['in', 'rome', ',', 'a', 'vatican', 'spokesman', 'de', '##pl', '##ored', 'the', 'attack', 'and', 'said', 'he', 'hoped', 'it', 'was', 'an', 'isolated', 'event', ',', 'and', 'not', 'irrational', '##ity', 'arising', 'from', 'comments', 'made', 'by', 'the', 'pope', 'which', 'angered', 'some', 'muslims', '.'], ['authorities', 'in', 'mo', '##ga', '##dis', '##hu', 'have', 'not', 'determined', 'a', 'motive', 'for', 'the', 'shooting', '.'], ['the', 'pope', 'has', 'said', 'he', 'meant', 'no', 'offense', 'to', 'muslims', 'when', 'he', 'quoted', 'a', '14', 'century', 'byzantine', 'emperor', 'as', 'saying', 'some', 'teachings', 'of', 'the', 'prophet', 'mu', '##ham', '##med', 'brought', 'evil', 'to', 'the', 'world', '.'], ['pakistani', 'forces', 'have', 'targeted', 'militants', 'in', 'the', 'northwest', 'for', 'a', 'third', 'day', ',', 'launching', 'airs', '##tri', '##kes', 'that', 'they', 'say', 'killed', 'at', 'least', 'nine', 'suspected', 'insurgents', '.'], ['helicopter', 'guns', '##hips', 'saturday', 'pounded', 'militant', 'hideout', '##s', 'in', 'the', 'or', '##ak', '##zai', 'tribal', 'region', ',', 'where', 'many', 'taliban', 'militants', 'are', 'believed', 'to', 'have', 'fled', 'to', 'avoid', 'an', 'earlier', 'military', 'offensive', 'in', 'nearby', 'south', 'wa', '##zi', '##rist', '##an', '.'], ['the', 'pakistani', 'military', 'launched', 'its', 'offensive', 'in', 'or', '##ak', '##zai', 'to', 'hunt', 'taliban', 'insurgents', '.'], ['so', 'far', ',', 'nearly', '100', 'militants', 'have', 'been', 'reported', 'killed', 'in', 'the', 'region', 'since', 'thursday', '.'], ['on', 'friday', ',', 'five', 'soldiers', 'were', 'killed', 'when', 'dozens', 'of', 'militants', 'stormed', 'a', 'military', 'checkpoint', 'in', 'or', '##ak', '##zai', '.'], ['at', 'least', '32', 'suspected', 'militants', 'were', 'killed', 'when', 'troops', 'launched', 'a', 'counter', '-', 'attack', '.'], ['elsewhere', 'in', 'the', 'northwest', ',', 'authorities', 'on', 'saturday', 'found', 'the', 'bodies', 'of', 'six', 'people', 'who', 'had', 'been', 'shot', 'dead', 'in', 'the', 'ku', '##rra', '##m', 'region', 'along', 'the', 'afghan', 'border', '.'], ['the', 'six', 'were', 'kidnapped', 'a', 'few', 'days', 'ago', '.'], ['the', 'u', '.', 's', '.', 'military', 'in', 'afghanistan', 'says', 'coalition', 'forces', 'killed', '14', 'tale', '##ban', 'militants', 'in', 'separate', 'clashes', 'this', 'week', '.'], ['the', 'military', 'said', 'saturday', '13', 'guerrillas', 'were', 'killed', 'in', 'two', 'encounters', 'in', 'the', 'central', 'province', 'of', 'ur', '##uz', '##gan', '.'], ['one', 'afghan', 'soldier', 'was', 'killed', 'and', 'four', 'others', ',', 'including', 'a', 'u', '.', 's', '.', 'soldier', ',', 'were', 'injured', 'in', 'the', 'fighting', '.'], ['another', 'militant', 'was', 'killed', 'by', 'u', '.', 's', '.', 'troops', 'in', 'eastern', 'pak', '##ti', '##ka', 'province', '.'], ['separately', ',', 'officials', 'say', 'four', 'british', 'soldiers', 'from', 'the', 'nato', '-', 'led', 'peacekeeping', 'mission', 'were', 'wounded', 'early', 'saturday', 'in', 'an', 'attack', 'in', 'the', 'northern', 'city', 'of', 'ma', '##zar', '-', 'e', '-', 'sharif', '.'], ['it', 'was', 'not', 'immediately', 'clear', 'what', 'motivated', 'the', 'attack', '.'], ['tale', '##ban', 'rebels', 'are', 'not', 'known', 'to', 'operate', 'in', 'northern', 'afghanistan', 'and', 'the', 'area', 'has', 'been', 'spared', 'much', 'of', 'the', 'blood', '##shed', 'that', 'has', 'plagued', 'southern', 'and', 'eastern', 'regions', '.'], ['russian', 'officials', 'say', 'at', 'least', 'five', 'more', 'people', 'have', 'died', 'from', 'a', 'wave', 'of', 'extremely', 'cold', 'weather', 'gripping', 'the', 'nation', ',', 'bringing', 'the', 'death', 'toll', 'to', '43', 'in', 'the', 'past', 'week', '.'], ['emergency', 'medical', 'officials', 'say', 'the', 'five', 'victims', 'died', 'in', 'moscow', 'from', 'exposure', ',', 'and', 'another', '19', 'people', 'are', 'hospitalized', 'with', 'h', '##yp', '##oth', '##er', '##mia', '.'], ['russia', \"'\", 's', 'it', '##ar', '-', 'ta', '##ss', 'news', 'agency', 'quotes', 'a', 'medical', 'official', 'as', 'saying', 'some', 'of', 'the', 'victims', 'were', 'into', '##xi', '##cated', 'or', 'homeless', '.'], ['the', 'unusually', 'cold', 'weather', 'is', 'affecting', 'russia', ',', 'the', 'baltic', 'states', 'of', 'lithuania', ',', 'latvia', 'and', 'estonia', ',', 'and', 'is', 'moving', 'into', 'the', 'nordic', 'countries', '.'], ['the', 'death', 'toll', 'is', 'expected', 'to', 'rise', 'as', 'temperatures', 'continue', 'to', 'hove', '##r', 'around', 'minus', '30', 'degrees', 'ce', '##ls', '##ius', 'or', 'lower', 'overnight', '.'], ['emergency', 'power', 'ratio', '##ning', 'has', 'been', 'put', 'into', 'effect', 'around', 'moscow', '.'], ['health', 'officials', 'in', 'vietnam', 'say', 'a', 'deadly', 'strain', 'of', 'the', 'bird', 'flu', 'virus', 'has', 'killed', 'a', 'second', 'vietnamese', 'man', 'this', 'week', ',', 'raising', 'the', 'country', \"'\", 's', 'death', 'toll', 'from', 'the', 'virus', 'to', '50', '.'], ['officials', 'say', 'the', '27', '-', 'year', 'old', 'man', 'from', 'vietnam', \"'\", 's', 'northern', 'ni', '##nh', 'bin', '##h', 'province', 'died', 'late', 'thursday', 'and', 'tested', 'positive', 'for', 'the', 'h', '##5', '##n', '##1', 'strain', 'of', 'bird', 'flu', '.'], ['officials', 'say', 'the', 'man', 'fell', 'ill', 'after', 'slaughter', '##ing', 'two', 'chickens', 'at', 'his', 'home', '.'], ['he', 'is', 'the', 'third', 'person', 'to', 'die', 'from', 'av', '##ian', 'influenza', 'in', 'vietnam', 'this', 'year', '.'], ['not', 'counting', 'the', 'latest', 'death', ',', 'the', 'world', 'health', 'organization', 'says', '227', 'people', 'around', 'the', 'world', 'have', 'died', 'from', 'bird', 'flu', 'since', '2003', '.'], ['most', 'of', 'the', 'world', \"'\", 's', 'cases', ',', '103', ',', 'have', 'occurred', 'in', 'indonesia', '.'], ['witnesses', 'in', 'somalia', 'say', 'insurgents', 'have', 'burned', 'and', 'dragged', 'the', 'bodies', 'of', 'at', 'least', 'two', 'soldiers', 'through', 'the', 'streets', 'of', 'mo', '##ga', '##dis', '##hu', ',', 'after', 'a', 'clash', 'between', 'militants', 'and', 'ethiopian', 'forces', 'killed', 'seven', 'people', '.'], ['the', 'violence', 'erupted', 'wednesday', 'after', 'insurgents', 'attacked', 'ethiopian', 'tanks', 'rolling', 'through', 'an', 'ins', '##urgent', 'stronghold', 'near', 'the', 'headquarters', 'of', 'the', 'former', 'defense', 'ministry', 'in', 'southern', 'mo', '##ga', '##dis', '##hu', '.'], ['witnesses', 'say', 'the', 'ethiopian', 'troops', 'returned', 'heavy', 'fire', 'and', 'that', 'several', 'people', 'were', 'wounded', 'in', 'the', 'fighting', '.'], ['ethiopia', 'deployed', 'soldiers', 'to', 'somalia', 'last', 'december', 'to', 'help', 'the', 'interim', 'government', 'push', 'an', 'islamist', 'movement', 'from', 'power', '.'], ['somalia', \"'\", 's', 'internationally', '-', 'recognized', 'government', 'has', 'since', 'been', 'struggling', 'to', 'contain', 'regular', 'outburst', '##s', 'of', 'violence', 'by', 'fighters', 'loyal', 'to', 'the', 'fallen', 'islamist', 'movement', '.'], ['the', 'african', 'union', 'has', 'deployed', 'troops', 'to', 'somalia', 'to', 'replace', 'the', 'ethiopian', 'forces', ',', 'which', 'add', '##is', 'aba', '##ba', 'plans', 'to', 'withdraw', '.'], ['top', 'palestinian', 'ne', '##go', '##tia', '##tor', 'ahmed', 'qur', '##eia', 'says', 'israeli', 'and', 'palestinian', 'media', '##tors', 'have', 'agreed', 'to', 'prepare', 'a', 'document', 'out', '##lining', 'their', 'progress', 'toward', 'a', 'peace', 'accord', '.'], ['in', 'remarks', 'to', 'reporters', ',', 'qur', '##eia', 'said', 'the', 'two', 'sides', 'agreed', 'during', 'recent', 'meetings', 'to', 'begin', 'writing', 'out', 'their', 'positions', 'on', 'all', 'issues', 'discussed', 'during', 'peace', 'negotiations', '.'], ['he', 'did', 'not', 'elaborate', 'on', 'why', 'ne', '##go', '##tia', '##tors', 'had', 'come', 'to', 'the', 'decision', '.'], ['israeli', 'prime', 'minister', 'eh', '##ud', 'ol', '##mer', '##t', 'and', 'palestinian', 'president', 'mahmoud', 'abbas', 'resumed', 'u', '.', 's', '.', '-', 'broker', '##ed', 'peace', 'talks', 'last', 'november', ',', 'but', 'progress', 'has', 'been', 'slow', '.'], ['the', 'two', 'sides', 'have', 'expressed', 'hope', 'at', 'reaching', 'a', 'peace', 'deal', 'before', 'u', '.', 's', '.', 'president', 'george', 'bush', 'leaves', 'office', 'early', 'next', 'year', '.'], ['but', 'qur', '##eia', 'said', 'wednesday', 'that', 'reaching', 'a', 'peace', 'agreement', 'with', 'israel', 'before', 'mr', '.', 'bush', 'leaves', 'office', 'will', 'take', 'a', '\"', 'miracle', '.', '\"'], ['he', 'told', 'reporters', 'in', 'the', 'west', 'bank', 'that', 'there', 'is', 'still', 'room', 'for', 'progress', 'in', 'israeli', '-', 'palestinian', 'negotiations', '.'], ['the', 'israeli', 'military', 'says', 'major', 'general', 'ud', '##i', 'adam', '-', 'the', 'head', 'of', 'the', 'army', \"'\", 's', 'northern', 'command', '-', 'has', 'announced', 'his', 'resignation', '.'], ['a', 'military', 'statement', 'wednesday', ',', 'said', 'general', 'adam', 'has', 'asked', 'to', 'leave', 'his', 'post', '\"', 'as', 'soon', 'as', 'possible', ',', '\"', 'and', 'the', 'chief', 'of', 'staff', 'has', 'accepted', 'the', 'request', 'to', 'begin', 'the', 'process', 'of', 'his', 'replacement', '.'], ['adam', 'was', 'widely', 'expected', 'to', 'leave', 'the', 'army', 'after', 'he', 'was', 'pushed', 'aside', 'near', 'the', 'end', 'of', 'the', '34', '-', 'day', 'war', 'against', 'hezbollah', 'guerrillas', 'in', 'lebanon', '.'], ['he', 'was', 'replaced', 'by', 'another', 'general', 'as', '\"', 'coordinator', 'of', 'operations', 'in', 'lebanon', '.', '\"'], ['israeli', 'media', 'say', 'adam', 'had', 'several', 'disagreements', 'with', 'the', 'army', 'chief', ',', 'lieutenant', 'general', 'dan', 'hal', '##utz', ',', 'over', 'the', 'conduct', 'of', 'the', 'war', '.'], ['a', 'washington', '-', 'based', 'research', 'institute', 'says', 'pakistan', 'is', 'building', 'a', 'nuclear', 'reactor', 'that', 'could', 'produce', 'enough', 'pluto', '##nium', 'for', '40', 'to', '50', 'nuclear', 'weapons', 'a', 'year', '.'], ['the', 'institute', 'for', 'science', 'and', 'international', 'security', 'reports', 'that', 'satellite', 'photos', 'show', 'a', 'possible', 'construction', 'site', 'for', 'a', 'larger', 'nuclear', 'reactor', 'near', 'the', 'small', 'one', 'in', 'the', 'k', '##hus', '##hab', 'district', 'of', 'punjab', 'province', '.'], ['the', 'report', 'says', 'such', 'a', 'reactor', 'could', 'produce', 'over', '200', 'kilograms', 'of', 'weapons', '-', 'grade', 'pluto', '##nium', ',', 'good', 'for', '40', 'to', '50', 'nuclear', 'weapons', 'a', 'year', '.'], ['according', 'to', 'some', 'media', 'reports', ',', 'pakistan', 'is', 'now', 'capable', 'of', 'producing', 'pluto', '##nium', 'for', 'just', 'two', 'war', '##heads', 'a', 'year', '.'], ['pakistan', \"'\", 's', 'foreign', 'ministry', 'spoke', '##sw', '##oman', 'ta', '##s', '##ni', '##m', 'as', '##lam', 'declined', 'to', 'say', 'whether', 'a', 'new', 'reactor', 'is', 'being', 'constructed', ',', 'but', 'she', 'said', 'the', 'presence', 'of', 'a', 'nuclear', 'weapons', 'program', 'and', 'facilities', 'at', 'k', '##hus', '##hab', 'are', 'well', 'known', '.'], ['the', 'american', 'diabetes', 'association', 'reports', 'the', 'disease', 'is', 'the', 'leading', 'cause', 'of', 'new', 'cases', 'of', 'blindness', 'among', 'adults', '.'], ['it', 'is', 'the', 'leading', 'cause', 'of', 'kidney', 'failure', '.'], ['the', 'rate', 'of', 'amp', '##utation', 'is', '10', 'times', 'higher', 'among', 'those', 'who', 'suffer', 'from', 'the', 'disease', '.'], ['experts', 'say', 'those', 'who', 'learn', 'how', 'to', 'manage', 'the', 'disease', 'early', ',', 'can', 'live', 'health', '##ier', 'and', 'more', 'normal', 'lives', '.'], ['vo', '##a', \"'\", 's', 'june', 'so', '##h', 'found', 'camps', 'that', 'provide', 'children', 'with', 'this', 'chronic', 'disease', 'a', 'positive', 'approach', 'to', 'living', 'with', 'diabetes', 'while', 'letting', 'them', 'just', 'be', 'kids', '.'], ['amy', 'katz', 'na', '##rra', '##tes', '.'], ['cuba', 'and', 'panama', 'have', 'said', 'they', 'will', 'restore', 'consular', 'relations', ',', 'months', 'after', 'havana', 'broke', 'ties', 'with', 'panama', 'city', 'for', 'pardon', '##ing', 'four', 'men', 'convicted', 'in', 'connection', 'with', 'an', 'assassination', 'attempt', 'against', 'cuban', 'president', 'fide', '##l', 'castro', '.'], ['the', 'countries', 'agreed', 'to', 're', '##open', 'their', 'consulate', '##s', ',', 'following', 'a', 'meeting', 'friday', 'between', 'panama', '##nian', 'president', 'martin', 'tor', '##ri', '##jos', 'and', 'cuban', 'vice', 'president', 'carlos', 'la', '##ge', '.'], ['the', 'meeting', 'took', 'place', 'on', 'the', 'side', '##lines', 'of', 'the', 'ib', '##ero', '-', 'american', 'summit', 'in', 'san', 'jose', ',', 'costa', 'rica', ',', 'where', 'heads', 'of', 'state', 'were', 'meeting', 'to', 'discuss', 'a', 'candidate', 'to', 'head', 'the', 'organization', 'of', 'american', 'states', 'and', 'other', 'regional', 'issues', '.'], ['cuba', 'severed', 'ties', 'with', 'panama', 'in', 'august', ',', 'hours', 'after', 'panama', '##nian', 'president', 'mir', '##ey', '##a', 'mo', '##sco', '##so', ',', 'in', 'her', 'final', 'days', 'in', 'office', ',', 'pardon', '##ed', 'the', 'men', ',', 'preventing', 'their', 'extra', '##dition', 'to', 'cuba', '.'], ['they', 'were', 'convicted', 'of', 'plotting', 'to', 'kill', 'mr', '.', 'castro', 'during', 'the', '2000', 'ib', '##ero', '-', 'american', 'summit', 'in', 'panama', 'city', '.'], ['the', 'israeli', 'army', 'has', 'killed', 'a', 'palestinian', 'youth', 'in', 'the', 'northern', 'gaza', 'strip', 'and', 'wounded', 'at', 'least', 'three', 'other', 'people', '.'], ['the', 'army', 'says', 'it', 'targeted', 'a', 'man', 'who', 'was', 'collecting', 'a', 'rocket', 'launcher', 'from', 'an', 'area', 'used', 'to', 'fire', 'rockets', 'at', 'israel', 'recently', '.'], ['palestinian', 'medical', 'sources', 'say', 'the', 'israeli', 'strike', 'killed', 'a', 'teenager', '.'], ['the', 'israeli', 'military', 'began', 'an', 'offensive', 'in', 'gaza', 'after', 'militants', 'kidnapped', 'an', 'israeli', 'soldier', 'in', 'june', '.'], ['more', 'than', '200', 'palestinians', 'have', 'been', 'killed', 'in', 'the', 'offensive', '.'], ['on', 'sunday', ',', 'palestinian', 'prime', 'minister', 'ismail', 'han', '##iy', '##eh', 'said', 'his', 'hamas', '-', 'led', 'government', 'will', 'not', 'recognize', 'israel', '.'], ['he', 'said', 'an', 'arab', 'peace', 'plan', 'for', 'the', 'region', 'is', 'problematic', 'because', 'it', 'requires', 'palestinians', 'to', 'recognize', 'israel', 'in', 'exchange', 'for', 'an', 'israeli', 'pull', '##out', 'from', 'palestinian', 'territories', '.'], ['he', 'spoke', 'after', 'a', 'week', 'of', 'deadly', 'political', 'in', '##fighting', 'between', 'hamas', 'and', 'the', 'rival', 'fat', '##ah', 'party', 'of', 'president', 'mahmoud', 'abbas', '.'], ['u', '.', 's', '.', 'auto', '##maker', 'chrysler', 'has', 'opened', 'a', '$', '570', 'million', 'engine', 'plant', 'in', 'northern', 'mexico', '.'], ['during', 'the', 'ceremonial', 'startup', 'of', 'the', 'salt', '##illo', 'plant', 'friday', ',', 'mexican', 'president', 'felipe', 'calderon', 'said', 'chrysler', \"'\", 's', 'sixth', 'plant', 'in', 'mexico', 'will', 'create', '700', 'jobs', '.'], ['mr', '.', 'calderon', 'said', 'mexico', 'has', 'become', 'a', 'worldwide', 'leader', 'in', 'the', 'auto', 'industry', '.'], ['chrysler', 'plans', 'to', 'build', 'its', 'new', 'fuel', '-', 'efficient', 'pen', '##tas', '##tar', 'v', '-', '6', 'engine', 'for', 'chrysler', ',', 'dodge', ',', 'jeep', 'and', 'ram', 'vehicles', '.'], ['mexican', 'officials', 'say', 'the', 'new', 'plant', 'will', 'have', 'the', 'capacity', 'to', 'build', '4', ',', '40', ',', '000', 'engines', 'per', 'year', '.'], ['a', 'u', '.', 's', '.', 'jury', 'has', 'found', 'that', 'drug', 'maker', 'mer', '##ck', 'is', 'not', 'liable', 'for', 'the', 'heart', 'attack', 'suffered', 'by', 'a', 'man', 'taking', 'its', 'pain', '##kill', '##er', 'vi', '##ox', '##x', '.'], ['the', 'new', 'jersey', 'jurist', '##s', 'agreed', 'with', 'mer', '##ck', 'that', 'job', 'stress', 'and', 'health', 'risks', 'caused', 'the', '60', '-', 'year', 'old', 'postal', 'worker', 'to', 'have', 'a', 'heart', 'attack', 'four', 'years', 'ago', '.'], ['the', 'plaintiff', 'argued', 'vi', '##ox', '##x', 'was', 'responsible', '.'], ['the', 'jury', 'also', 'rejected', 'the', 'man', \"'\", 's', 'claim', 'that', 'mer', '##ck', 'failed', 'to', 'properly', 'warn', 'users', 'about', 'the', 'drug', \"'\", 's', 'risks', '.'], ['mer', '##ck', 'withdrew', 'the', 'popular', 'drug', 'last', 'year', 'after', 'a', 'study', 'showed', 'it', 'doubled', 'the', 'risk', 'of', 'heart', 'problems', 'in', 'long', '-', 'term', 'users', '.'], ['mer', '##ck', 'is', 'facing', 'thousands', 'of', 'other', 'lawsuits', 'over', 'vi', '##ox', '##x', '.'], ['thursday', \"'\", 's', 'verdict', 'is', 'only', 'the', 'second', 'in', 'a', 'vi', '##ox', '##x', 'case', '.'], ['in', 'the', 'first', ',', 'mer', '##ck', 'was', 'ordered', 'to', 'pay', 'millions', 'of', 'dollars', 'to', 'the', 'widow', 'of', 'a', 'vi', '##ox', '##x', 'user', '.'], ['mer', '##ck', 'is', 'appealing', 'that', 'decision', '.'], ['the', 'rumors', 'are', 'true', ':', 'nicole', 'ritchie', 'is', 'pregnant', '.'], ['speaking', 'to', 'abc', 'news', 'interview', '##er', 'dia', '##nne', 'sawyer', ',', 'the', '25', '-', 'year', '-', 'old', 'co', '-', 'star', 'of', 'tv', \"'\", 's', 'the', 'simple', 'life', 'said', 'she', 'is', 'almost', 'four', 'months', 'along', 'in', 'her', 'pregnancy', '.'], ['she', 'said', 'the', 'father', 'is', 'her', 'boyfriend', ',', 'joel', 'madden', 'of', 'the', 'rock', 'band', 'good', 'charlotte', '.'], ['ritchie', 'also', 'spoke', 'about', 'her', 'guilty', 'plea', 'last', 'week', 'to', 'driving', 'under', 'the', 'influence', 'and', 'the', 'resulting', 'four', '-', 'day', 'jail', 'sentence', '.'], ['\"', 'i', 'have', 'a', 'responsibility', 'and', 'it', \"'\", 's', 'something', 'that', 'i', 'did', 'wrong', ',', 'and', 'if', 'i', 'could', 'personally', 'apologize', 'to', 'every', 'single', 'person', 'that', 'has', 'lost', 'a', 'loved', 'one', 'from', 'drunk', 'driving', ',', 'i', 'would', ',', '\"', 'she', 'said', '.'], ['\"', 'and', 'unfortunately', 'i', 'ca', 'n', \"'\", 't', ',', 'but', 'this', 'is', 'my', 'way', 'of', 'paying', 'my', 'due', '##s', 'and', 'taking', 'responsibility', 'and', 'being', 'an', 'adult', '.', '\"'], ['the', 'interview', 'airs', 'august', '2', 'and', '3', 'on', 'good', 'morning', 'america', ',', 'and', 'later', 'august', '3', 'on', '20', '/', '20', '.'], ['u', '.', 's', '.', 'senator', 'john', 'warner', 'of', 'the', 'southeastern', 'state', 'of', 'virginia', ',', 'a', 'prominent', 'republican', 'figure', 'in', 'the', 'debate', 'over', 'the', 'war', 'in', 'iraq', ',', 'says', 'he', 'will', 'retire', 'after', 'finishing', 'his', 'term', 'in', '2009', '.'], ['warner', 'told', 'supporters', 'outside', 'of', 'the', 'university', 'of', 'virginia', 'friday', 'that', 'he', 'will', 'not', 'seek', 'a', 'sixth', 'term', 'in', 'the', '2008', 'elections', '.'], ['the', 'former', 'chairman', 'of', 'the', 'powerful', 'senate', 'armed', 'services', 'committee', 'has', 'openly', 'criticized', 'president', 'bush', \"'\", 's', 'handling', 'of', 'the', 'war', 'in', 'iraq', '.'], ['he', 'called', 'on', 'mr', '.', 'bush', 'earlier', 'this', 'month', 'to', 'begin', 'withdrawing', 'some', 'u', '.', 's', '.', 'troops', 'from', 'iraq', '.'], ['his', 'retirement', 'will', 'leave', 'open', 'what', 'would', 'have', 'been', 'a', 'relatively', 'safe', 'seat', 'for', 'republicans', 'in', 'the', 'fight', 'for', 'senate', 'control', 'in', 'the', 'elections', '.'], ['democrats', 'will', 'now', 'have', 'a', 'better', 'chance', 'to', 'protect', 'or', 'expand', 'their', 'one', '-', 'seat', 'majority', 'in', 'the', 'senate', '.'], ['when', 'he', 'leaves', 'office', ',', 'the', '80', '-', 'year', '-', 'old', 'former', 'navy', 'secretary', 'will', 'have', 'served', '30', 'years', 'as', 'a', 'u', '.', 's', '.', 'senator', '.'], ['the', 'united', 'nations', 'says', 'december', \"'\", 's', 'indian', 'ocean', 'tsunami', 'caused', 'around', '$', '520', 'million', 'in', 'damage', 'to', 'fishing', 'industries', 'in', 'seven', 'of', 'the', 'worst', 'hit', 'countries', '.'], ['the', 'u', '.', 'n', '.', \"'\", 's', 'food', 'and', 'agricultural', 'organization', '(', 'fa', '##o', ')', 'said', 'the', 'tsunami', 'destroyed', 'or', 'damaged', 'more', 'than', '1', ',', '11', ',', '000', 'fishing', 'vessels', 'in', 'the', 'region', '.'], ['it', 'said', 'the', 'loss', 'was', 'significant', 'in', 'a', 'region', 'where', 'fishing', 'provides', 'a', 'vital', 'source', 'of', 'food', '.'], ['the', 'fa', '##o', \"'\", 's', 'estimate', 'includes', 'damage', 'to', 'fishing', 'industries', 'in', 'indonesia', ',', 'maldives', ',', 'somalia', ',', 'sri', 'lanka', 'and', 'thailand', '.'], ['the', 'agency', 'says', 'it', 'has', 'sent', 'experts', 'to', 'help', 'rebuild', 'fishing', 'industry', 'infrastructure', 'lost', 'in', 'the', 'disaster', 'and', 'is', 'developing', 'strategies', 'for', 'long', '-', 'term', 'recovery', 'in', 'the', 'region', '.'], ['officials', 'in', 'indonesia', 'say', 'another', 'person', 'has', 'died', 'from', 'bird', 'flu', ',', 'bringing', 'the', 'country', \"'\", 's', 'death', 'toll', 'from', 'the', 'disease', 'to', '96', 'since', 'the', 'outbreak', 'started', 'in', '2003', '.'], ['the', 'latest', 'victim', 'was', 'a', '16', '-', 'year', '-', 'old', 'girl', 'from', 'the', 'town', 'of', 'be', '##kas', '##i', ',', 'on', 'the', 'eastern', 'outskirts', 'of', 'jakarta', '.'], ['officials', 'say', 'she', 'died', 'tuesday', '.'], ['monday', ',', 'officials', 'reported', 'that', 'a', '32', '-', 'year', '-', 'old', 'woman', 'from', 'an', 'area', 'just', 'west', 'of', 'jakarta', 'died', 'of', 'bird', 'flu', 'last', 'week', ',', 'at', 'her', 'home', 'in', 'the', 'city', 'of', 'tang', '##eran', '##g', '.'], ['a', 'statement', 'from', 'the', 'health', 'ministry', 'said', 'the', 'woman', \"'\", 's', 'family', 'kept', 'chickens', 'in', 'their', 'backyard', '.'], ['humans', 'are', 'usually', 'infected', 'with', 'bird', 'flu', 'by', 'direct', 'contact', 'with', 'infected', 'poultry', ',', 'but', 'experts', 'fear', 'the', 'h', '##5', '##n', '##1', 'virus', 'may', 'mu', '##tate', 'into', 'a', 'form', 'easily', 'transmitted', 'between', 'people', '.'], ['scientists', 'fear', 'such', 'a', 'mutation', 'could', 'spark', 'a', 'global', 'pan', '##de', '##mic', 'with', 'a', 'potential', 'death', 'toll', 'of', 'millions', '.'], ['thailand', 'says', 'it', 'has', 'photo', 'evidence', 'to', 'prove', 'its', 'claim', 'that', 'islamic', 'militants', 'responsible', 'for', 'violence', 'in', 'thailand', \"'\", 's', 'muslim', '-', 'majority', 'south', 'are', 'training', 'in', 'neighboring', 'malaysia', '.'], ['thai', 'deputy', 'interior', 'minister', 'su', '##tham', 'sa', '##eng', '##pr', '##ath', '##um', 'says', 'the', 'photos', 'show', 'the', 'militants', 'training', 'in', 'malaysia', \"'\", 's', 'northern', 'ke', '##lan', '##tan', 'state', ',', 'which', 'borders', 'southern', 'thailand', '.'], ['he', 'said', 'if', 'malaysia', 'wants', 'to', 'see', 'the', 'photos', ',', 'bangkok', 'will', 'provide', 'them', '.'], ['thai', 'prime', 'minister', 'tha', '##ks', '##in', 'shin', '##awa', '##tra', 'has', 'said', 'he', 'believes', 'some', 'of', 'the', 'insurgents', 'have', 'been', 'trained', 'in', 'malaysia', ',', 'indonesia', 'and', 'southern', 'thailand', '.'], ['malaysia', 'and', 'indonesia', 'have', 'demanded', 'proof', 'of', 'bangkok', \"'\", 's', 'allegations', '.'], ['more', 'than', '500', 'people', 'have', 'been', 'killed', 'this', 'year', 'in', 'an', 'insurgency', 'that', 'some', 'say', 'is', 'supported', 'by', 'ex', '##tre', '##mist', 'muslims', 'in', 'indonesia', 'and', 'malaysia', '.'], ['anti', '-', 'japanese', 'protests', 'in', 'the', 'western', 'chinese', 'city', 'of', 'shanghai', 'turned', 'violent', 'saturday', ',', 'with', 'protesters', 'pe', '##lt', '##ing', 'the', 'japanese', 'consulate', 'with', 'rocks', ',', 'bottles', 'and', 'eggs', '.'], ['several', 'thousand', 'people', 'took', 'to', 'the', 'streets', 'of', 'shanghai', 'as', 'part', 'of', 'a', 'new', 'wave', 'of', 'anti', '-', 'japanese', 'protests', 'over', 'japan', \"'\", 's', 'bid', 'for', 'a', 'permanent', 'seat', 'on', 'the', 'u', '.', 'n', '.', 'security', 'council', 'and', 'tokyo', \"'\", 's', 'alleged', 'down', '##play', '##ing', 'of', 'war', 'atrocities', '.'], ['in', 'beijing', ',', 'police', 'are', 'out', 'in', 'force', 'waiting', 'for', 'protests', 'to', 'begin', 'in', 'the', 'capital', '.'], ['state', 'council', '##or', 'tang', 'jia', '##x', '##uan', 'told', 'the', 'official', 'xi', '##nh', '##ua', 'news', 'agency', 'that', 'china', \"'\", 's', 'government', 'is', 'urging', 'people', 'to', 'protest', 'in', 'a', 'calm', 'and', 'orderly', 'manner', '.'], ['japan', \"'\", 's', 'foreign', 'minister', ',', 'no', '##bu', '##taka', 'mach', '##im', '##ura', ',', 'arrives', 'sunday', 'in', 'beijing', 'for', 'talks', 'with', 'his', 'chinese', 'counterpart', ',', 'li', 'zhao', '##xing', ',', 'to', 'discuss', 'relations', 'between', 'the', 'two', 'countries', '.'], ['organizers', 'of', 'the', '2012', 'summer', 'olympics', 'in', 'london', 'have', 'promised', 'the', '\"', 'greene', '##st', 'games', '\"', 'in', 'history', 'and', 'sought', 'to', 'soothe', 'concerns', 'about', 'the', 'rising', 'cost', 'of', 'the', 'event', '.'], ['with', '2', ',', '01', '##2', 'days', 'to', 'go', 'until', 'the', 'games', 'get', 'under', 'way', ',', 'organizers', 'said', 'the', 'design', 'would', 'champion', 'low', 'waste', ',', 'low', 'carbon', 'emissions', 'and', 'environmentally', 'friendly', 'transportation', '.'], ['the', 'olympic', 'delivery', 'authority', 'has', 'promised', 'to', 'cut', 'emissions', '50', 'percent', 'by', 'generating', 'energy', 'on', 'site', 'and', 'using', 'renewable', 'energy', '.'], ['prime', 'minister', 'tony', 'blair', 'said', 'london', 'is', 'farther', 'ahead', 'in', 'preparations', 'at', 'this', 'stage', 'than', 'any', 'other', 'previous', 'olympic', 'host', 'city', '.'], ['the', 'british', 'government', 'wants', 'to', 'have', 'the', 'olympic', 'budget', 'finalized', 'early', 'this', 'year', ',', 'but', 'costs', 'have', 'already', 'risen', 'substantially', 'since', 'london', 'won', 'the', 'bid', 'in', 'july', 'of', '2005', '.'], ['a', 'select', 'committee', 'report', 'due', 'wednesday', 'is', 'expected', 'to', 'be', 'highly', 'critical', 'of', 'the', 'government', \"'\", 's', 'financing', 'of', 'the', 'games', '.'], ['china', \"'\", 's', 'giant', 'panda', '##s', 'have', 'been', 'on', 'endangered', 'species', 'lists', 'for', 'nearly', '30', 'years', '.'], ['there', 'are', 'only', 'about', '1', ',', '600', 'panda', '##s', 'still', 'living', 'in', 'the', 'wild', 'in', 'china', '.'], ['one', 'of', 'the', '2008', 'olympic', 'mascot', '##s', 'is', 'modeled', 'on', 'a', 'panda', 'called', 'jing', 'jing', '.'], ['conservation', '##ists', 'hope', 'she', 'will', 'help', 'draw', 'attention', 'to', 'the', 'threats', 'facing', 'the', 'giant', 'panda', '-', '-', 'one', 'of', 'china', \"'\", 's', 'national', 'symbols', '.'], ['sam', 'beat', '##tie', 'reports', 'from', 'jing', 'jing', \"'\", 's', 'home', 'in', 'sichuan', 'province', '.'], ['british', 'defense', 'officials', 'say', '14', 'british', 'military', 'personnel', 'have', 'been', 'killed', 'in', 'a', 'crash', 'of', 'a', 'nato', 'aircraft', 'in', 'southern', 'afghanistan', '.'], ['a', 'nato', 'spokesman', 'says', 'the', 'aircraft', 'went', 'off', 'the', 'radar', 'and', 'crashed', 'in', 'an', 'open', 'area', 'near', 'kan', '##dah', '##ar', 'saturday', '.'], ['officials', 'say', 'the', 'aircraft', 'was', 'supporting', 'a', 'nato', 'mission', 'in', 'the', 'country', \"'\", 's', 'south', ',', 'but', 'there', 'is', 'no', 'indication', 'of', 'enemy', 'action', 'causing', 'the', 'crash', '.'], ['the', 'crash', 'comes', 'as', 'nato', 'forces', 'launched', 'an', 'offensive', 'to', 'drive', 'tale', '##ban', 'remnants', 'out', 'of', 'kan', '##dah', '##ar', '.'], ['officials', 'say', '\"', 'operation', 'med', '##usa', '\"', 'is', 'aimed', 'at', 'removing', 'the', 'tale', '##ban', 'threat', 'so', 'that', 'stability', ',', 'reconstruction', 'and', 'development', 'can', 'be', 'achieved', 'in', 'the', 'area', '.'], ['sri', 'lankan', 'authorities', 'say', 'a', 'prominent', 'tamil', 'journalist', 'was', 'found', 'shot', 'dead', 'friday', 'in', 'colombo', ',', 'hours', 'after', 'he', 'was', 'abducted', 'by', 'several', 'attackers', 'as', 'he', 'left', 'a', 'restaurant', '.'], ['dh', '##arm', '##era', '##t', '##nam', 'si', '##vara', '##m', 'was', 'a', 'board', 'member', 'of', 'the', 'pro', '-', 'rebel', 'tamil', '##net', 'web', 'site', 'and', 'a', 'columnist', 'for', 'sri', 'lanka', \"'\", 's', 'english', 'newspaper', ',', 'the', 'daily', 'mirror', '.'], ['mr', '.', 'si', '##vara', '##m', \"'\", 's', 'web', 'site', 'became', 'popular', 'for', 'ongoing', 'reports', 'on', 'the', 'sri', 'lankan', 'civil', 'war', 'and', 'was', 'a', 'prominent', 'supporter', 'of', 'the', 'tamil', 'tiger', 'rebel', 'movement', '.'], ['mr', '.', 'si', '##vara', '##m', ',', 'who', 'was', 'also', 'brutally', 'attacked', 'in', '2001', ',', 'was', 'found', 'near', 'a', 'lake', 'gag', '##ged', 'with', 'gunshot', 'wounds', 'to', 'the', 'head', '.'], ['no', 'one', 'claimed', 'responsibility', 'for', 'the', 'killing', '.'], ['japan', 'and', 'north', 'korea', 'say', 'they', 'are', 'considering', 'a', 'res', '##ump', '##tion', 'of', 'bilateral', 'talks', 'as', 'part', 'of', 'efforts', 'to', 'normal', '##ize', 'relations', '.'], ['japanese', 'media', 'reported', 'monday', 'that', 'the', 'two', 'countries', 'hope', 'to', 'arrange', 'to', 'hold', 'the', 'talks', 'in', 'beijing', 'in', 'early', 'november', '.'], ['the', 'talks', 'could', 'come', 'before', 'six', '-', 'party', 'talks', 'on', 'north', 'korea', \"'\", 's', 'nuclear', 'ambitions', 'resume', '.'], ['japan', 'and', 'north', 'korea', 'have', 'not', 'had', 'formal', 'bilateral', 'talks', 'for', 'about', 'a', 'year', '.'], ['tokyo', 'and', 'p', '##yon', '##gy', '##ang', 'are', 'at', 'odds', 'over', 'north', 'korea', \"'\", 's', 'nuclear', 'weapons', 'program', 'and', 'the', 'north', \"'\", 's', 'kidnapping', 'of', 'japanese', 'citizens', 'in', 'the', '1970s', 'and', '1980s', '.'], ['a', 'human', 'rights', 'group', 'has', 'accused', 'coalition', 'forces', 'in', 'iraq', 'of', 'failing', 'to', 'secure', 'evidence', 'considered', 'vital', 'to', 'the', 'upcoming', 'war', 'crimes', 'trial', 'of', 'former', 'iraqi', 'leader', 'saddam', 'hussein', '.'], ['human', 'rights', 'watch', ',', 'in', 'a', 'report', 'released', 'thursday', ',', 'said', 'coalition', 'forces', 'failed', 'to', 'stop', 'people', 'from', 'stealing', 'thousands', 'of', 'iraqi', 'government', 'documents', 'in', 'the', 'months', 'after', 'the', '2003', 'invasion', 'of', 'iraq', '.'], ['the', 'group', 'also', 'accused', 'troops', 'of', 'failing', 'to', 'stop', 'people', 'from', 'damaging', 'several', 'mass', 'graves', 'in', 'the', 'war', '-', 'torn', 'country', '.'], ['the', 'associated', 'press', 'quotes', 'a', 'u', '.', 's', '.', 'defense', 'department', 'spoke', '##sw', '##oman', 'as', 'saying', 'it', 'has', 'not', 'reviewed', 'the', 'report', '.'], ['saddam', 'hussein', 'was', 'ar', '##rai', '##gned', 'in', 'july', 'at', 'a', 'u', '.', 's', '.', 'military', 'base', 'on', 'the', 'outskirts', 'of', 'baghdad', '.'], ['he', 'faces', 'charges', 'of', 'war', 'crimes', ',', 'genocide', 'and', 'crimes', 'against', 'humanity', '.'], ['egypt', \"'\", 's', 'government', 'and', 'the', 'world', 'health', 'organization', 'say', 'three', 'egyptian', 'children', 'have', 'been', 'hospitalized', 'with', 'the', 'deadly', 'form', 'of', 'av', '##ian', 'flu', '.'], ['the', 'children', 'come', 'from', 'different', 'parts', 'of', 'the', 'country', '.'], ['who', 'says', 'they', 'are', 'receiving', 'treatment', 'and', 'are', 'in', 'stable', 'condition', '.'], ['the', 'organization', 'says', 'the', 'children', 'had', 'a', 'history', 'of', 'contact', 'with', 'dead', 'birds', '.'], ['thirty', 'two', 'egyptians', 'have', 'contracted', 'the', 'h', '##5', '##n', '##1', 'form', 'of', 'av', '##ian', 'flu', '.'], ['thirteen', 'of', 'them', 'have', 'died', '.'], ['egypt', 'has', 'had', 'the', 'largest', 'number', 'of', 'human', 'bird', 'flu', 'cases', 'outside', 'of', 'asia', '.'], ['the', 'head', 'of', 'the', 'u', '.', 'n', '.', 'investigation', 'into', 'the', 'iraq', 'oil', '-', 'for', '-', 'food', 'program', 'says', 'saddam', 'hussein', 'illegally', 'obtained', 'more', 'money', 'from', 'oil', 'smuggling', 'than', 'from', 'corruption', 'in', 'the', 'u', '.', 'n', '.', 'program', '.'], ['former', 'u', '.', 's', '.', 'federal', 'reserve', 'chairman', 'paul', 'vol', '##cker', 'says', 'the', 'smuggling', 'began', 'before', 'the', 'start', 'of', 'the', 'oil', '-', 'for', '-', 'food', 'program', ',', 'and', 'was', 'known', 'to', 'the', 'united', 'nations', 'security', 'council', '.'], ['in', 'an', 'interview', 'with', 'the', 'u', '.', 's', '.', 'government', '-', 'funded', 'al', '##hur', '##ra', 'television', 'station', ',', 'mr', '.', 'vol', '##cker', 'said', 'there', 'is', 'a', 'lot', 'of', 'confusion', 'about', 'how', 'much', 'money', 'saddam', 'obtained', 'from', 'the', 'oil', '-', 'for', '-', 'food', 'program', 'itself', '.'], ['he', 'refused', 'to', 'provide', 'specific', 'estimates', ',', 'but', 'said', 'large', 'amounts', 'that', 'have', 'been', 'reported', 'in', 'the', 'media', 'were', 'from', 'smuggling', 'and', 'not', 'from', 'funds', 'diverted', 'from', 'the', 'program', '.'], ['the', 'united', 'nations', 'created', 'the', 'oil', '-', 'for', '-', 'food', 'program', 'after', 'the', 'first', 'gulf', 'war', 'to', 'allow', 'iraq', 'to', 'sell', 'oil', 'and', 'use', 'the', 'profits', 'for', 'the', 'iraqi', 'people', \"'\", 's', 'humanitarian', 'needs', '.'], ['kyrgyzstan', \"'\", 's', 'justice', 'ministry', 'says', 'four', 'people', ',', 'including', 'parliament', 'member', 'ty', '##ny', '##ch', '##bek', 'ak', '##mat', '##bay', '##ev', ',', 'have', 'been', 'killed', 'at', 'a', 'prison', 'near', 'bis', '##h', '##ke', '##k', 'after', 'inmates', 'took', 'them', 'hostage', '.'], ['interior', 'minister', 'mu', '##rat', 'su', '##tal', '##ino', '##v', 'is', 'at', 'the', 'prison', 'to', 'head', 'negotiations', 'with', 'the', 'inmates', '.'], ['the', 'ministry', 'gave', 'no', 'other', 'details', '.'], ['it', 'is', 'not', 'clear', 'if', 'the', 'hostage', '-', 'take', '##rs', 'made', 'any', 'demands', '.'], ['mr', '.', 'ak', '##mat', '##bay', '##ev', 'was', 'involved', 'in', 'negotiations', 'on', 'wednesday', 'at', 'another', 'ky', '##rgy', '##z', 'prison', 'where', 'a', 'riot', 'over', 'poor', 'living', 'conditions', 'forced', 'the', 'staff', 'to', 'evacuate', 'earlier', 'this', 'week', '.'], ['that', 'prison', ',', 'also', 'near', 'bis', '##h', '##ke', '##k', ',', 'remained', 'surrounded', 'by', 'security', 'forces', 'on', 'thursday', '.'], ['a', 'commercial', 'airplane', 'taking', 'off', 'from', 'western', 'europe', 'has', 'landed', 'in', 'iraq', 'for', 'the', 'first', 'time', 'in', 'nearly', '20', 'years', '.'], ['the', 'plane', ',', 'operated', 'by', 'france', \"'\", 's', 'ai', '##gle', 'az', '##ur', 'airline', ',', 'took', 'off', 'from', 'charles', 'de', 'gaulle', 'airport', 'in', 'paris', 'late', 'saturday', 'and', 'touched', 'down', 'at', 'baghdad', 'international', 'airport', 'early', 'sunday', '.'], ['officials', 'said', 'this', 'first', 'flight', 'was', 'largely', 'ceremonial', ',', 'and', 'that', 'most', 'of', 'the', 'passengers', 'were', 'french', 'diplomats', 'and', 'business', 'leaders', '.'], ['one', 'of', 'the', 'passengers', ',', 'french', 'foreign', 'trade', 'minister', 'anne', '-', 'marie', 'id', '##rac', ',', 'called', 'it', 'a', 'historic', 'day', 'for', 'cooperation', 'between', 'france', 'and', 'iraq', '.'], ['regular', 'service', 'between', 'paris', 'and', 'baghdad', 'is', 'not', 'expected', 'to', 'start', 'for', 'at', 'least', 'several', 'weeks', '.'], ['ai', '##gle', 'az', '##ur', 'is', 'just', 'one', 'of', 'a', 'number', 'of', 'airlines', 'to', 'start', 'flying', 'to', 'baghdad', '.'], ['et', '##ih', '##ad', 'and', 'emirates', 'airlines', ',', 'both', 'operating', 'out', 'of', 'the', 'united', 'arab', 'emirates', ',', 'started', 'flying', 'to', 'baghdad', 'earlier', 'this', 'year', '.'], ['a', 'new', 'government', 'report', 'shows', 'u', '.', 's', '.', 'businesses', 'added', 'a', 'moderate', '1', ',', '11', ',', '000', 'new', 'jobs', 'in', 'january', '.'], ['the', 'labor', 'department', 'friday', 'issued', 'a', 'report', 'that', 'also', 'showed', 'the', 'u', '.', 's', '.', 'unemployment', 'rate', 'increased', 'for', 'the', 'first', 'time', 'in', 'three', 'months', '-', 'to', '4', '.', '6', 'percent', '.'], ['according', 'to', 'the', 'report', ',', 'american', 'workers', 'earned', 'an', 'average', 'of', '$', '17', '.', '09', 'an', 'hour', 'in', 'january', '-', 'a', 'slight', 'increase', 'from', 'the', 'previous', 'month', '.'], ['analysts', 'say', 'the', 'department', 'of', 'labor', 'report', 'will', 'help', 'ease', 'worries', 'that', 'a', 'tight', 'labor', 'market', 'will', 'significantly', 'in', '##fl', '##ate', 'wages', 'and', 'costs', '.'], ['earlier', 'this', 'week', ',', 'the', 'u', '.', 's', '.', 'central', 'bank', 'decided', 'to', 'maintain', 'a', 'key', 'interest', 'rate', ',', 'despite', 'the', 'risk', 'of', 'inflation', '.'], ['venezuelan', 'president', 'hugo', 'chavez', 'has', 'denounced', 'colombia', \"'\", 's', 'defense', 'minister', 'as', 'an', 'obstacle', 'to', 'peace', 'and', 'a', 'pawn', 'of', 'the', 'united', 'states', '.'], ['mr', '.', 'chavez', 'reacted', 'sharply', 'sunday', 'to', 'the', 'defense', 'minister', \"'\", 's', 'remarks', 'about', 'a', 'meeting', 'between', 'mr', '.', 'chavez', 'and', 'colombian', 'president', 'alvaro', 'ur', '##ibe', '.'], ['the', 'two', 'presidents', 'met', 'friday', 'to', 'try', 'to', 'men', '##d', 'ties', 'between', 'their', 'countries', '.'], ['after', 'the', 'meeting', ',', 'colombian', 'defense', 'minister', 'juan', 'manuel', 'santos', 'said', 'he', 'hoped', 'venezuela', 'would', 'follow', 'through', 'with', 'promises', 'made', 'during', 'the', 'meeting', '.'], ['during', 'a', 'televised', 'speech', 'sunday', ',', 'mr', '.', 'chavez', 'called', 'on', 'president', 'ur', '##ibe', 'to', 'put', 'his', 'defense', 'minister', 'in', 'his', 'place', '.'], ['tensions', 'between', 'the', 'two', 'countries', 'rose', 'in', 'march', 'when', 'colombia', 'attacked', 'a', 'rebel', 'camp', 'in', 'ecuador', '.'], ['venezuela', 'responded', 'by', 'sending', 'troops', 'to', 'the', 'colombian', 'border', '.'], ['china', 'has', 'lashed', 'out', 'at', 'a', 'u', '.', 's', '.', 'report', 'critical', 'of', 'chinese', 'policies', 'on', 'religious', 'freedom', ',', 'saying', 'such', 'criticism', 'could', 'harm', 'u', '.', 's', '.', '-', 'china', 'relations', '.'], ['in', 'its', 'annual', 'report', 'issued', 'wednesday', ',', 'the', 'u', '.', 's', '.', 'commission', 'on', 'international', 'religious', 'freedom', 'said', 'china', 'continues', 'to', 'be', 'responsible', 'for', 'per', '##vas', '##ive', 'and', 'severe', 'violations', 'of', 'religious', 'freedom', ',', 'regularly', 'imp', '##ris', '##oning', 'and', 'hara', '##ssing', 'religious', 'leaders', 'and', 'practitioners', '.'], ['in', 'a', 'statement', 'saturday', 'chinese', 'foreign', 'ministry', 'spokesman', 'liu', 'jian', '##cha', '##o', 'accused', 'the', 'u', '.', 's', '.', 'body', 'of', 'attempting', 'to', 'interfere', 'with', 'chinese', 'internal', 'affairs', 'under', 'the', 'guise', 'of', 'religious', 'freedom', '.'], ['he', 'said', 'such', 'criticism', 'runs', 'counter', 'to', 'the', 'good', 'development', 'of', 'u', '.', 's', '-', 'china', 'relations', '.'], ['liu', 'said', 'china', 'protects', 'the', 'religious', 'freedom', 'of', 'chinese', 'citizens', 'according', 'to', 'law', ',', 'and', 'that', 'citizens', 'enjoy', 'full', 'freedom', 'of', 'religion', '.'], ['china', \"'\", 's', 'communist', 'government', 'allows', 'worship', 'only', 'in', 'state', '-', 'approved', 'and', 'state', '-', 'monitored', 'churches', ',', 'temples', 'and', 'mosques', '.'], ['people', 'who', 'worship', 'in', 'unauthorized', 'ways', 'are', 'subject', 'to', 'arrest', '.'], ['president', 'bush', 'has', 'issued', '14', 'pardon', '##s', 'to', 'convicted', 'criminals', ',', 'and', 'has', 'commuted', 'the', 'prison', 'sentences', 'of', 'two', 'others', '.'], ['the', 'pardon', '##s', ',', 'announced', 'monday', ',', 'include', 'no', 'high', '-', 'profile', 'names', '.'], ['they', 'were', 'for', 'people', 'convicted', 'of', 'such', 'acts', 'as', 'bank', 'em', '##be', '##zzle', '##ment', ',', 'making', 'false', 'statements', 'to', 'the', 'federal', 'government', ',', 'unlawful', '##ly', 'killing', 'wildlife', ',', 'and', 'committing', 'drug', 'offenses', '.'], ['including', 'monday', \"'\", 's', 'actions', ',', 'mr', '.', 'bush', 'has', 'granted', '171', 'pardon', '##s', 'and', 'commuted', 'eight', 'sentences', 'while', 'u', '.', 's', '.', 'president', '.'], ['pardon', '##s', 'are', 'one', 'of', 'the', 'president', \"'\", 's', 'absolute', 'powers', ',', 'and', 'in', 'recent', 'years', 'it', 'has', 'become', 'typical', 'for', 'the', 'president', 'to', 'issue', 'pardon', '##s', 'as', 'he', 'prepares', 'to', 'leave', 'office', '.'], ['white', 'house', 'officials', 'say', 'he', 'made', 'the', 'pardon', 'decisions', 'on', 'a', 'case', '-', 'by', '-', 'case', 'basis', ',', 'and', 'will', 'continue', 'to', 'review', 'cl', '##eme', '##ncy', 'requests', '.'], ['uganda', \"'\", 's', 'government', 'and', 'rebels', 'of', 'the', 'lord', \"'\", 's', 'resistance', 'army', 'are', 'nearing', 'a', 'peace', 'deal', 'to', 'end', 'more', 'than', '20', 'years', 'of', 'conflict', '.'], ['officials', 'close', 'to', 'the', 'negotiations', 'say', 'an', 'accord', 'signed', 'friday', 'provides', 'for', 'the', 'di', '##sar', '##mament', 'and', 'demo', '##bil', '##ization', 'of', 'the', 'l', '##ra', '.'], ['the', 'two', 'sides', 'signed', 'a', 'permanent', 'cease', '-', 'fire', 'agreement', 'last', 'saturday', 'during', 'peace', 'talks', 'in', 'sudan', '.'], ['however', ',', 'there', 'is', 'still', 'uncertainty', 'the', 'rebels', 'will', 'sign', 'the', 'final', 'peace', 'deal', 'until', 'rebel', 'leader', 'joseph', 'ko', '##ny', 'is', 'granted', 'immunity', 'from', 'international', 'prosecution', '.'], ['ko', '##ny', 'is', 'one', 'of', 'five', 'l', '##ra', 'officials', 'sought', 'by', 'the', 'international', 'criminal', 'court', 'for', 'alleged', 'war', 'crimes', '.'], ['l', '##ra', 'fighters', 'are', 'accused', 'of', 'murdering', 'thousands', 'of', 'civilians', 'and', 'rap', '##ing', 'and', 'mu', '##tila', '##ting', 'others', 'during', 'the', 'long', 'insurgency', 'in', 'northern', 'uganda', '.'], ['world', 'number', 'one', 'men', \"'\", 's', 'tennis', 'player', 'roger', 'federer', 'has', 'been', 'nearly', 'un', '##beat', '##able', 'in', 'the', 'past', 'year', '.'], ['but', 'his', 'warm', '##up', 'for', 'the', 'australian', 'open', 'has', 'abruptly', 'ended', 'with', 'a', 'rare', 'loss', '.'], ['the', 'swiss', 'star', 'was', 'upset', 'wednesday', 'by', 'german', 'tommy', 'haas', 'in', 'the', 'opening', 'match', 'of', 'the', 'ko', '##oy', '##ong', 'classic', 'in', 'melbourne', '.'], ['because', 'he', 'was', 'playing', 'in', 'exhibition', 'tournament', ',', 'the', 'loss', 'will', 'not', 'count', 'on', 'his', 'association', 'of', 'tennis', 'professionals', 'tour', 'record', '.'], ['the', '41st', 'ranked', 'haas', 'fen', '##ded', 'off', 'three', 'break', 'points', 'while', 'serving', 'for', 'the', 'match', 'and', 'closed', 'a', '03', '-', 'jun', ',', '06', '-', 'apr', ',', '06', '-', 'apr', 'win', 'with', 'an', 'ace', '.'], ['federer', 'said', 'he', 'is', 'completely', 'healthy', 'and', 'has', 'no', 'concerns', 'that', 'the', 'ankle', 'problem', 'that', 'curt', '##ailed', 'his', 'last', 'season', 'would', 'flare', 'up', 'before', 'the', 'australian', 'open', ',', 'which', 'starts', 'monday', '.'], ['the', 'european', 'space', 'agency', 'says', 'it', 'has', 'received', 'the', 'first', 'images', 'and', 'scientific', 'readings', 'from', 'the', 'surface', 'of', 'saturn', \"'\", 's', 'moon', 'titan', '.'], ['officials', 'at', 'agency', 'headquarters', 'in', 'germany', 'friday', 'say', 'information', 'taken', 'from', 'the', 'hu', '##y', '##gens', 'space', 'probe', 'show', 'what', 'looks', 'like', 'drainage', 'channels', 'on', 'the', 'moon', '.'], ['they', 'say', 'the', 'surface', 'has', 'canyon', '##s', 'that', 'were', 'most', 'likely', 'caused', 'by', 'some', 'type', 'of', 'liquid', '.'], ['the', 'space', 'probe', 'began', 'transmitting', 'data', 'to', 'the', 'cass', '##ini', 'spacecraft', 'while', 'landing', 'on', 'saturn', \"'\", 's', 'largest', 'moon', 'earlier', 'friday', '.'], ['scientists', 'say', 'the', 'information', 'from', 'hu', '##y', '##gens', '-', 'operated', 'jointly', 'by', 'the', 'american', ',', 'european', 'and', 'italian', 'space', 'agencies', '-', 'may', 'provide', 'clues', 'about', 'how', 'primitive', 'earth', 'evolved', 'into', 'a', 'life', '-', 'bearing', 'planet', '.'], ['uganda', '##n', 'opposition', 'leader', 'ki', '##zza', 'be', '##si', '##gy', '##e', 'has', 'been', 'released', 'on', 'bail', ',', 'after', 'a', 'judge', 'ruled', 'his', 'detention', 'by', 'the', 'military', 'was', 'illegal', '.'], ['police', 'fired', 'tear', 'gas', 'to', 'disperse', 'hundreds', 'of', 'dr', '.', 'be', '##si', '##gy', '##e', \"'\", 's', 'supporters', 'who', 'took', 'to', 'the', 'streets', 'in', 'kam', '##pala', 'after', 'his', 'release', 'monday', '.'], ['uganda', \"'\", 's', 'military', 'had', 'detained', 'dr', '.', 'be', '##si', '##gy', '##e', 'since', 'november', ',', 'when', 'he', 'returned', 'from', 'self', '-', 'imposed', 'exile', 'to', 'run', 'against', 'president', 'yo', '##wer', '##i', 'muse', '##ven', '##i', 'in', 'next', 'month', \"'\", 's', 'presidential', 'election', '.'], ['a', 'military', 'tribunal', 'has', 'charged', 'dr', '.', 'be', '##si', '##gy', '##e', 'with', 'terrorism', 'and', 'possessing', 'illegal', 'weapons', '.'], ['but', 'a', 'uganda', '##n', 'high', 'court', 'judge', ',', 'john', 'bo', '##sco', 'kat', '##uts', '##i', ',', 'said', 'his', 'detention', 'was', 'illegal', 'because', 'the', 'high', 'court', 'had', 'suspended', 'the', 'military', 'trial', '.'], ['dr', '.', 'be', '##si', '##gy', '##e', 'still', 'faces', 'rape', 'charges', ',', 'for', 'which', 'a', 'civilian', 'trial', 'began', 'monday', '.'], ['he', 'has', 'denied', 'all', 'the', 'charges', ',', 'which', 'supporters', 'say', 'were', 'trump', '##ed', 'up', 'to', 'keep', 'him', 'from', 'running', 'for', 'president', '.'], ['u', '.', 's', '.', 'president', 'barack', 'obama', 'says', 'improvements', 'in', 'the', 'american', 'health', 'care', 'system', 'are', 'inevitable', '.'], ['mr', '.', 'obama', 'made', 'his', 'comments', 'in', 'the', 'white', 'house', 'rose', 'garden', 'monday', 'as', 'he', 'nominated', 'an', 'african', '-', 'american', 'woman', ',', 'regina', 'benjamin', ',', 'to', 'become', 'the', 'u', '.', 's', '.', 'surgeon', 'general', '.'], ['the', 'president', 'said', '\"', 'nay', '##say', '##ers', 'and', 'cy', '##nic', '##s', '\"', 'should', 'not', 'bet', 'against', 'the', 'passage', 'of', 'health', 'insurance', 'legislation', '.'], ['he', 'also', 'said', 'ina', '##ction', 'on', 'the', 'issue', 'is', 'not', 'an', 'option', '.'], ['mr', '.', 'obama', 'has', 'vowed', 'to', 'sign', 'a', 'health', 'care', 'bill', 'into', 'law', 'this', 'year'], ['decisive', '##ly', 'to', 'stop', 'militant', 'attacks', '.'], ['he', 'also', 'said', 'he', 'will', 'not', 'hold', 'talks', 'with', 'palestinian', 'leader', 'mahmoud', 'abbas', 'until', 'the', 'attacks', 'stop', '.'], ['a', 'draft', 'peace', 'proposal', 'under', 'consideration', 'by', 'the', 'afghan', 'government', 'could', 'offer', 'taliban', 'leaders', 'exile', 'overseas', 'if', 'they', 'agree', 'to', 'stop', 'fighting', '.'], ['the', 'draft', 'plan', ',', 'seen', 'by', 'reporters', 'for', 'british', 'news', 'organizations', 'reuters', 'and', 'the', 'guardian', 'newspaper', ',', 'also', 'calls', 'for', '\"', 'de', '-', 'radical', '##ization', '\"', 'classes', 'for', 'insurgents', 'and', 'thousands', 'of', 'new', 'jobs', 'to', 'be', 'created', 'for', 'militants', 'who', 'reno', '##unce', 'violence', '.'], ['the', 'proposal', 'comes', 'weeks', 'before', 'a', 'grand', 'council', 'of', 'afghan', '##s', ',', 'known', 'as', 'a', 'ji', '##rga', ',', 'meets', 'in', 'kabul', 'on', 'may', '29', 'to', 'discuss', 'how', 'to', 'make', 'peace', 'with', 'the', 'insurgents', '.'], ['possible', 'peace', 'talks', 'will', 'be', 'a', 'key', 'issue', 'discussed', 'when', 'afghan', 'president', 'hamid', 'ka', '##rza', '##i', 'meets', 'with', 'u', '.', 's', '.', 'president', 'barack', 'obama', 'in', 'washington', 'this', 'week', '.'], ['russia', 'has', 'ordered', 'its', 'fleet', 'of', 'su', '-', '24', 'bombers', 'grounded', 'after', 'one', 'of', 'the', 'planes', 'crashed', 'during', 'a', 'training', 'mission', '.'], ['air', 'force', 'officials', 'said', 'thursday', 'that', 'a', 'technical', 'problem', 'caused', 'the', 'early', 'morning', 'accident', 'in', 'the', 'far', 'east', 'k', '##hab', '##aro', '##vs', '##k', 'territory', '.'], ['they', 'said', 'preliminary', 'investigation', 'indicates', 'that', 'a', 'technical', 'problem', 'rather', 'than', 'pilot', 'error', 'cause', 'the', 'crash', '.'], ['russian', 'news', 'media', 'say', 'rescue', 'helicopters', 'found', 'the', 'wreckage', 'more', 'than', 'a', '100', 'kilometers', 'away', 'from', 'the', 'airfield', '.'], ['the', 'two', 'pilots', 'had', 'ejected', 'safely', 'before', 'the', 'crash', 'and', 'were', 'taken', 'to', 'a', 'military', 'hospital', 'for', 'a', 'medical', 'examination', '.'], ['reports', 'say', 'there', 'was', 'no', 'damage', 'on', 'the', 'ground', '.'], ['the', 'bomber', 'flights', 'are', 'to', 'remain', 'suspended', 'until', 'investigators', 'establish', 'the', 'cause', 'of', 'the', 'crash', '.'], ['pro', '-', 'russian', 'demonstrators', 'in', 'crimea', 'have', 'protested', 'against', 'the', 'arrival', 'of', 'a', 'u', '.', 's', '.', 'naval', 'frigate', 'in', 'se', '##vas', '##top', '##ol', ',', 'the', 'ukrainian', 'port', 'where', 'russia', \"'\", 's', 'black', 'sea', 'fleet', 'is', 'based', '.'], ['news', '-', 'agency', 'reports', 'from', 'se', '##vas', '##top', '##ol', 'say', 'the', 'demonstrators', 'shouted', '\"', 'nato', 'out', '\"', 'and', '\"', 'yankee', 'go', 'home', '\"', 'during', 'their', 'protest', 'wednesday', '.'], ['ukraine', \"'\", 's', 'navy', 'says', 'the', 'u', '.', 's', '.', 'naval', 'vessel', 'is', 'on', 'a', 'friendly', 'visit', 'to', 'the', 'black', 'sea', 'and', 'is', 'not', 'taking', 'part', 'in', 'any', 'military', 'exercises', '.'], ['se', '##vas', '##top', '##ol', \"'\", 's', 'naval', 'base', 'dates', 'back', 'to', 'soviet', 'times', '.'], ['through', 'a', 'lease', 'agreement', 'with', 'ukraine', ',', 'russia', 'will', 'operate', 'the', 'facility', 'until', '2017', '.'], ['ukraine', \"'\", 's', 'campaign', 'to', 'win', 'nato', 'membership', 'has', 'been', 'strongly', 'opposed', 'by', 'moscow', ',', 'which', 'says', 'it', 'will', 'not', 'accept', 'any', 'further', 'expansion', 'of', 'the', 'western', 'alliance', 'on', 'russia', \"'\", 's', 'borders', '.'], ['egypt', \"'\", 's', 'largest', 'opposition', 'group', 'def', '##ied', 'authorities', 'and', 'held', 'anti', '-', 'government', 'protests', 'in', 'cairo', 'sunday', '.'], ['several', 'thousand', 'riot', 'police', 'prevented', 'the', 'muslim', 'brotherhood', 'from', 'holding', 'a', 'rally', 'outside', 'the', 'egyptian', 'parliament', 'as', 'planned', '.'], ['instead', ',', 'members', 'of', 'the', 'group', 'gathered', 'in', 'front', 'of', 'a', 'cairo', 'mosque', ',', 'shouting', 'demands', 'for', 'political', 'reforms', '.'], ['authorities', 'say', 'they', 'arrested', 'at', 'least', '50', 'protesters', '.'], ['estimates', 'of', 'the', 'crowd', 'range', 'from', 'several', 'hundred', 'to', '3', ',', '000', '.'], ['smaller', 'protests', 'took', 'place', 'at', 'two', 'other', 'cairo', 'locations', '.'], ['egyptian', 'authorities', 'had', 'arrested', 'another', '50', 'brotherhood', 'members', 'before', 'the', 'protests', '.'], ['the', 'muslim', 'brotherhood', 'calls', 'for', 'replacing', 'egypt', \"'\", 's', 'secular', 'government', 'with', 'an', 'islamic', 'state', '.'], ['the', 'group', 'was', 'formally', 'banned', 'in', '1954', ',', 'but', 'its', 'members', ',', 'running', 'in', 'elections', 'as', 'independents', ',', 'hold', 'enough', 'seats', 'to', 'make', 'the', 'brotherhood', 'the', 'largest', 'opposition', 'group', 'in', 'egypt', \"'\", 's', 'parliament', '.'], ['russia', 'says', 'it', 'is', 'commissioning', 'its', 'first', 'unit', 'of', 'new', 'mobile', 'intercontinental', 'ballistic', 'missiles', '.'], ['monday', 'told', 'russian', 'television', 'the', 'new', 'version', 'of', 'the', 'top', '##ol', '-', 'm', 'missile', 'is', 'capable', 'of', 'penetrating', 'multi', '-', 'layered', 'missile', 'defense', 'systems', '.'], ['ivanov', 'said', 'the', 'missiles', 'will', 'form', 'the', 'core', 'of', 'russia', \"'\", 's', 'strategic', 'missile', 'forces', '.'], ['he', 'called', 'them', 'a', 'new', 'generation', 'of', 'the', 'stationary', 'top', '##ol', 'system', 'already', 'in', 'service', '.'], ['western', 'analysts', 'say', 'top', '##ol', 'missiles', 'were', 'first', 'deployed', 'in', 'russian', 'si', '##los', 'in', 'the', 'late', '1990s', '.'], ['the', 'new', 'missiles', 'reportedly', 'can', 'carry', 'a', '1', ',', '200', 'ki', '##logram', 'payload', 'and', 'have', 'an', 'estimated', 'range', 'of', 'about', '10', ',', '000', 'kilometers', '.'], ['they', 'are', 'said', 'to', 'maneuver', 'in', 'ways', 'that', 'are', 'difficult', 'to', 'detect', '.'], ['a', 'massive', 'blast', 'at', 'an', 'ammunition', 'shop', 'in', 'afghanistan', \"'\", 's', 'capital', 'leveled', 'shops', 'and', 'homes', ',', 'killing', 'at', 'least', 'six', 'people', 'and', 'wounding', 'around', 'nine', 'others', '.'], ['by', '##stand', '##ers', 'joined', 'rescue', '##rs', 'wednesday', 'to', 'dig', 'through', 'the', 'rubble', 'of', 'collapsed', 'buildings', 'in', 'an', 'attempt', 'to', 'find', 'survivors', '.'], ['descriptions', 'of', 'the', 'scope', 'of', 'the', 'damage', 'vary', ',', 'with', 'reports', 'saying', 'several', 'to', '25', 'buildings', 'in', 'kabul', 'were', 'destroyed', '.'], ['police', 'have', 'not', 'said', 'what', 'caused', 'the', 'blast', 'in', 'the', 'ammunition', 'store', '.'], ['also', 'wednesday', ',', 'a', 'suicide', 'bomber', 'in', 'eastern', 'afghanistan', 'blew', 'himself', 'up', 'near', 'a', 'police', 'convoy', '.'], ['police', 'officers', 'in', 'k', '##hos', '##t', 'said', 'at', 'least', 'four', 'civilians', 'were', 'killed', 'and', 'more', 'than', '30', 'other', 'people', 'were', 'injured', ',', 'among', 'them', 'afghan', 'policemen', '.'], ['members', 'of', 'a', 'violent', 'central', 'american', 'street', 'gang', 'have', 'been', 'sent', 'to', 'the', 'southwestern', 'u', '.', 's', '.', 'state', 'of', 'arizona', 'to', 'attack', 'minute', '##man', 'project', 'volunteers', ',', 'as', 'they', 'begin', 'a', 'month', '-', 'long', 'campaign', 'to', 'help', 'patrol', 'the', 'southern', 'u', '.', 's', '.', 'border', 'with', 'mexico', '.'], ['james', 'gil', '##christ', ',', 'a', 'minute', '##man', 'organizer', 'frustrated', 'by', 'the', 'u', '.', 's', '.', 'government', \"'\", 's', 'failure', 'to', 'control', 'illegal', 'immigration', ',', 'tells', 'the', 'washington', 'times', 'newspaper', 'that', 'leaders', 'of', 'mara', 'sal', '##vat', '##ru', '##cha', 'or', 'ms', '-', '13', 'have', 'sent', 'gang', 'members', 'to', 'confront', 'his', 'group', 'in', 'arizona', '.'], ['more', 'than', '1', ',', '000', 'civilian', 'volunteers', 'are', 'expected', 'to', 'converge', 'on', 'the', 'city', 'of', 'tombstone', 'friday', 'to', 'begin', 'a', '30', '-', 'day', 'border', 'patrol', '.'], ['likewise', ',', 'hispanic', '##s', 'from', 'the', 'national', 'alliance', 'for', 'human', 'rights', 'are', 'going', 'to', 'tombstone', 'to', 'protest', 'the', 'minute', '##man', 'project', '.'], ['last', 'year', ',', '5', ',', '00', ',', '000', 'illegal', 'aliens', 'were', 'caught', 'in', 'arizona', '.'], ['ms', '-', '13', 'runs', 'a', 'major', 'smuggling', 'operation', 'on', 'the', 'u', '.', 's', '.', '-', 'mexico', 'border', ',', 'running', 'drugs', ',', 'weapons', 'and', 'undo', '##cum', '##ented', 'aliens', 'from', 'central', 'and', 'south', 'america', 'into', 'the', 'united', 'states', '.'], ['the', 'world', 'bank', 'has', 'approved', '$', '257', 'million', 'in', 'loans', 'for', 'business', 'development', 'in', 'colombia', 'and', 'a', 'project', 'designed', 'to', 'improve', 'the', 'country', \"'\", 's', 'environment', '.'], ['in', 'a', 'statement', 'issued', 'thursday', ',', 'the', 'bank', 'says', 'its', 'board', 'of', 'directors', 'allocated', '$', '250', 'million', 'to', 'fund', 'a', 'business', 'productivity', 'and', 'efficiency', 'project', 'designed', 'to', 'create', 'businesses', ',', 'improve', 'their', 'access', 'to', 'financing', ',', 'and', 'increase', 'overall', 'productivity', 'in', 'colombia', '.'], ['the', 'bank', 'allocated', 'another', '$', '7', 'million', 'to', 'colombia', 'for', 'a', 'sustainable', 'development', 'project', ',', 'aimed', 'at', 'reducing', 'air', 'and', 'water', 'pollution', ',', 'improve', 'hygiene', 'and', 'urban', 'environmental', 'management', '.'], ['the', 'bank', 'is', 'also', 'loan', '##ing', 'el', 'salvador', '$', '27', 'million', 'to', 'support', 'a', 'poverty', 'reduction', 'program', 'known', 'as', 'red', 'solid', '##aria', ',', 'designed', 'to', 'help', 'the', 'poor', '##est', 'salvador', '##ans', 'by', 'improving', 'health', ',', 'nutrition', 'and', 'education', 'in', 'the', 'country', '.'], ['italian', 'opposition', 'politicians', 'are', 'demanding', 'prime', 'minister', 'silvio', 'be', '##rl', '##us', '##con', '##i', 'apologize', 'for', 'using', 'an', 'ob', '##sc', '##enity', 'to', 'refer', 'to', 'anyone', 'who', 'would', 'vote', 'against', 'him', 'in', 'sunday', \"'\", 's', 'election', '.'], ['during', 'a', 'speech', 'to', 'a', 'group', 'of', 'shop', '##keepers', 'tuesday', ',', 'mr', '.', 'be', '##rl', '##us', '##con', '##i', 'used', 'a', 'word', 'regarded', 'by', 'many', 'as', 'an', 'ob', '##sc', '##enity', 'and', 'by', 'others', 'as', 'an', 'insult', '.'], ['he', 'said', 'using', 'such', 'language', 'was', 'rough', 'but', 'effective', '.'], ['the', 'remark', 'came', 'a', 'day', 'after', 'mr', '.', 'be', '##rl', '##us', '##con', '##i', 'traded', 'insults', 'in', 'a', 'political', 'debate', 'with', 'his', 'chief', 'political', 'rival', ',', 'center', '-', 'left', 'leader', 'romano', 'pro', '##di', '.'], ['both', 'candidates', 'ass', '##ailed', 'the', 'other', \"'\", 's', 'fiscal', 'policies', ',', 'with', 'mr', '.', 'be', '##rl', '##us', '##con', '##i', 'calling', 'pro', '##di', 'a', '\"', 'useful', 'idiot', '\"', 'and', 'pro', '##di', 'saying', 'the', 'prime', 'minister', 'is', 'like', 'a', '\"', 'drunk', '##ard', 'clinging', 'to', 'a', 'lamp', '##post', '.', '\"'], ['voters', 'go', 'to', 'the', 'polls', 'sunday', 'and', 'monday', 'to', 'choose', 'a', 'new', 'government', '.'], ['polls', 'show', 'many', 'of', 'the', 'voters', 'are', 'und', '##ec', '##ided', '.'], ['iraqi', 'police', 'say', 'a', 'roadside', 'bombing', 'in', 'baghdad', 'saturday', 'killed', 'at', 'least', 'two', 'people', 'who', 'were', 'taking', 'part', 'in', 'a', 'shi', \"'\", 'it', '##e', 'muslim', 'religious', 'procession', '.'], ['the', 'attack', ',', 'in', 'the', 'new', 'baghdad', 'district', ',', 'also', 'wounded', 'eight', 'others', '.'], ['iraqi', 'authorities', 'have', 'boosted', 'security', 'measures', 'as', 'hundreds', 'of', 'thousands', 'of', 'shi', \"'\", 'it', '##e', 'pilgrims', 'flock', 'to', 'iraq', \"'\", 's', 'holy', 'shrine', 'city', 'of', 'ka', '##rba', '##la', 'for', 'the', 'solemn', 'ash', '##ura', 'holiday', '.'], ['worship', '##ers', 'travel', 'to', 'the', 'shrine', 'each', 'year', 'to', 'mo', '##urn', 'the', 'seventh', '-', 'century', 'killing', 'of', 'the', 'grandson', 'of', 'the', 'prophet', 'muhammad', '.'], ['several', 'pilgrims', 'were', 'killed', 'earlier', 'this', 'week', 'in', 'a', 'spat', '##e', 'of', 'attacks', 'targeting', 'worship', '##ers', '.'], ['on', 'friday', ',', 'a', 'roadside', 'bomb', 'blast', 'killed', 'at', 'least', 'six', 'shi', \"'\", 'it', '##es', 'in', 'the', 'eastern', 'baghdad', 'district', 'of', 'sad', '##r', 'city', '.'], ['other', 'attacks', 'this', 'week', 'in', 'the', 'city', 'of', 'mo', '##sul', 'targeted', 'the', 'christian', 'minority', 'as', 'they', 'celebrated', 'christmas', '.'], ['are', 'the', 'streets', 'in', 'america', 'really', 'paved', 'with', 'gold', '?'], ['moses', 'bit', '##tok', 'probably', 'thinks', 'so', '.'], ['mr', '.', 'bit', '##tok', ',', 'who', 'immigrated', 'from', 'kenya', 'to', 'the', 'united', 'states', ',', 'learned', 'last', 'week', 'he', 'had', 'a', 'winning', 'ticket', 'worth', 'nearly', '$', '2', 'million', 'from', 'an', 'iowa', 'lottery', '.'], ['and', 'get', 'this', '-', 'he', 'realized', 'he', 'had', 'won', 'shortly', 'after', 'taking', 'the', 'oath', 'of', 'u', '.', 's', '.', 'citizenship', '.'], ['as', 'he', 'cash', '##ed', 'in', 'his', 'ticket', ',', 'mr', '.', 'bit', '##tok', 'said', '-', 'quote', '-', '\"', 'it', \"'\", 's', 'almost', 'like', 'you', 'adopted', 'a', 'country', 'and', 'they', 'net', '##ted', 'you', '$', '1', '.', '8', 'million', 'dollars', '.', '\"'], ['he', 'added', 'that', 'something', 'like', 'this', 'can', 'only', 'happen', 'in', 'america', '.'], ['a', 'top', 'japanese', 'official', 'is', 'calling', 'for', 'u', '.', 'n', '.', 'economic', 'sanctions', 'against', 'north', 'korea', 'if', 'p', '##yon', '##gy', '##ang', 'tests', 'a', 'nuclear', 'device', '.'], ['shin', '##zo', 'abe', ',', 'acting', 'secretary', 'general', 'of', 'japan', \"'\", 's', 'ruling', 'liberal', 'democratic', 'party', ',', 'said', 'sunday', 'that', 'it', 'would', 'be', '\"', 'un', '##thi', '##nka', '##ble', '\"', 'for', 'tokyo', 'to', 'do', 'nothing', 'should', 'north', 'korea', 'conduct', 'such', 'a', 'test', '.'], ['u', '.', 's', '.', 'officials', 'have', 'warned', 'that', 'north', 'korea', 'may', 'be', 'preparing', 'for', 'a', 'nuclear', 'test', ',', 'citing', 'satellite', 'photos', 'they', 'say', 'show', 'suspicious', 'activity', 'near', 'the', 'coastal', 'town', 'of', 'ki', '##l', '##ju', '.'], ['interviewed', 'on', 'the', 'television', 'program', 'fox', 'news', 'sunday', ','], ['u', '.', 's', '.', 'national', 'security', 'adviser', 'stephen', 'hadley', 'said', 'a', 'nuclear', 'test', 'would', 'be', 'an', 'act', 'of', 'defiance', ',', 'and', 'prompt', 'washington', 'and', 'its', 'allies', 'to', 'discuss', 'new', 'steps', 'to', 'punish', 'the', 'north', 'korean', 'government', '.'], ['north', 'korea', 'has', 'warned', 'that', 'it', 'will', 'consider', 'any', 'sanctions', 'imposed', 'against', 'it', 'a', 'declaration', 'of', 'war', '.'], ['authorities', 'in', 'iraq', 'say', 'a', 'car', 'bomb', 'exploded', 'in', 'central', 'baghdad', 'early', 'monday', ',', 'killing', 'at', 'least', 'three', 'people', 'and', 'injuring', 'two', 'others', '.'], ['the', 'blast', 'occurred', 'near', 'one', 'of', 'the', 'gates', 'to', 'the', 'heavily', 'fortified', 'green', 'zone', ',', 'where', 'the', 'headquarters', 'of', 'the', 'iraqi', 'government', ',', 'u', '.', 's', '.', 'forces', 'and', 'most', 'foreign', 'missions', 'are', 'located', '.'], ['separately', ',', 'the', 'u', '.', 's', '.', 'military', 'says', 'more', 'than', '35', 'insurgents', 'were', 'killed', 'when', 'coalition', 'air', 'strikes', 'hit', 'five', 'targets', 'in', 'a', 'small', 'western', 'town', '(', 'obe', '##idi', ')', 'near', 'the', 'syrian', 'border', '.'], ['officials', 'say', '25', 'other', 'insurgents', 'were', 'captured', '.'], ['u', '.', 's', '.', 'and', 'iraqi', 'forces', 'have', 'been', 'operating', 'in', 'the', 'eu', '##ph', '##rates', 'river', 'valley', 'to', 'stem', 'the', 'flow', 'of', 'insurgents', 'and', 'supplies', 'from', 'across', 'the', 'border', ',', 'ahead', 'of', 'next', 'month', \"'\", 's', 'parliamentary', 'elections', '.'], ['on', 'sunday', ',', 'iraq', \"'\", 's', 'sunni', 'arab', 'leaders', 'called', 'for', 'an', 'end', 'to', 'large', '-', 'scale', 'military', 'operations', 'in', 'mostly', 'sunni', 'areas', ',', 'saying', 'they', 'may', 'discourage', 'sunni', '##s', 'from', 'taking', 'part', 'in', 'the', 'vote', '.'], ['european', 'union', 'health', 'commissioner', 'marko', '##s', 'ky', '##pr', '##iano', 'says', 'the', 'eu', 'is', 'increasing', 'its', 'pledge', 'for', 'the', 'fight', 'against', 'bird', 'flu', 'to', '$', '120', 'million', '.'], ['the', 'eu', 'pledged', 'the', 'assistance', 'in', 'beijing', 'tuesday', 'at', 'a', 'donors', 'conference', 'organized', 'by', 'health', 'experts', 'to', 'raise', 'money', 'to', 'help', 'developing', 'countries', 'contain', 'bird', 'flu', '.'], ['the', 'world', 'bank', 'and', 'world', 'health', 'organization', 'are', 'hoping', 'to', 'raise', '$', '1', '.', '5', 'billion', 'from', 'rich', 'countries', 'to', 'help', 'poorer', 'nations', 'fight', 'bird', 'flu', 'and', 'prevent', 'a', 'global', 'pan', '##de', '##mic', '.'], ['the', 'united', 'states', 'is', 'expected', 'to', 'announce', 'its', 'pledge', 'on', 'wednesday', '.'], ['swiss', 'drug', '##maker', 'roche', 'said', 'it', 'will', 'donate', 'another', 'batch', 'of', 'tam', '##if', '##lu', ',', 'an', 'anti', '-', 'viral', 'medication', ',', 'to', 'treat', 'an', 'additional', 'two', 'million', 'people', 'in', 'the', 'event', 'of', 'a', 'bird', 'flu', 'pan', '##de', '##mic', '.'], ['a', 'world', 'health', 'organization', 'official', ',', 'margaret', 'chan', ',', 'told', 'the', 'meeting', 'there', 'is', 'a', 'great', 'risk', 'of', 'an', 'epidemic', ',', 'although', 'the', 'timing', 'and', 'severity', 'is', 'uncertain', '.'], ['the', 'inter', '-', 'american', 'development', 'bank', 'says', 'the', 'world', 'haitian', 'di', '##sa', '##por', '##a', 'sent', 'more', 'than', '$', '1', '.', '6', 'billion', 'back', 'to', 'families', 'on', 'the', 'impoverished', 'island', 'in', '2006', '.'], ['the', 'bank', 'said', 'tuesday', 'the', 'money', 'sent', 'to', 'haiti', 'from', 'overseas', 'equals', 'more', 'than', 'one', '-', 'third', 'of', 'the', 'country', \"'\", 's', 'gross', 'national', 'product', '.'], ['more', 'than', '$', '1', 'billion', 'came', 'from', 'the', 'united', 'states', 'and', 'the', 'large', 'haitian', 'communities', 'in', 'boston', ',', 'miami', ',', 'and', 'new', '~', 'york', '.'], ['other', 'large', 'contributions', 'came', 'from', 'canada', ',', 'france', ',', 'and', 'the', 'bahamas', '.'], ['the', 'bank', 'says', 'many', 'of', 'the', 'recipients', 'of', 'overseas', 'money', 'have', 'incomes', 'less', 'than', '$', '500', 'a', 'year', '.'], ['they', 'use', 'the', 'extra', 'funds', 'for', 'basic', 'expenses', ',', 'while', 'others', 'invest', 'it', 'in', 'small', 'businesses', 'and', 'education', 'for', 'their', 'children', '.'], ['ukraine', \"'\", 's', 'prime', 'minister', 'yu', '##ry', 'ye', '##khan', '##uro', '##v', 'says', 'the', 'signing', 'of', 'a', 'controversial', 'natural', 'gas', 'deal', 'with', 'russia', 'has', 'been', 'postponed', 'again', '.'], ['the', 'signing', 'had', 'already', 'been', 'delayed', 'from', 'saturday', 'to', 'wednesday', '.'], ['but', 'mr', '.', 'ye', '##khan', '##uro', '##v', 'says', 'experts', 'continue', 'to', 'work', 'on', 'the', 'documents', '.'], ['the', 'draft', 'agreement', 'calls', 'for', 'ukraine', 'to', 'pay', 'russia', 'nearly', 'twice', 'as', 'much', 'for', 'natural', 'gas', '.'], ['the', 'new', 'price', 'would', 'be', '$', '95', 'per', '1', ',', '000', 'cubic', 'meters', ',', 'up', 'from', 'the', 'previous', 'rate', 'of', '$', '50', '.'], ['the', 'two', 'sides', 'reached', 'the', 'deal', 'january', '4', ',', 'after', 'a', 'three', '-', 'day', 'suspension', 'of', 'russian', 'gas', 'deliveries', 'to', 'ukraine', '.'], ['the', 'agreement', 'triggered', 'a', 'political', 'crisis', 'in', 'ukraine', ',', 'and', 'parliament', 'voted', 'to', 'dismiss', 'the', 'government', '.'], ['the', 'chinese', 'government', 'has', 'called', 'for', 'new', 'measures', 'to', 'prevent', 'the', 'economy', 'from', 'over', '##hea', '##ting', '.'], ['the', 'official', 'xi', '##nh', '##ua', 'news', 'agency', 'reports', 'the', 'state', 'council', 'moved', 'on', 'friday', 'to', 'tighten', 'controls', 'on', 'fixed', 'asset', 'investments', 'and', 'money', 'supply', 'after', 'concluding', 'they', 'increased', 'excessive', '##ly', 'in', 'the', 'first', 'quarter', '.'], ['china', \"'\", 's', 'banks', 'do', '##led', 'out', '$', '156', 'billion', 'in', 'new', 'loans', 'in', 'the', 'first', 'quarter', ',', 'more', 'than', 'half', 'the', 'target', 'for', 'all', 'of', '2006', '.'], ['the', 'chinese', 'economy', 'is', 'growing', 'at', 'a', 'rapid', 'pace', ',', 'topping', 'nine', 'percent', 'in', 'the', 'last', 'two', 'years', '.'], ['leaders', 'are', 'concerned', 'the', 'pace', 'could', 'raise', 'inflation', 'rates', 'or', 'lead', 'to', 'investment', 'in', 'unnecessary', 'projects', '.'], ['the', 'central', 'bank', 'said', 'the', 'growth', 'of', 'the', 'broad', 'money', 'supply', 'rose', 'nearly', '19', 'percent', 'on', 'a', 'year', '-', 'on', '-', 'year', 'basis', 'to', '$', '3', '.', '9', 'trillion', 'by', 'the', 'end', 'of', 'march', '.'], ['a', 'media', 'rights', 'group', 'says', 'burma', \"'\", 's', 'military', '-', 'led', 'government', 'has', 'released', 'two', 'burmese', 'journalists', 'working', 'for', 'a', 'japanese', 'television', 'station', '.'], ['reporters', 'without', 'borders', 'and', 'the', 'burma', 'media', 'association', 'welcomed', 'the', 'release', 'of', 'the', 'reporters', 'after', 'two', 'days', 'of', 'detention', '.'], ['they', 'say', 'the', 'journalists', 'are', 'in', 'good', 'shape', '-', 'despite', 'being', 'shaken', 'by', 'the', 'incident', '.'], ['the', 'two', 'journalists', 'were', 'arrested', 'monday', 'after', 'they', 'went', 'to', 'a', 'port', 'near', 'rang', '##oon', 'to', 'verify', 'the', 'arrival', 'of', 'a', 'north', 'korean', 'cargo', 'ship', '.'], ['the', 'reporters', ',', 'au', '##ng', 'sh', '##we', 'o', '##o', 'and', 'his', 'daughter', ',', 'da', '##w', 'sin', '##t', 'sin', '##t', 'au', '##ng', ',', 'both', 'work', 'for', 'nippon', 'news', 'network', \"'\", 's', 'bangkok', 'bureau', '.'], ['images', 'of', 'the', 'indian', 'ocean', 'floor', 'show', 'a', 'giant', 'landslide', 'at', 'the', 'starting', 'point', 'of', 'the', 'earthquake', 'triggered', 'tsunami', 'that', 'devastated', 'regional', 'coastline', '##s', 'on', 'december', '26', '.'], ['the', 'digital', 'map', 'has', 'been', 'produced', 'by', 'a', 'british', 'survey', 'ship', 'hms', 'scott', 'that', 'has', 'been', 'collecting', 'data', 'off', 'the', 'coast', 'of', 'indonesia', \"'\", 's', 'sumatra', 'island', 'since', 'early', 'january', '.'], ['the', 'probe', 'of', 'the', 'area', 'where', 'two', 'pieces', 'of', 'ocean', 'floor', 'collided', 'shows', 'a', 'ridge', 'of', 'mud', 'hundreds', 'of', 'meters', 'thick', 'where', 'the', 'sea', '##water', 'was', 'forced', 'up', 'to', 'form', 'the', 'tsunami', '.'], ['scientists', 'on', 'the', 'ship', 'say', 'that', 'while', 'the', 'data', 'will', 'not', 'help', 'predict', 'when', 'earthquakes', 'will', 'occur', ',', 'it', 'could', 'help', 'in', 'warning', 'of', 'future', 'tsunami', '##s', '.'], ['a', 'republican', 'congressman', 'says', 'he', 'is', 'temporarily', 'stepping', 'down', 'from', 'a', 'house', 'committee', '-', 'chairman', 'position', 'while', 'he', 'is', 'being', 'investigated', 'for', 'corruption', '.'], ['ohio', 'representative', 'bob', 'ne', '##y', 'is', 'the', 'second', 'law', '##maker', 'to', 're', '##lin', '##qui', '##sh', 'a', 'house', 'leadership', 'post', 'in', 'recent', 'months', '.'], ['he', 'said', 'in', 'a', 'statement', 'sunday', 'that', 'the', 'allegations', 'against', 'him', 'have', 'become', 'a', 'distraction', 'to', 'law', '##makers', ',', 'including', 'those', 'in', 'the', 'committee', 'he', 'chaired', ',', 'the', 'house', 'administration', 'committee', '.'], ['ne', '##y', 'has', 'been', 'identified', 'as', 'the', 'unnamed', 'law', '##maker', 'that', 'lobby', '##ist', 'jack', 'ab', '##ram', '##off', 'said', 'accepted', 'lavish', 'gifts', 'and', 'financial', 'contributions', 'in', 'exchange', 'for', 'favors', 'and', 'support', '.'], ['ab', '##ram', '##off', 'has', 'pleaded', 'guilty', 'to', 'fraud', 'and', 'tax', 'eva', '##sion', '.'], ['ne', '##y', 'denies', 'any', 'wrong', '##do', '##ing', '.'], ['texas', 'representative', 'tom', 'delay', 'stepped', 'down', 'as', 'house', 'majority', 'leader', 'late', 'last', 'year', 'after', 'being', 'indicted', 'for', 'alleged', 'campaign', 'finance', 'violations', '.'], ['delay', 'had', 'close', 'ties', 'to', 'ab', '##ram', '##off', 'and', 'some', 'of', 'the', 'congressman', \"'\", 's', 'aide', '##s', 'are', 'being', 'investigated', 'in', 'the', 'ab', '##ram', '##off', 'scandal', '.'], ['one', 'of', 'the', 'suspected', 'bombers', 'in', 'the', 'failed', 'july', '21', 'attacks', 'on', 'london', \"'\", 's', 'transport', 'system', 'is', 'being', 'extra', '##dit', '##ed', 'from', 'italy', 'to', 'britain', '.'], ['a', 'plane', 'carrying', 'ethiopian', '-', 'born', 'ham', '##di', 'iss', '##ac', ',', 'also', 'known', 'as', 'osman', 'hussain', ',', 'left', 'rome', \"'\", 's', 'cia', '##mp', '##ino', 'airport', 'around', 'midday', 'thursday', ',', 'for', 'london', '.'], ['italian', 'police', 'arrested', 'the', 'british', 'citizen', 'in', 'rome', 'a', 'week', 'after', 'the', 'july', '21', 'attacks', ',', 'which', 'caused', 'no', 'fatalities', 'but', 'brought', 'chaos', 'to', 'london', 'two', 'weeks', 'after', 'suicide', 'bombers', 'killed', '52', 'people', 'in', 'the', 'british', 'capital', '.'], ['ham', '##di', 'iss', '##ac', 'has', 'admitted', 'to', 'taking', 'part', 'in', 'the', 'second', 'set', 'of', 'attacks', 'but', 'has', 'said', 'the', 'action', 'was', 'meant', 'to', 'scare', 'people', ',', 'not', 'kill', 'them', '.'], ['italy', \"'\", 's', 'highest', 'court', 'upheld', 'his', 'extra', '##dition', 'order', 'on', 'september', '13', '.'], ['the', 'sur', '##ging', 'mississippi', 'river', 'spilled', 'over', 'lev', '##ees', 'in', 'two', 'towns', 'in', 'the', 'state', 'of', 'illinois', 'and', 'is', 'threatening', 'to', 'del', '##uge', 'other', 'parts', 'of', 'the', 'central', 'united', 'states', '.'], ['the', 'army', 'corps', 'of', 'engineers', 'says', '20', 'lev', '##ees', 'in', 'the', 'central', 'u', '.', 's', '.', 'have', 'already', 'over', '##flow', '##ed', '-', 'and', 'up', 'to', '30', 'more', 'are', 'in', 'danger', 'of', 'over', '##flow', '##ing', '.'], ['central', 'u', '.', 's', '.', 'river', 'towns', 'are', 'at', 'risk', 'as', 'flood', '##water', '##s', 'that', 'submerged', 'parts', 'of', 'two', 'of', 'the', 'state', 'of', 'iowa', \"'\", 's', 'largest', 'cities', 'are', 'now', 'flowing', 'downstream', '.'], ['residents', 'have', 'joined', 'members', 'of', 'the', 'national', 'guard', 'in', 'a', 'desperate', 'effort', 'to', 'strengthen', 'lev', '##ees', 'with', 'sand', '##bags', '.'], ['meanwhile', ',', 'iowa', 'is', 'cleaning', 'up', 'after', 'widespread', 'flooding', 'in', '##unda', '##ted', 'homes', ',', 'destroyed', 'crops', 'and', 'cut', 'off', 'highways', 'and', 'bridges', '.'], ['at', 'the', 'white', 'house', 'tuesday', ',', 'u', '.', 's', '.', 'president', 'george', 'bush', 'expressed', 'concern', 'for', 'the', 'flood', 'victims', '.'], ['he', 'is', 'to', 'visit', 'iowa', 'thursday', 'to', 'inspect', 'the', 'damage', '.'], ['a', 'u', '.', 's', '.', 'government', 'audit', 'shows', 'that', 'at', 'least', '232', 'civilians', 'have', 'been', 'killed', 'while', 'working', 'on', 'u', '.', 's', '.', 'reconstruction', 'projects', 'in', 'iraq', '.'], ['the', 'report', 'by', 'the', 'special', 'inspector', 'general', 'for', 'iraq', 'reconstruction', 'indicates', 'the', 'death', 'toll', 'of', 'those', 'employees', 'for', 'private', 'contractors', 'increased', '93', 'percent', 'in', 'recent', 'months', '(', 'the', 'fourth', 'quarter', 'of', '2004', ')', '.'], ['in', 'addition', 'to', 'those', 'killed', ',', '72', '##8', 'claims', 'were', 'filed', 'for', 'employees', 'who', 'missed', 'more', 'than', 'four', 'days', 'of', 'work', '.'], ['the', 'inspector', \"'\", 's', 'report', 'says', '\"', 'iraq', \"'\", 's', 'un', '##sett', '##led', 'security', 'environment', 'continues', 'to', 'present', 'grave', 'risks', 'for', 'contractors', 'and', 'employees', '.', '\"'], ['the', 'quarterly', 'report', 'sent', 'to', 'u', '.', 's', '.', 'congress', 'based', 'its', 'information', 'on', 'statistics', 'from', 'the', 'u', '.', 's', '.', 'labor', 'department', 'compiled', 'from', 'workers', \"'\", 'compensation', 'claims', 'filed', 'by', 'all', 'u', '.', 's', '.', 'government', 'contractors', '.'], ['former', 'chilean', 'dictator', 'augusto', 'pin', '##oche', '##t', 'has', 'been', 'indicted', 'on', 'human', 'rights', 'charges', 'and', 'placed', 'under', 'house', 'arrest', '.'], ['judge', 'victor', 'mont', '##ig', '##lio', 'charged', 'general', 'pin', '##oche', '##t', 'in', 'connection', 'with', 'the', 'kidnapping', 'and', 'disappearance', 'of', 'seven', 'people', 'in', 'the', 'early', 'years', 'of', 'his', '1973', 'to', '1990', 'rule', '.'], ['the', 'charges', 'are', 'part', 'of', 'a', 'human', 'rights', 'case', 'known', 'as', '\"', 'operation', 'colombo', ',', '\"', 'in', 'which', '119', 'di', '##ssi', '##dents', 'disappeared', 'while', 'in', 'custody', '.'], ['mr', '.', 'mont', '##ig', '##lio', \"'\", 's', 'indictment', 'thursday', 'comes', 'six', 'days', 'after', 'he', 'questioned', 'the', 'ex', '-', 'dictator', 'and', 'the', 'former', 'head', 'of', 'the', 'secret', 'police', ',', 'manuel', 'con', '##tre', '##ras', ',', 'to', 'determine', 'responsibility', 'for', 'the', 'disappearance', 'of', 'the', '119', 'pin', '##oche', '##t', 'foe', '##s', '.'], ['this', 'is', 'the', 'second', 'indictment', 'in', 'two', 'days', 'against', 'the', 'former', 'dictator', '.'], ['general', 'pin', '##oche', '##t', ',', 'who', 'turns', '90', 'on', 'friday', ',', 'had', 'just', 'made', 'bail', 'following', 'his', 'indictment', 'wednesday', 'on', 'charges', 'of', 'tax', 'eva', '##sion', ',', 'corruption', 'and', 'using', 'false', 'passports', 'in', 'a', 'case', 'involving', 'an', 'estimated', '$', '27', 'million', 'hidden', 'in', 'foreign', 'bank', 'accounts', '.'], ['leaders', 'of', 'the', 'south', 'american', 'trade', 'bloc', 'mer', '##cos', '##ur', 'are', 'meeting', 'in', 'venezuela', 'to', 'formally', 'welcome', 'venezuela', 'into', 'the', 'group', '.'], ['presidents', 'of', 'member', 'nations', 'argentina', ',', 'brazil', ',', 'paraguay', 'and', 'uruguay', 'are', 'to', 'sign', 'a', 'document', 'tuesday', 'extending', 'voting', 'rights', 'and', 'lower', 'tariffs', 'to', 'venezuela', '.'], ['with', 'the', 'new', 'member', ',', 'officials', 'say', 'the', 'trade', 'bloc', 'will', 'account', 'for', '$', '1', 'trillion', 'in', 'annual', 'economic', 'activity', 'and', 'include', '250', 'million', 'people', '.'], ['bolivian', 'president', 'ev', '##o', 'morales', 'also', 'is', 'to', 'attend', 'the', 'summit', 'for', 'talks', 'with', 'his', 'brazilian', 'counterpart', 'lu', '##iz', 'ina', '##cio', 'lu', '##la', 'da', 'silva', 'to', 'discuss', 'the', 'price', 'of', 'gas', 'exports', 'to', 'brazil', '.'], ['bolivia', 'is', 'an', 'associate', 'member', 'of', 'mer', '##cos', '##ur', ',', 'formed', 'in', '1991', '.'], ['meanwhile', ',', 'paraguay', \"'\", 's', 'president', 'nic', '##anor', 'du', '##arte', 'has', 'threatened', 'to', 'abandon', 'the', 'group', 'because', 'of', 'alleged', 'protection', '##ist', 'trade', 'policies', 'by', 'brazil', 'and', 'argentina', '.'], ['a', 'strong', 'earthquake', 'shook', 'indonesia', \"'\", 's', 'ace', '##h', 'province', 'just', 'before', 'midnight', 'saturday', '(', 'about', '165', '##7', 'utc', ')', ',', 'causing', 'residents', 'to', 'flee', 'their', 'homes', 'in', 'panic', '.'], ['the', 'magnitude', '5', '.', '8', 'quake', 'was', 'centered', '33', 'kilometers', 'under', 'the', 'indian', 'ocean', 'and', 'about', '33', 'kilometers', 'northwest', 'of', 'the', 'provincial', 'capital', 'of', 'banda', 'ace', '##h', '.'], ['officials', 'say', 'there', 'have', 'been', 'no', 'reports', 'of', 'damage', 'or', 'casualties', ',', 'but', 'residents', 'of', 'the', 'city', 'ran', 'out', 'of', 'their', 'homes', 'in', 'panic', 'after', 'the', 'quake', 'jolted', 'them', 'awake', '.'], ['a', 'magnitude', '9', 'quake', 'off', 'the', 'west', 'coast', 'of', 'ace', '##h', 'triggered', 'the', 'december', '26', 'tsunami', '##s', ',', 'which', 'the', 'u', '.', 's', '.', 'geological', 'survey', 'says', 'killed', 'more', 'than', '2', ',', '75', ',', '000', 'people', 'around', 'the', 'indian', 'ocean', '.'], ['that', 'includes', '1', ',', '31', ',', '000', 'in', 'ace', '##h', '.'], ['u', '.', 's', '.', 'democratic', 'senators', 'have', 'criticized', 'president', 'bush', \"'\", 's', 'proposal', 'to', 'rev', '##amp', 'social', 'security', ',', 'on', 'the', 'eve', 'of', 'the', 'retirement', 'program', \"'\", 's', '70th', 'anniversary', '.'], ['senator', 'john', 'kerry', ',', 'the', '2004', 'democratic', 'presidential', 'candidate', ',', 'said', 'in', 'a', 'radio', 'address', 'delivered', 'in', 'spanish', 'saturday', 'that', 'the', 'president', \"'\", 's', 'proposal', 'to', 'add', 'private', 'investments', 'accounts', 'to', 'the', 'program', 'will', 'hurt', 'hispanic', '##s', '.'], ['democratic', 'senator', 'ken', 'salazar', ',', 'from', 'colorado', 'said', 'in', 'a', 'separate', 'english', '-', 'language', 'radio', 'address', 'saturday', 'the', 'president', 'is', 'fabric', '##ating', 'a', 'crisis', 'in', 'the', 'retirement', 'program', 'so', 'he', 'can', 'push', 'through', 'his', 'proposals', 'to', 'change', 'it', '.'], ['president', 'bush', 'says', 'his', 'plans', 'will', 'help', 'the', 'program', 'avoid', 'severe', 'funding', 'short', '##falls', 'over', 'the', 'next', 'few', 'decades', '.'], ['a', 'key', 'part', 'of', 'his', 'proposal', 'is', 'to', 'allow', 'younger', 'workers', 'to', 'privately', 'invest', 'some', 'of', 'their', 'social', 'security', 'funds', 'which', 'are', 'now', 'managed', 'by', 'the', 'government', '.'], ['more', 'than', '60', 'african', 'migrants', 'have', 'drowned', 'while', 'crossing', 'the', 'gulf', 'of', 'aden', 'on', 'their', 'way', 'to', 'yemen', '.'], ['witnesses', 'say', 'at', 'least', '15', 'others', 'swam', 'to', 'safety', 'after', 'their', 'vessel', 'sank', 'close', 'to', 'the', 'yemen', '##i', 'coast', '.'], ['the', 'boat', 'originated', 'from', 'somalia', 'and', 'most', 'of', 'those', 'on', 'board', 'are', 'believed', 'to', 'have', 'been', 'somalia', '##ns', '.'], ['it', 'is', 'not', 'clear', 'how', 'the', 'boat', 'caps', '##ized', '.'], ['migrants', 'frequently', 'attempt', 'the', 'crossing', 'to', 'escape', 'violence', 'in', 'somalia', 'and', 'often', 'rely', 'on', 'smug', '##glers', 'to', 'help', 'them', 'cross', '.'], ['they', 'often', 'face', 'abuse', 'at', 'the', 'hands', 'of', 'smug', '##glers', ',', 'with', 'many', 'forced', 'to', 'di', '##se', '##mba', '##rk', 'offshore', 'to', 'avoid', 'yemen', '##i', 'coast', 'guard', 'patrols', '.'], ['earlier', 'this', 'month', ',', 'the', 'u', '.', 'n', '.', 'high', 'commissioner', 'for', 'refugees', 'estimated', '20', ',', '000', 'people', 'have', 'made', 'the', 'crossing', 'this', 'year', 'and', 'said', 'at', 'least', '43', '##9', 'people', 'have', 'died', 'and', 'another', '48', '##9', 'are', 'missing', '.'], ['police', 'in', 'afghanistan', 'say', 'attackers', 'have', 'shot', 'and', 'killed', 'an', 'afghan', 'senator', 'who', 'briefly', 'served', 'as', 'prime', 'minister', 'in', 'the', 'early', '1990s', '.'], ['authorities', 'say', 'abdul', 'sa', '##bo', '##or', 'far', '##id', 'was', 'killed', 'late', 'wednesday', 'outside', 'his', 'home', 'in', 'the', 'capital', ',', 'kabul', '.'], ['mr', '.', 'far', '##id', 'was', 'afghanistan', \"'\", 's', 'prime', 'minister', 'for', 'one', 'month', 'in', '1992', 'during', 'the', 'chaos', 'of', 'a', 'civil', 'war', 'that', 'followed', 'the', 'defeat', 'of', 'the', 'soviet', 'army', '.'], ['the', 'motive', 'for', 'the', 'senator', \"'\", 's', 'killing', 'is', 'not', 'clear', '.'], ['in', 'another', 'development', ',', 'police', 'say', 'a', 'remote', '-', 'controlled', 'roadside', 'bomb', 'tore', 'through', 'the', 'side', 'of', 'an', 'afghan', 'army', 'bus', 'thursday', 'in', 'kabul', ',', 'killing', 'the', 'driver', 'and', 'wounding', '29', 'people', '.'], ['tale', '##ban', 'militants', 'claimed', 'responsibility', 'for', 'the', 'attack', '.'], ['meanwhile', ',', 'the', 'british', 'defense', 'ministry', 'says', 'a', 'british', 'soldier', 'serving', 'with', 'the', 'nato', '-', 'led', 'coalition', 'in', 'afghanistan', 'was', 'killed', 'during', 'fighting', 'with', 'militants', 'in', 'the', 'south', '.'], ['nato', 'has', 'launched', 'large', '-', 'scale', 'military', 'operations', 'in', 'the', 'region', 'recently', 'to', 'pre', '-', 'em', '##pt', 'an', 'expected', 'tale', '##ban', 'offensive', '.'], ['insurgents', 'in', 'iraq', 'killed', 'at', 'least', 'nine', 'people', 'in', 'attacks', 'sunday', 'northeast', 'of', 'baghdad', '.'], ['police', 'say', 'a', 'roadside', 'bomb', 'killed', 'four', 'policemen', 'and', 'wounded', 'nine', 'in', 'ba', '##qu', '##ba', '.'], ['in', 'another', 'town', ',', 'bala', '##d', 'ru', '##z', ',', 'police', 'say', 'a', 'rocket', 'attack', 'on', 'a', 'policeman', \"'\", 's', 'house', 'killed', 'the', 'man', \"'\", 's', 'brother', 'and', 'four', 'children', '.'], ['military', 'officials', 'say', 'on', 'saturday', 'u', '.', 's', '.', 'soldiers', 'killed', 'three', 'gunmen', 'who', 'fired', 'on', 'a', 'patrol', 'in', 'the', 'northern', 'town', 'of', 'bai', '##ji', '.'], ['in', 'northern', 'iraq', ',', 'police', 'say', 'the', 'bodies', 'of', 'an', 'elderly', 'tribal', 'leader', ',', 'ibrahim', 'ali', 'al', '-', 'nu', '##ime', '##i', ',', 'and', 'his', 'son', 'were', 'found', 'near', 'the', 'town', 'of', 'kirk', '##uk', '.'], ['in', 'a', 'separate', 'development', ',', 'the', 'trial', 'of', 'ousted', 'leader', 'saddam', 'hussein', 'is', 'scheduled', 'to', 'resume', 'tuesday', 'with', 'a', 'new', 'presiding', 'judge', ',', 'and', 'a', 'western', 'diplomat', 'says', 'members', 'of', 'the', 'former', 'ba', '##athi', '##st', 'regime', 'may', 'testify', '.'], ['the', 'united', 'states', 'government', ',', 'wednesday', '[', 'may', '14', ']', 'officially', 'added', 'polar', 'bears', 'to', 'the', 'list', 'of', 'threatened', 'animals', 'under', 'the', 'endangered', 'species', 'act', '.'], ['bush', 'administration', 'scientists', 'decided', 'the', 'species', 'is', 'at', 'risk', 'of', 'becoming', 'endangered', '.'], ['officials', 'cited', 'warming', 'trends', 'and', 'loss', 'of', 'sea', 'ice', 'as', 'threatening', 'the', 'bears', ',', 'opening', 'a', 'debate', 'over', 'whether', 'to', 'regulate', 'greenhouse', 'gases', 'to', 'protect', 'the', 'bear', 'and', 'its', 'habitat', '.'], ['paul', 'sis', '##co', 'reports', '.'], ['iranian', 'media', 'report', 'that', 'inspectors', 'from', 'the', 'u', '.', 'n', '.', 'international', 'atomic', 'energy', 'agency', 'will', 'travel', 'to', 'iran', 'early', 'next', 'month', '.'], ['news', 'reports', 'saturday', 'quote', 'an', 'unnamed', 'iranian', 'official', 'as', 'saying', 'a', 'delegation', 'will', 'visit', 'on', 'august', '6', 'to', 'discuss', 'technical', 'issues', 'and', 'regulations', '.'], ['separately', ',', 'the', 'united', 'nations', \"'\", 'nuclear', 'agency', 'is', 'set', 'to', 'inspect', 'iran', \"'\", 's', 'heavy', 'water', 'nuclear', 'reactor', 'in', 'a', 'matter', 'of', 'days', '.'], ['that', 'reactor', 'is', 'under', 'construction', 'in', 'the', 'industrial', 'city', 'of', 'ara', '##k', '.'], ['it', 'will', 'produce', 'pluto', '##nium', 'once', 'it', 'is', 'completed', '.'], ['enriched', 'pluto', '##nium', 'and', 'uranium', 'can', 'be', 'used', 'to', 'build', 'nuclear', 'weapons', '.'], ['the', 'u', '.', 'n', '.', 'security', 'council', 'has', 'imposed', 'two', 'sets', 'of', 'sanctions', 'on', 'iran', 'because', 'of', 'its', 'refusal', 'to', 'suspend', 'uranium', 'enrichment', '.'], ['the', 'united', 'states', 'and', 'its', 'western', 'allies', 'accuse', 'iran', 'of', 'trying', 'to', 'develop', 'nuclear', 'weapons', ',', 'but', 'iran', 'says', 'its', 'atomic', 'program', 'is', 'for', 'peaceful', 'purposes', '.'], ['insurgents', 'have', 'launched', 'two', 'deadly', 'attacks', 'against', 'shi', \"'\", 'it', '##es', 'in', 'iraq', ',', 'just', 'hours', 'after', 'u', '.', 's', '.', 'secretary', 'of', 'defense', 'donald', 'rum', '##sf', '##eld', 'paid', 'a', 'surprise', 'visit', 'to', 'american', 'troops', 'in', 'the', 'country', '.'], ['in', 'the', 'first', 'attack', ',', 'gunmen', 'entered', 'a', 'bakery', 'in', 'a', 'mainly', 'shi', \"'\", 'it', '##e', 'neighborhood', 'in', 'baghdad', ',', 'killing', 'at', 'least', 'nine', 'people', '.'], ['a', 'short', 'time', 'later', ',', 'a', 'car', 'bomb', 'exploded', 'outside', 'a', 'shi', \"'\", 'it', '##e', 'mosque', 'in', 'the', 'town', 'of', 'bala', '##d', 'ru', '##z', ',', 'northeast', 'of', 'baghdad', '.'], ['abu', 'musa', '##b', 'al', '-', 'za', '##r', '##qa', '##wi', \"'\", 's', 'group', 'claimed', 'responsibility', 'for', 'that', 'blast', 'that', 'killed', '13', 'and', 'injured', '23', 'others', '.'], ['an', 'american', 'soldier', 'was', 'also', 'killed', 'when', 'a', 'bomb', 'exploded', 'in', 'western', 'baghdad', '.'], ['the', 'violence', 'came', 'as', 'mr', '.', 'rum', '##sf', '##eld', 'visited', 'u', '.', 's', '.', 'troops', 'in', 'mo', '##sul', 'and', 'baghdad', '.'], ['he', 'also', 'observed', 'iraqi', 'police', 'and', 'special', 'forces', 'perform', 'training', 'exercises', ',', 'before', 'he', 'met', 'with', 'iraqi', 'interim', 'prime', 'minister', 'i', '##yad', 'alla', '##wi', '.'], ['nigerian', 'authorities', 'say', 'kidnap', '##pers', 'have', 'released', 'a', 'polish', 'oil', 'worker', 'seized', 'last', 'week', 'in', 'the', 'country', \"'\", 's', 'rest', '##ive', 'niger', 'delta', 'region', '.'], ['the', 'officials', 'say', 'the', 'polish', 'national', 'was', 'released', 'late', 'sunday', '.'], ['he', 'was', 'seized', 'thursday', 'by', 'six', 'gunmen', 'near', 'the', 'southern', 'city', 'of', 'war', '##ri', '.'], ['abduction', 'for', 'ransom', 'or', 'to', 'press', 'political', 'demands', 'is', 'frequent', 'in', 'the', 'oil', '-', 'rich', 'niger', 'delta', '.'], ['in', 'all', ',', 'more', 'than', '100', 'foreign', 'oil', 'workers', 'have', 'been', 'kidnapped', 'in', 'the', 'region', 'this', 'year', '.'], ['most', 'have', 'been', 'released', 'unharmed', ',', 'often', 'after', 'a', 'payment', 'of', 'ransom', '.'], ['some', 'kidnapping', '##s', 'have', 'been', 'carried', 'out', 'by', 'criminal', 'gangs', ',', 'while', 'others', 'are', 'the', 'work', 'of', 'militants', 'who', 'want', 'impoverished', 'local', 'villages', 'to', 'get', 'more', 'of', 'the', 'region', \"'\", 's', 'oil', 'wealth', '.'], ['the', 'attacks', 'on', 'the', 'oil', 'industry', 'have', 'caused', 'nigeria', 'to', 'cut', 'oil', 'production', 'by', 'almost', '25', 'percent', '.'], ['u', '.', 's', '.', 'treasury', 'officials', 'have', 'frozen', 'the', 'assets', 'of', 'an', 'ohio', '-', 'based', 'nonprofit', 'group', 'because', 'they', 'say', 'it', 'has', 'ties', 'to', 'the', 'palestinian', 'militant', 'organization', 'hamas', '.'], ['officials', 'said', 'sunday', 'that', 'the', 'group', 'named', 'kind', '##heart', '##s', 'has', 'coordinated', 'with', 'hamas', 'leaders', 'and', 'has', 'ties', 'to', 'two', 'other', 'u', '.', 's', '.', '-', 'based', 'charities', 'accused', 'of', 'links', 'to', 'terrorism', '.'], ['those', 'groups', 'were', 'shut', 'down', 'by', 'u', '.', 's', '.', 'officials', 'in', 'late', '2001', '.'], ['kind', '##heart', '##s', 'describes', 'itself', 'on', 'its', 'web', 'site', 'as', 'a', 'nonprofit', 'charitable', 'organization', 'administering', 'humanitarian', 'aid', 'to', 'the', 'world', \"'\", 's', 'poor', '.'], ['kind', '##heart', '##s', 'officials', 'have', 'not', 'commented', 'on', 'the', 'alleged', 'links', 'to', 'terrorism', '.'], ['hamas', 'dominated', 'recent', 'palestinian', 'elections', ',', 'but', 'u', '.', 's', '.', 'officials', 'regard', 'it', 'as', 'a', 'terrorist', 'organization', '.'], ['the', 'group', 'refuses', 'to', 'recognize', 'israel', \"'\", 's', 'right', 'to', 'exist', 'and', 'has', 'organized', 'suicide', 'attacks', 'against', 'israeli', 'targets', 'in', 'the', 'past', '.'], ['china', 'says', 'it', 'has', 'designated', 'three', 'parks', 'in', 'outlying', 'parts', 'of', 'beijing', 'to', 'be', 'used', 'for', 'public', 'protests', 'during', 'the', 'olympic', 'games', 'next', 'month', '.'], ['china', \"'\", 's', 'head', 'of', 'olympic', 'security', ',', 'liu', 'sha', '##ow', '##u', ',', 'made', 'the', 'announcement', 'wednesday', 'at', 'a', 'news', 'conference', '.'], ['he', 'said', 'protesters', 'may', 'stage', 'demonstrations', 'if', 'they', 'apply', 'to', 'the', 'government', 'for', 'a', 'permit', 'and', 'are', 'approved', '.'], ['he', 'did', 'not', 'answer', 'questions', 'about', 'whether', 'foreigners', 'could', 'protest', 'in', 'the', 'parks', ',', 'or', 'whether', 'there', 'would', 'be', 'restrictions', 'on', 'what', 'people', 'could', 'protest', 'about', '.'], ['the', 'city', 'of', 'athens', ',', 'greece', ',', 'designated', 'such', 'protest', 'areas', 'when', 'it', 'hosted', 'the', 'olympic', 'games', 'in', '2004', '.'], ['the', 'international', 'olympic', 'committee', 'bars', 'demonstrations', 'at', 'olympic', 'venues', '.'], ['the', 'international', 'portion', 'of', 'the', 'olympic', 'torch', 'relay', 'was', 'marred', 'in', 'some', 'cities', 'earlier', 'this', 'year', 'by', 'protests', 'against', 'china', \"'\", 's', 'rule', 'in', 'tibet', '.'], ['childhood', 'obesity', 'affects', 'children', 'in', 'most', 'countries', 'in', 'the', 'world', 'according', 'to', 'the', 'international', 'obesity', 'task', 'force', '.'], ['now', ',', 'a', 'new', 'study', 'shows', 'that', 'one', 'of', 'the', 'most', 'effective', 'ways', 'of', 'preventing', 'obesity', '-', '-', 'exercise', '-', '-', 'is', 'something', 'children', 'are', 'not', 'getting', 'enough', 'of', '.'], ['vo', '##a', \"'\", 's', 'carol', 'pearson', 'reports', '.'], ['the', 'last', 'australian', 'aid', 'agency', 'operating', 'in', 'iraq', 'says', 'it', 'is', 'pulling', 'out', '.'], ['world', 'vision', 'australia', 'chief', 'tim', 'costello', 'says', 'the', 'situation', 'in', 'iraq', 'is', 'too', 'dangerous', 'for', 'its', 'staff', 'to', 'remain', '.'], ['he', 'says', 'the', 'work', 'the', 'organization', 'has', 'been', 'doing', 'in', 'iraq', 'will', 'be', 'handed', 'over', 'to', 'local', 'officials', 'and', 'any', 'un', '##sp', '##ent', 'funds', 'will', 'be', 'returned', 'to', 'donors', '.'], ['mr', '.', 'costello', 'says', 'the', 'agency', 'made', 'the', 'decision', 'to', 'leave', 'iraq', 'before', 'the', 'apparent', 'murder', 'of', 'international', 'aid', 'worker', 'margaret', 'hassan', '.'], ['world', 'vision', 'australia', \"'\", 's', 'iraqi', 'head', 'of', 'operations', ',', 'mohammed', 'hush', '##ia', '##r', ',', 'was', 'killed', 'in', 'late', 'september', 'in', 'the', 'northern', 'city', 'of', 'mo', '##sul', '.'], ['a', 'published', 'report', 'says', 'the', 'bush', 'administration', 'is', 'pressing', 'iraqi', 'leaders', 'to', 'end', 'their', 'political', 'stale', '##mate', 'and', 'form', 'a', 'new', 'government', '.'], ['the', 'new', 'york', 'times', 'newspaper', 'says', 'secretary', 'of', 'state', 'condo', '##lee', '##zza', 'rice', 'telephone', '##d', 'iraq', \"'\", 's', 'president', 'ja', '##lal', 'tal', '##aba', '##ni', 'on', 'friday', 'to', 'urge', 'that', 'the', 'government', 'be', 'formed', 'as', 'soon', 'as', 'possible', '.'], ['it', 'says', 'ms', '.', 'rice', 'and', 'vice', 'president', 'dick', 'cheney', 'conveyed', 'the', 'same', 'message', 'in', 'a', 'white', 'house', 'meeting', 'with', 'adi', '##l', 'abdul', 'ma', '##hdi', ',', 'a', 'leading', 'shi', \"'\", 'it', '##e', 'politician', 'named', 'as', 'one', 'of', 'the', 'new', 'iraqi', 'vice', 'presidents', '.'], ['u', '.', 's', '.', 'officials', 'have', 'said', 'repeatedly', 'that', 'iraqi', '##s', 'must', 'form', 'their', 'own', 'government', 'without', 'american', 'intervention', '.'], ['but', 'efforts', 'to', 'name', 'a', 'new', 'cabinet', 'in', 'baghdad', 'have', 'failed', ',', 'although', 'nearly', 'three', 'months', 'have', 'passed', 'since', 'the', 'iraqi', 'elections', '.'], ['many', 'iraqi', '##s', 'blame', 'the', 'political', 'turmoil', 'for', 'a', 'recent', 'ups', '##urg', '##e', 'in', 'violence', '.'], ['israeli', 'prime', 'minister', 'eh', '##ud', 'ol', '##mer', '##t', 'is', 'scheduled', 'to', 'meet', 'with', 'palestinian', 'president', 'mahmoud', 'abbas', 'wednesday', 'in', 'jerusalem', '.'], ['palestinian', 'ne', '##go', '##tia', '##tor', 'sa', '##eb', 'er', '##eka', '##t', 'said', 'the', 'talks', 'will', 'focus', 'on', 'permanent', '-', 'status', 'issues', ',', 'israeli', 'checkpoint', '##s', 'and', 'the', 'fate', 'of', 'palestinian', 'prisoners', '.'], ['the', 'meeting', ',', 'at', 'mr', '.', 'ol', '##mer', '##t', \"'\", 's', 'official', 'residence', ',', 'will', 'be', 'the', 'first', 'between', 'the', 'two', 'since', 'mr', '.', 'ol', '##mer', '##t', 'announced', 'that', 'he', 'will', 'step', 'down', 'after', 'his', 'ka', '##dim', '##a', 'party', 'chooses', 'a', 'new', 'leader', 'in', 'september', '.'], ['the', 'two', 'leaders', 're', '-', 'started', 'peace', 'talks', 'in', 'november', 'with', 'the', 'goal', 'of', 'reaching', 'a', 'deal', 'by', 'this', 'year', \"'\", 's', 'end', '.'], ['authorities', 'in', 'afghanistan', 'say', 'nine', 'afghan', 'soldiers', 'and', '10', 'tale', '##ban', 'rebels', 'have', 'been', 'killed', 'in', 'two', 'separate', 'ambush', '##es', 'in', 'the', 'country', \"'\", 's', 'rest', '##ive', 'south', '.'], ['a', 'provincial', 'government', 'official', 'says', 'suspected', 'tale', '##ban', 'rebels', 'attacked', 'the', 'soldiers', 'late', 'thursday', 'when', 'they', 'were', 'on', 'patrol', 'in', 'the', 'remote', 'cha', '##ku', '##l', 'area', 'of', 'southern', 'helm', '##and', 'province', '.'], ['later', ',', 'a', 'person', 'claiming', 'to', 'be', 'a', 'tale', '##ban', 'spokesman', 'claimed', 'responsibility', 'for', 'the', 'attack', '.'], ['the', 'u', '.', 's', '.', 'military', 'said', '10', 'tale', '##ban', 'rebels', 'also', 'were', 'killed', 'thursday', 'during', 'a', 'u', '.', 's', '.', 'helicopter', 'raid', 'in', 'southeastern', 'k', '##hos', '##t', 'province', 'after', 'five', 'afghan', 'soldiers', 'were', 'wounded', 'in', 'an', 'ambush', '.'], ['tale', '##ban', 'activity', 'has', 'eased', 'during', 'the', 'harsh', '##est', 'afghan', 'winter', 'in', 'decades', ',', 'but', 'officials', 'believe', 'upcoming', 'warmer', 'weather', 'will', 'result', 'in', 'a', 'renewed', 'surge', 'of', 'violence', '.'], ['britain', \"'\", 's', 'defense', 'ministry', 'has', 'defended', 'its', 'decision', 'to', 'allow', 'the', 'sailors', 'and', 'marines', 'freed', 'by', 'iran', 'last', 'week', 'to', 'sell', 'their', 'stories', '-', 'a', 'reversal', 'of', 'usual', 'policy', '.'], ['on', 'sunday', ',', 'the', 'ministry', 'said', 'that', 'huge', 'public', 'interest', 'made', 'the', 'circumstances', 'exceptional', '.'], ['members', 'of', 'the', 'opposition', 'conservative', 'party', 'immediately', 'challenged', 'the', 'decision', '.'], ['many', 'families', 'of', 'british', 'troops', 'killed', 'in', 'iraq', 'and', 'afghanistan', 'have', 'also', 'said', 'they', 'find', 'the', 'decision', 'di', '##sta', '##ste', '##ful', '.'], ['the', 'two', 'officers', 'among', 'the', '15', 'service', 'members', 'detained', 'in', 'iran', 'for', '13', 'days', 'have', 'said', 'they', 'have', 'chosen', 'not', 'to', 'profit', 'from', 'stories', 'of', 'their', 'captivity', ',', 'but', 'others', 'in', 'the', 'group', 'have', 'reportedly', 'made', 'lucrative', 'deals', 'with', 'british', 'media', '.'], ['several', 'of', 'the', 'the', 'former', 'captives', 'have', 'said', 'they', 'were', 'mist', '##reate', '##d', 'during', 'their', 'detention', '.'], ['however', ',', 'a', 'video', 'released', 'monday', ',', 'by', 'iran', 'shows', 'the', 'sailors', 'and', 'marines', 'relaxing', 'and', 'social', '##izing', 'during', 'their', 'captivity', '.'], ['the', 'weather', 'in', 'the', 'western', 'u', '.', 's', '.', 'state', 'of', 'california', 'has', 'helped', 'firefighters', 'gain', 'greater', 'control', 'of', 'a', 'massive', 'wild', '##fire', 'that', 'is', 'burning', 'near', 'the', 'populous', 'city', 'of', 'santa', 'barbara', '.'], ['fire', 'officials', 'said', 'the', 'winds', 'were', 'calm', '##er', 'overnight', 'and', 'a', 'dense', 'fog', 'rolled', 'in', 'saturday', 'morning', 'helping', 'firefighters', 'gain', 'control', 'of', '30', 'percent', 'of', 'the', 'blaze', ',', 'compared', 'to', '10', 'percent', 'on', 'friday', '.'], ['authorities', 'said', 'the', 'fire', 'has', 'burned', '35', 'square', 'kilometers', 'and', 'has', 'damaged', '80', 'homes', 'in', 'the', 'area', 'known', 'for', 'its', 'large', 'mansions', 'and', 'scenic', 'ocean', 'views', '.'], ['before', 'now', ',', 'strong', 'overnight', 'winds', 'and', 'dry', 'conditions', 'had', 'been', 'making', 'it', 'difficult', 'to', 'keep', 'the', 'blaze', 'from', 'spreading', '.'], ['the', 'fire', ',', 'which', 'began', 'on', 'may', '5', ',', 'has', 'forced', 'the', 'evacuation', 'of', 'more', 'than', '30', ',', '000', '.'], ['more', 'than', '4', ',', '200', 'personnel', 'are', 'battling', 'the', 'wild', '##fire', '.'], ['a', 'top', 'aide', 'to', 'iraqi', 'prime', 'minister', 'no', '##uri', 'al', '-', 'malik', '##i', 'says', 'the', 'government', 'has', 'launched', 'an', 'inquiry', 'into', 'the', 'conduct', 'of', 'the', 'execution', 'of', 'saddam', 'hussein', 'and', 'how', 'it', 'was', 'secretly', 'filmed', 'and', 'distributed', '.'], ['the', 'official', 'execution', 'tape', ',', 'which', 'had', 'no', 'sound', ',', 'showed', 'the', 'former', 'dictator', 'being', 'led', 'to', 'the', 'gallo', '##ws', 'but', 'not', 'his', 'actual', 'hanging', '.'], ['however', ',', 'video', 'captured', 'on', 'a', 'mobile', 'phone', 'camera', 'showed', 'footage', 'and', 'sound', 'of', 'saddam', 'being', 'tau', '##nted', 'and', 'then', 'dropping', 'to', 'his', 'death', '.'], ['in', 'the', 'mobile', 'phone', 'footage', ',', 'one', 'person', 'can', 'be', 'heard', 'shouting', '\"', 'mo', '##q', '##tad', '##a', ',', '\"', 'the', 'name', 'of', 'a', 'radical', 'shi', \"'\", 'it', '##e', 'cleric', 'and', 'opponent', 'of', 'saddam', '.'], ['the', 'unauthorized', 'video', 'has', 'caused', 'anger', 'among', 'many', 'saddam', 'supporters', ',', 'who', 'say', 'it', 'shows', 'that', 'the', 'execution', 'was', 'a', 'sect', '##arian', 'act', 'against', 'the', 'deposed', 'sunni', 'arab', 'leader', '.'], ['tuesday', ',', 'sunni', 'arab', 'mo', '##urne', '##rs', 'in', 'saddam', \"'\", 's', 'hometown', 'ti', '##kr', '##it', 'and', 'other', 'cities', 'marched', 'to', 'pay', 'their', 'respects', 'to', 'the', 'former', 'dictator', '.'], ['local', 'officials', 'in', 'afghanistan', \"'\", 's', 'northeastern', 'nur', '##istan', 'province', 'say', 'three', 'afghan', '##s', 'who', 'had', 'been', 'kidnapped', 'earlier', 'in', 'the', 'week', 'have', 'been', 'found', 'unharmed', '.'], ['the', 'three', 'had', 'been', 'reported', 'abducted', 'from', 'a', 'house', 'in', 'the', 'kam', '##des', '##h', 'district', 'of', 'nur', '##istan', 'province', '.'], ['at', 'least', 'two', 'of', 'the', 'three', 'afghan', '##s', 'were', 'election', 'workers', '.'], ['no', 'further', 'details', 'were', 'immediately', 'available', '.'], ['more', 'than', 'three', 'years', 'after', 'a', 'u', '.', 's', '.', '-', 'led', 'coalition', 'ousted', 'the', 'tale', '##ban', 'regime', ',', 'loyalists', 'are', 'wa', '##ging', 'an', 'es', '##cala', '##ting', 'guerrilla', 'campaign', 'ahead', 'of', 'afghanistan', \"'\", 's', 'september', 'parliamentary', 'vote', '.'], ['in', 'recent', 'days', 'in', 'kan', '##dah', '##ar', 'province', ',', 'a', 'judge', 'and', 'a', 'district', 'administrator', 'were', 'killed', 'in', 'attacks', 'believed', 'to', 'have', 'been', 'carried', 'out', 'by', 'insurgents', '.'], ['more', 'than', '700', 'people', 'have', 'been', 'killed', 'in', 'the', 'violence', 'this', 'year', '.'], ['world', 'famous', 'russian', 'cell', '##ist', 'and', 'conductor', ',', 'ms', '##tis', '##lav', 'ro', '##st', '##rop', '##ovich', ',', 'who', 'appeared', 'frail', 'at', 'his', '80', '##th', 'birthday', 'celebration', 'last', 'month', ',', 'has', 'been', 'hospitalized', 'in', 'moscow', 'for', 'the', 'second', 'time', 'this', 'year', '.'], ['a', 'spokesman', 'for', 'the', 'cell', '##ist', 'said', 'thursday', 'he', 'is', 'undergoing', 'routine', 'treatment', '.'], ['following', 'his', 'earlier', 'hospital', '##ization', 'in', 'february', ',', 'russian', 'news', 'media', 'reported', 'that', 'he', 'was', 'being', 'treated', 'for', 'cancer', '.'], ['at', 'the', 'time', ',', 'russian', 'president', 'vladimir', 'putin', 'visited', 'the', 'hospital', 'to', 'con', '##fer', 'a', 'medal', 'honoring', 'ro', '##st', '##rop', '##ovich', 'for', 'his', 'extraordinary', 'achievements', 'in', 'music', '.'], ['ro', '##st', '##rop', '##ovich', 'and', 'his', 'wife', ',', 'soprano', 'gal', '##ina', 'vis', '##hn', '##ev', '##skaya', ',', 'left', 'the', 'soviet', 'union', 'in', '1974', 'in', 'response', 'to', 'political', 'persecution', '.'], ['they', 'returned', 'to', 'russia', 'after', 'the', 'fall', 'of', 'the', 'soviet', 'union', 'and', 'are', 'running', 'a', 'charitable', 'organization', 'aiding', 'orphaned', 'children', '.'], ['the', 'u', '.', 's', '.', 'internet', 'giant', 'google', 'is', 'planning', 'to', 'install', 'solar', 'panels', 'at', 'its', 'headquarters', 'in', 'the', 'western', 'state', 'of', 'california', 'to', 'run', 'some', 'of', 'its', 'operations', 'with', 'energy', 'from', 'the', 'sun', '.'], ['the', 'leading', 'internet', 'search', 'engine', 'says', 'it', 'will', 'install', 'enough', 'solar', 'grid', '##s', 'at', 'its', 'complex', 'in', 'mountain', 'view', ',', 'california', 'to', 'generate', '1', '.', '6', 'mega', '##wat', '##ts', 'of', 'electricity', '.'], ['that', \"'\", 's', 'enough', 'energy', 'to', 'light', 'up', 'about', '1', ',', '000', 'california', 'homes', '.'], ['the', 'company', 'hopes', 'the', 'sun', 'will', 'produce', '30', 'percent', 'of', 'the', 'power', 'needed', 'to', 'run', 'its', '93', ',', '000', 'square', 'meter', 'complex', '.'], ['google', 'says', 'it', 'wants', 'to', 'set', 'an', 'example', 'that', 'renewable', 'energy', 'can', 'be', 'profitable', '.'], ['the', 'israeli', 'parliament', 'has', 'rejected', 'a', 'bill', 'calling', 'for', 'a', 'national', 'referendum', 'on', 'prime', 'minister', 'ariel', 'sharon', \"'\", 's', 'plan', 'to', 'evacuate', 'settlers', 'and', 'troops', 'from', 'the', 'gaza', 'strip', 'and', 'four', 'small', 'west', 'bank', 'enclave', '##s', 'later', 'this', 'year', '.'], ['monday', \"'\", 's', 'vote', 'of', '72', '-', '39', 'all', 'but', 'ends', 'attempts', 'by', 'withdrawal', 'opponents', 'to', 'der', '##ail', 'the', 'gaza', 'pull', '##out', '.'], ['under', 'the', 'withdrawal', 'plan', ',', 'all', '21', 'jewish', 'settlements', 'in', 'gaza', 'are', 'to', 'be', 'evacuated', ',', 'along', 'with', 'four', 'of', '120', 'settlements', 'in', 'the', 'occupied', 'west', 'bank', '.'], ['a', 'referendum', 'would', 'have', 'delayed', 'the', 'withdrawal', 'for', 'months', 'from', 'its', 'july', 'starting', 'date', '.'], ['meanwhile', ',', 'israeli', 'troops', 'raided', 'the', 'west', 'bank', 'palestinian', 'town', 'of', 'jen', '##in', 'today', ',', 'arresting', 'eight', 'accused', 'members', 'of', 'islamic', 'jihad', '.'], ['the', 'israeli', 'army', 'all', '##ege', '##s', 'the', 'suspects', 'were', 'making', 'crude', 'rockets', 'and', 'mortar', '##s', 'for', 'future', 'attacks', '.'], ['popular', 'american', 'tennis', 'star', 'andre', 'ag', '##ass', '##i', 'has', 'been', 'knocked', 'out', 'of', 'the', 'quarterfinals', 'at', 'the', 'del', '##ray', 'beach', 'international', 'in', 'florida', '.'], ['the', 'top', 'seed', 'and', 'former', 'world', 'number', 'one', 'lost', 'in', 'straight', 'sets', 'friday', 'to', 'spain', \"'\", 's', 'guillermo', 'garcia', '-', 'lopez', ',', '06', '-', 'apr', ',', '06', '-', 'feb', '.'], ['the', 'span', '##iard', 'next', 'takes', 'on', 'defending', 'champion', 'xavier', 'mali', '##sse', 'of', 'belgium', 'in', 'the', 'semifinals', '.'], ['the', 'third', '-', 'seeded', 'mali', '##sse', 'rallied', 'after', 'dropping', 'the', 'first', 'set', 'to', 'eliminate', 'sixth', '-', 'seeded', 'florian', 'mayer', 'of', 'germany', '06', '-', 'jul', ',', '06', '-', 'feb', ',', '06', '-', 'mar', '.'], ['meanwhile', ',', 'fourth', '-', 'seeded', 'tommy', 'haas', 'of', 'germany', 'beat', 'luxembourg', \"'\", 's', 'gilles', 'muller', 'in', 'straight', 'sets', '(', '06', '-', 'mar', ',', '06', '-', 'feb', ')', '.'], ['haas', 'next', 'plays', 'eighth', '-', 'seeded', 'american', 'vince', 'spade', '##a', ',', 'a', 'straight', '-', 'sets', 'winner', 'over', 'lee', 'hyun', '##g', '-', 'tai', '##k', 'of', 'south', 'korea', '(', '06', '-', 'mar', ',', '06', '-', 'mar', ')', '.'], ['united', 'nations', 'investigators', 'have', 'begun', 'questioning', 'top', 'syrian', 'officials', 'about', 'the', 'assassination', 'of', 'former', 'lebanese', 'prime', 'minister', 'raf', '##ik', 'hari', '##ri', '.'], ['diplomatic', 'sources', 'say', 'five', 'syrian', 'officials', 'are', 'being', 'questioned', 'at', 'u', '.', 'n', '.', 'offices', 'in', 'vienna', '.'], ['the', 'interviews', 'are', 'expected', 'to', 'continue', 'until', 'wednesday', '.'], ['the', 'sources', 'say', 'the', 'suspects', 'arrived', 'in', 'the', 'austrian', 'capital', 'late', 'sunday', '.'], ['damascus', 'recently', 'agreed', 'to', 'allow', 'its', 'officials', 'to', 'be', 'questioned', 'outside', 'syria', '.'], ['syria', 'denies', 'any', 'involvement', 'in', 'the', 'february', '14', 'bombing', 'in', 'beirut', 'that', 'killed', 'mr', '.', 'hari', '##ri', 'and', '20', 'other', 'people', '.'], ['however', ',', 'a', 'report', 'by', 'a', 'u', '.', 'n', '.', 'commission', 'in', 'october', 'implicated', 'top', 'syrian', 'and', 'lebanese', 'officials', '.'], ['the', 'u', '.', 'n', '.', 'security', 'council', 'has', 'warned', 'syria', 'to', 'cooperate', 'fully', 'with', 'the', 'probe', 'or', 'face', 'consequences', '.'], ['earlier', 'this', 'year', ',', 'syria', 'was', 'forced', 'to', 'withdraw', 'its', 'troops', 'from', 'lebanon', 'under', 'intense', 'domestic', 'and', 'international', 'pressure', '.'], ['aide', '##s', 'to', 'u', '.', 's', '.', 'senator', '-', 'and', 'former', 'first', 'lady', '-', 'hillary', 'rod', '##ham', 'clinton', 'have', 'confirmed', 'that', 'the', 'new', '~', 'york', 'senator', 'has', 'invited', 'supporters', 'from', 'the', 'state', 'of', 'iowa', 'to', 'her', 'washington', ',', 'd', '.', 'c', '.', 'home', 'for', 'a', 'private', 'political', 'fundraising', 'event', '.'], ['senator', 'clinton', 'is', 'facing', 're', '-', 'election', 'in', 'new', 'york', 'in', '2006', ',', 'but', 'the', 'invitation', 'of', 'iowa', 'supporters', 'raises', 'speculation', 'that', 'a', '2008', 'bid', 'for', 'the', 'u', '.', 's', '.', 'presidency', 'is', 'likely', '.'], ['iowa', 'is', 'traditionally', 'the', 'first', 'state', 'to', 'hold', 'political', 'caucus', '##es', 'in', 'which', 'candidates', 'from', 'the', 'same', 'party', 'compete', 'against', 'each', 'other', 'for', 'their', 'party', \"'\", 's', 'presidential', 'nomination', '.'], ['mrs', '.', 'clinton', \"'\", 's', 'former', 'national', 'finance', 'director', 'from', 'her', '2000', 'senate', 'campaign', 'is', 'currently', 'on', 'trial', 'in', 'los', 'angeles', 'federal', 'court', 'on', 'charges', 'he', 'lied', 'to', 'regulators', 'about', 'the', 'cost', 'of', 'a', 'lavish', 'hollywood', 'fundraiser', '.'], ['neither', 'mrs', '.', 'clinton', 'nor', 'her', 'husband', ',', 'the', 'former', 'president', ',', 'are', 'accused', 'of', 'any', 'wrong', '##do', '##ing', '.'], ['burmese', 'pro', '-', 'democracy', 'leader', 'au', '##ng', 'san', 'su', '##u', 'ky', '##i', 'met', 'saturday', 'with', 'a', 'top', 'united', 'nations', 'official', '.'], ['au', '##ng', 'san', 'su', '##u', 'ky', '##i', 'spoke', 'to', 'reporters', 'saturday', 'at', 'her', 'lakeside', 'home', 'in', 'rang', '##oon', ',', 'and', 'praised', 'the', 'talks', 'with', 'vijay', 'nam', '##bia', '##r', ',', 'chief', 'of', 'staff', 'for', 'u', '.', 'n', '.', 'secretary', '-', 'general', 'ban', 'ki', '-', 'moon', '.'], ['the', '65', '-', 'year', '-', 'old', 'nobel', 'peace', 'prize', 'laureate', 'has', 'been', 'vocal', 'about', 'pursuing', 'democratic', 'reforms', 'since', 'her', 'release', 'november', '13', 'from', 'more', 'than', 'seven', 'years', 'of', 'house', 'arrest', '.'], ['but', 'she', 'has', 'also', 'been', 'careful', 'not', 'to', 'verbal', '##ly', 'challenge', 'burma', \"'\", 's', 'ruling', 'generals', '.'], ['nam', '##bia', '##r', 'also', 'met', 'saturday', 'with', 'burma', \"'\", 's', 'foreign', 'minister', '.'], ['he', 'also', 'planned', 'to', 'meet', 'with', 'diplomats', 'and', 'recently', '-', 'elected', 'law', '##makers', '.'], ['pakistani', 'officials', 'say', 'security', 'forces', 'have', 'arrested', 'at', 'least', 'three', 'al', '-', 'q', '##aid', '##a', 'suspects', 'after', 'a', 'gun', '##fight', 'near', 'the', 'afghan', 'border', '.'], ['they', 'say', 'police', 'opened', 'fire', 'monday', 'on', 'a', 'car', 'carrying', 'the', 'suspects', 'outside', 'the', 'northwestern', 'city', 'of', 'peshawar', 'and', 'forced', 'it', 'to', 'stop', '.'], ['reports', 'say', 'one', 'of', 'the', 'suspects', 'escaped', 'while', 'the', 'others', 'were', 'arrested', '.'], ['this', 'comes', 'less', 'than', 'a', 'week', 'after', 'pakistani', 'officials', 'said', 'a', 'senior', 'al', '-', 'q', '##aid', '##a', 'explosives', 'expert', 'was', 'killed', 'in', 'a', 'raid', 'on', 'a', 'suspected', 'ins', '##urgent', 'hideout', 'in', 'the', 'tribal', 'region', 'of', 'north', 'wa', '##zi', '##rist', '##an', 'bordering', 'afghanistan', '.'], ['egyptian', '-', 'born', 'mu', '##hs', '##in', 'musa', 'mat', '##wal', '##i', 'at', '##wa', '##h', 'was', 'wanted', 'in', 'connection', 'with', 'the', '1998', 'bombings', 'of', 'the', 'u', '.', 's', '.', 'em', '##bas', '##sies', 'in', 'kenya', 'and', 'tanzania', '.'], ['the', 'united', 'states', 'offered', 'a', '$', '5', 'million', 'reward', 'for', 'his', 'capture', '.'], ['six', 'other', 'islamic', 'militants', 'were', 'killed', 'in', 'the', 'raid', '.'], ['rebels', 'in', 'eastern', 'sudan', 'say', 'government', 'war', 'planes', 'have', 'been', 'bombing', 'a', 'rebel', 'area', 'near', 'the', 'border', 'with', 'eritrea', ',', 'wounding', 'several', 'people', '.'], ['a', 'spokesman', 'with', 'rebels', 'known', 'as', 'the', 'eastern', 'front', 'said', 'friday', ',', 'the', 'bombing', 'began', 'thursday', 'in', 'the', 'bark', '##a', 'valley', 'region', 'near', 'the', 'town', 'of', 'to', '##kar', ',', '120', 'kilometers', 'south', 'port', 'sudan', 'on', 'the', 'red', 'sea', '.'], ['the', 'french', 'news', 'agency', 'quotes', 'a', 'rebel', 'spokesman']]\n",
      "['thousands', 'of', 'demonstrators', 'have', 'marched', 'through', 'london', 'to', 'protest', 'the', 'war', 'in', 'iraq', 'and', 'demand', 'the', 'withdrawal', 'of', 'british', 'troops', 'from', 'that', 'country', '.']\n"
     ]
    }
   ],
   "source": [
    "print(tokenized_texts) # list of list of tokens of each sentence\n",
    "print(tokenized_texts[0]) #list of tokens, one sentence"
   ]
  },
  {
   "cell_type": "code",
   "execution_count": 31,
   "metadata": {
    "_uuid": "f77f0f8f9c779c15b49790cf9c42becef3f39cba",
    "id": "6cS5w4PS9TR5"
   },
   "outputs": [],
   "source": [
    "input_ids = pad_sequences([tokenizer.convert_tokens_to_ids(txt) for txt in tokenized_texts],\n",
    "                          maxlen=MAX_LEN, dtype=\"long\", truncating=\"post\", padding=\"post\") #creates stacked input tensor, fixed length"
   ]
  },
  {
   "cell_type": "code",
   "execution_count": 33,
   "metadata": {
    "_uuid": "7f28fe1c656c371e47b23a6d905527da9895d3ee",
    "id": "C5oXcoOb9TR6"
   },
   "outputs": [],
   "source": [
    "tags = pad_sequences([[tag2idx.get(l) for l in lab] for lab in labels],\n",
    "                     maxlen=MAX_LEN, value=tag2idx[\"O\"], padding=\"post\",\n",
    "                     dtype=\"long\", truncating=\"post\") #ground truth labels"
   ]
  },
  {
   "cell_type": "code",
   "execution_count": 34,
   "metadata": {
    "_uuid": "42250d53714a7a30d23778ff0692ee7aed5018b3",
    "id": "sc8MJKdv9TR7"
   },
   "outputs": [],
   "source": [
    "attention_masks = [[float(i>0) for i in ii] for ii in input_ids]"
   ]
  },
  {
   "cell_type": "code",
   "execution_count": 35,
   "metadata": {
    "_uuid": "7983cec40eaf72173ff1de156a2e5bc5f746f6b6",
    "id": "mgLwrHgK9TR7"
   },
   "outputs": [],
   "source": [
    "tr_inputs, val_inputs, tr_tags, val_tags = train_test_split(input_ids, tags, \n",
    "                                                            random_state=2018, test_size=0.1)\n",
    "tr_masks, val_masks, _, _ = train_test_split(attention_masks, input_ids,\n",
    "                                             random_state=2018, test_size=0.1)"
   ]
  },
  {
   "cell_type": "code",
   "execution_count": 36,
   "metadata": {
    "_uuid": "809efdd5002265fad91a3c2e5b019d14e48987c2",
    "id": "JfPfWHpb9TR7"
   },
   "outputs": [],
   "source": [
    "tr_inputs = torch.tensor(tr_inputs)\n",
    "val_inputs = torch.tensor(val_inputs)\n",
    "tr_tags = torch.tensor(tr_tags)\n",
    "val_tags = torch.tensor(val_tags)\n",
    "tr_masks = torch.tensor(tr_masks)\n",
    "val_masks = torch.tensor(val_masks)"
   ]
  },
  {
   "cell_type": "code",
   "execution_count": 37,
   "metadata": {
    "_uuid": "a7d0ab1dd92524ede3f8cfd868d47fa854e3b7f7",
    "id": "qb46kFc09TR7"
   },
   "outputs": [],
   "source": [
    "train_data = TensorDataset(tr_inputs, tr_masks, tr_tags)\n",
    "train_sampler = RandomSampler(train_data)\n",
    "train_dataloader = DataLoader(train_data, sampler=train_sampler, batch_size=bs)\n",
    "\n",
    "valid_data = TensorDataset(val_inputs, val_masks, val_tags)\n",
    "valid_sampler = SequentialSampler(valid_data)\n",
    "valid_dataloader = DataLoader(valid_data, sampler=valid_sampler, batch_size=bs)"
   ]
  },
  {
   "cell_type": "code",
   "execution_count": 40,
   "metadata": {
    "colab": {
     "base_uri": "https://localhost:8080/"
    },
    "id": "8Bzl2maKvre7",
    "outputId": "406e10e7-c2b0-48aa-a1fd-3befeac1f094"
   },
   "outputs": [
    {
     "name": "stdout",
     "output_type": "stream",
     "text": [
      "18\n"
     ]
    }
   ],
   "source": [
    "#number of labels for classification\n",
    "print(len(tag2idx))"
   ]
  },
  {
   "cell_type": "code",
   "execution_count": 38,
   "metadata": {
    "_uuid": "907a1068525b1c1fd64cd5641af29fdcff498c89",
    "colab": {
     "base_uri": "https://localhost:8080/"
    },
    "id": "zc2fkUYJ9TR7",
    "outputId": "c10cd630-c3d5-47a0-9d4e-da585986b351"
   },
   "outputs": [
    {
     "name": "stderr",
     "output_type": "stream",
     "text": [
      "100%|██████████| 407873900/407873900 [00:29<00:00, 13843088.34B/s]\n"
     ]
    }
   ],
   "source": [
    "model = BertForTokenClassification.from_pretrained(\"bert-base-uncased\", num_labels=len(tag2idx))"
   ]
  },
  {
   "cell_type": "code",
   "execution_count": 39,
   "metadata": {
    "_uuid": "553fc0c1015878731b5c2ab4185026bd44101695",
    "colab": {
     "base_uri": "https://localhost:8080/"
    },
    "id": "MgvCcJ1k9TR8",
    "outputId": "9813b97c-fb33-4cb0-97e8-5fde5c606954"
   },
   "outputs": [
    {
     "data": {
      "text/plain": [
       "BertForTokenClassification(\n",
       "  (bert): BertModel(\n",
       "    (embeddings): BertEmbeddings(\n",
       "      (word_embeddings): Embedding(30522, 768, padding_idx=0)\n",
       "      (position_embeddings): Embedding(512, 768)\n",
       "      (token_type_embeddings): Embedding(2, 768)\n",
       "      (LayerNorm): BertLayerNorm()\n",
       "      (dropout): Dropout(p=0.1, inplace=False)\n",
       "    )\n",
       "    (encoder): BertEncoder(\n",
       "      (layer): ModuleList(\n",
       "        (0): BertLayer(\n",
       "          (attention): BertAttention(\n",
       "            (self): BertSelfAttention(\n",
       "              (query): Linear(in_features=768, out_features=768, bias=True)\n",
       "              (key): Linear(in_features=768, out_features=768, bias=True)\n",
       "              (value): Linear(in_features=768, out_features=768, bias=True)\n",
       "              (dropout): Dropout(p=0.1, inplace=False)\n",
       "            )\n",
       "            (output): BertSelfOutput(\n",
       "              (dense): Linear(in_features=768, out_features=768, bias=True)\n",
       "              (LayerNorm): BertLayerNorm()\n",
       "              (dropout): Dropout(p=0.1, inplace=False)\n",
       "            )\n",
       "          )\n",
       "          (intermediate): BertIntermediate(\n",
       "            (dense): Linear(in_features=768, out_features=3072, bias=True)\n",
       "          )\n",
       "          (output): BertOutput(\n",
       "            (dense): Linear(in_features=3072, out_features=768, bias=True)\n",
       "            (LayerNorm): BertLayerNorm()\n",
       "            (dropout): Dropout(p=0.1, inplace=False)\n",
       "          )\n",
       "        )\n",
       "        (1): BertLayer(\n",
       "          (attention): BertAttention(\n",
       "            (self): BertSelfAttention(\n",
       "              (query): Linear(in_features=768, out_features=768, bias=True)\n",
       "              (key): Linear(in_features=768, out_features=768, bias=True)\n",
       "              (value): Linear(in_features=768, out_features=768, bias=True)\n",
       "              (dropout): Dropout(p=0.1, inplace=False)\n",
       "            )\n",
       "            (output): BertSelfOutput(\n",
       "              (dense): Linear(in_features=768, out_features=768, bias=True)\n",
       "              (LayerNorm): BertLayerNorm()\n",
       "              (dropout): Dropout(p=0.1, inplace=False)\n",
       "            )\n",
       "          )\n",
       "          (intermediate): BertIntermediate(\n",
       "            (dense): Linear(in_features=768, out_features=3072, bias=True)\n",
       "          )\n",
       "          (output): BertOutput(\n",
       "            (dense): Linear(in_features=3072, out_features=768, bias=True)\n",
       "            (LayerNorm): BertLayerNorm()\n",
       "            (dropout): Dropout(p=0.1, inplace=False)\n",
       "          )\n",
       "        )\n",
       "        (2): BertLayer(\n",
       "          (attention): BertAttention(\n",
       "            (self): BertSelfAttention(\n",
       "              (query): Linear(in_features=768, out_features=768, bias=True)\n",
       "              (key): Linear(in_features=768, out_features=768, bias=True)\n",
       "              (value): Linear(in_features=768, out_features=768, bias=True)\n",
       "              (dropout): Dropout(p=0.1, inplace=False)\n",
       "            )\n",
       "            (output): BertSelfOutput(\n",
       "              (dense): Linear(in_features=768, out_features=768, bias=True)\n",
       "              (LayerNorm): BertLayerNorm()\n",
       "              (dropout): Dropout(p=0.1, inplace=False)\n",
       "            )\n",
       "          )\n",
       "          (intermediate): BertIntermediate(\n",
       "            (dense): Linear(in_features=768, out_features=3072, bias=True)\n",
       "          )\n",
       "          (output): BertOutput(\n",
       "            (dense): Linear(in_features=3072, out_features=768, bias=True)\n",
       "            (LayerNorm): BertLayerNorm()\n",
       "            (dropout): Dropout(p=0.1, inplace=False)\n",
       "          )\n",
       "        )\n",
       "        (3): BertLayer(\n",
       "          (attention): BertAttention(\n",
       "            (self): BertSelfAttention(\n",
       "              (query): Linear(in_features=768, out_features=768, bias=True)\n",
       "              (key): Linear(in_features=768, out_features=768, bias=True)\n",
       "              (value): Linear(in_features=768, out_features=768, bias=True)\n",
       "              (dropout): Dropout(p=0.1, inplace=False)\n",
       "            )\n",
       "            (output): BertSelfOutput(\n",
       "              (dense): Linear(in_features=768, out_features=768, bias=True)\n",
       "              (LayerNorm): BertLayerNorm()\n",
       "              (dropout): Dropout(p=0.1, inplace=False)\n",
       "            )\n",
       "          )\n",
       "          (intermediate): BertIntermediate(\n",
       "            (dense): Linear(in_features=768, out_features=3072, bias=True)\n",
       "          )\n",
       "          (output): BertOutput(\n",
       "            (dense): Linear(in_features=3072, out_features=768, bias=True)\n",
       "            (LayerNorm): BertLayerNorm()\n",
       "            (dropout): Dropout(p=0.1, inplace=False)\n",
       "          )\n",
       "        )\n",
       "        (4): BertLayer(\n",
       "          (attention): BertAttention(\n",
       "            (self): BertSelfAttention(\n",
       "              (query): Linear(in_features=768, out_features=768, bias=True)\n",
       "              (key): Linear(in_features=768, out_features=768, bias=True)\n",
       "              (value): Linear(in_features=768, out_features=768, bias=True)\n",
       "              (dropout): Dropout(p=0.1, inplace=False)\n",
       "            )\n",
       "            (output): BertSelfOutput(\n",
       "              (dense): Linear(in_features=768, out_features=768, bias=True)\n",
       "              (LayerNorm): BertLayerNorm()\n",
       "              (dropout): Dropout(p=0.1, inplace=False)\n",
       "            )\n",
       "          )\n",
       "          (intermediate): BertIntermediate(\n",
       "            (dense): Linear(in_features=768, out_features=3072, bias=True)\n",
       "          )\n",
       "          (output): BertOutput(\n",
       "            (dense): Linear(in_features=3072, out_features=768, bias=True)\n",
       "            (LayerNorm): BertLayerNorm()\n",
       "            (dropout): Dropout(p=0.1, inplace=False)\n",
       "          )\n",
       "        )\n",
       "        (5): BertLayer(\n",
       "          (attention): BertAttention(\n",
       "            (self): BertSelfAttention(\n",
       "              (query): Linear(in_features=768, out_features=768, bias=True)\n",
       "              (key): Linear(in_features=768, out_features=768, bias=True)\n",
       "              (value): Linear(in_features=768, out_features=768, bias=True)\n",
       "              (dropout): Dropout(p=0.1, inplace=False)\n",
       "            )\n",
       "            (output): BertSelfOutput(\n",
       "              (dense): Linear(in_features=768, out_features=768, bias=True)\n",
       "              (LayerNorm): BertLayerNorm()\n",
       "              (dropout): Dropout(p=0.1, inplace=False)\n",
       "            )\n",
       "          )\n",
       "          (intermediate): BertIntermediate(\n",
       "            (dense): Linear(in_features=768, out_features=3072, bias=True)\n",
       "          )\n",
       "          (output): BertOutput(\n",
       "            (dense): Linear(in_features=3072, out_features=768, bias=True)\n",
       "            (LayerNorm): BertLayerNorm()\n",
       "            (dropout): Dropout(p=0.1, inplace=False)\n",
       "          )\n",
       "        )\n",
       "        (6): BertLayer(\n",
       "          (attention): BertAttention(\n",
       "            (self): BertSelfAttention(\n",
       "              (query): Linear(in_features=768, out_features=768, bias=True)\n",
       "              (key): Linear(in_features=768, out_features=768, bias=True)\n",
       "              (value): Linear(in_features=768, out_features=768, bias=True)\n",
       "              (dropout): Dropout(p=0.1, inplace=False)\n",
       "            )\n",
       "            (output): BertSelfOutput(\n",
       "              (dense): Linear(in_features=768, out_features=768, bias=True)\n",
       "              (LayerNorm): BertLayerNorm()\n",
       "              (dropout): Dropout(p=0.1, inplace=False)\n",
       "            )\n",
       "          )\n",
       "          (intermediate): BertIntermediate(\n",
       "            (dense): Linear(in_features=768, out_features=3072, bias=True)\n",
       "          )\n",
       "          (output): BertOutput(\n",
       "            (dense): Linear(in_features=3072, out_features=768, bias=True)\n",
       "            (LayerNorm): BertLayerNorm()\n",
       "            (dropout): Dropout(p=0.1, inplace=False)\n",
       "          )\n",
       "        )\n",
       "        (7): BertLayer(\n",
       "          (attention): BertAttention(\n",
       "            (self): BertSelfAttention(\n",
       "              (query): Linear(in_features=768, out_features=768, bias=True)\n",
       "              (key): Linear(in_features=768, out_features=768, bias=True)\n",
       "              (value): Linear(in_features=768, out_features=768, bias=True)\n",
       "              (dropout): Dropout(p=0.1, inplace=False)\n",
       "            )\n",
       "            (output): BertSelfOutput(\n",
       "              (dense): Linear(in_features=768, out_features=768, bias=True)\n",
       "              (LayerNorm): BertLayerNorm()\n",
       "              (dropout): Dropout(p=0.1, inplace=False)\n",
       "            )\n",
       "          )\n",
       "          (intermediate): BertIntermediate(\n",
       "            (dense): Linear(in_features=768, out_features=3072, bias=True)\n",
       "          )\n",
       "          (output): BertOutput(\n",
       "            (dense): Linear(in_features=3072, out_features=768, bias=True)\n",
       "            (LayerNorm): BertLayerNorm()\n",
       "            (dropout): Dropout(p=0.1, inplace=False)\n",
       "          )\n",
       "        )\n",
       "        (8): BertLayer(\n",
       "          (attention): BertAttention(\n",
       "            (self): BertSelfAttention(\n",
       "              (query): Linear(in_features=768, out_features=768, bias=True)\n",
       "              (key): Linear(in_features=768, out_features=768, bias=True)\n",
       "              (value): Linear(in_features=768, out_features=768, bias=True)\n",
       "              (dropout): Dropout(p=0.1, inplace=False)\n",
       "            )\n",
       "            (output): BertSelfOutput(\n",
       "              (dense): Linear(in_features=768, out_features=768, bias=True)\n",
       "              (LayerNorm): BertLayerNorm()\n",
       "              (dropout): Dropout(p=0.1, inplace=False)\n",
       "            )\n",
       "          )\n",
       "          (intermediate): BertIntermediate(\n",
       "            (dense): Linear(in_features=768, out_features=3072, bias=True)\n",
       "          )\n",
       "          (output): BertOutput(\n",
       "            (dense): Linear(in_features=3072, out_features=768, bias=True)\n",
       "            (LayerNorm): BertLayerNorm()\n",
       "            (dropout): Dropout(p=0.1, inplace=False)\n",
       "          )\n",
       "        )\n",
       "        (9): BertLayer(\n",
       "          (attention): BertAttention(\n",
       "            (self): BertSelfAttention(\n",
       "              (query): Linear(in_features=768, out_features=768, bias=True)\n",
       "              (key): Linear(in_features=768, out_features=768, bias=True)\n",
       "              (value): Linear(in_features=768, out_features=768, bias=True)\n",
       "              (dropout): Dropout(p=0.1, inplace=False)\n",
       "            )\n",
       "            (output): BertSelfOutput(\n",
       "              (dense): Linear(in_features=768, out_features=768, bias=True)\n",
       "              (LayerNorm): BertLayerNorm()\n",
       "              (dropout): Dropout(p=0.1, inplace=False)\n",
       "            )\n",
       "          )\n",
       "          (intermediate): BertIntermediate(\n",
       "            (dense): Linear(in_features=768, out_features=3072, bias=True)\n",
       "          )\n",
       "          (output): BertOutput(\n",
       "            (dense): Linear(in_features=3072, out_features=768, bias=True)\n",
       "            (LayerNorm): BertLayerNorm()\n",
       "            (dropout): Dropout(p=0.1, inplace=False)\n",
       "          )\n",
       "        )\n",
       "        (10): BertLayer(\n",
       "          (attention): BertAttention(\n",
       "            (self): BertSelfAttention(\n",
       "              (query): Linear(in_features=768, out_features=768, bias=True)\n",
       "              (key): Linear(in_features=768, out_features=768, bias=True)\n",
       "              (value): Linear(in_features=768, out_features=768, bias=True)\n",
       "              (dropout): Dropout(p=0.1, inplace=False)\n",
       "            )\n",
       "            (output): BertSelfOutput(\n",
       "              (dense): Linear(in_features=768, out_features=768, bias=True)\n",
       "              (LayerNorm): BertLayerNorm()\n",
       "              (dropout): Dropout(p=0.1, inplace=False)\n",
       "            )\n",
       "          )\n",
       "          (intermediate): BertIntermediate(\n",
       "            (dense): Linear(in_features=768, out_features=3072, bias=True)\n",
       "          )\n",
       "          (output): BertOutput(\n",
       "            (dense): Linear(in_features=3072, out_features=768, bias=True)\n",
       "            (LayerNorm): BertLayerNorm()\n",
       "            (dropout): Dropout(p=0.1, inplace=False)\n",
       "          )\n",
       "        )\n",
       "        (11): BertLayer(\n",
       "          (attention): BertAttention(\n",
       "            (self): BertSelfAttention(\n",
       "              (query): Linear(in_features=768, out_features=768, bias=True)\n",
       "              (key): Linear(in_features=768, out_features=768, bias=True)\n",
       "              (value): Linear(in_features=768, out_features=768, bias=True)\n",
       "              (dropout): Dropout(p=0.1, inplace=False)\n",
       "            )\n",
       "            (output): BertSelfOutput(\n",
       "              (dense): Linear(in_features=768, out_features=768, bias=True)\n",
       "              (LayerNorm): BertLayerNorm()\n",
       "              (dropout): Dropout(p=0.1, inplace=False)\n",
       "            )\n",
       "          )\n",
       "          (intermediate): BertIntermediate(\n",
       "            (dense): Linear(in_features=768, out_features=3072, bias=True)\n",
       "          )\n",
       "          (output): BertOutput(\n",
       "            (dense): Linear(in_features=3072, out_features=768, bias=True)\n",
       "            (LayerNorm): BertLayerNorm()\n",
       "            (dropout): Dropout(p=0.1, inplace=False)\n",
       "          )\n",
       "        )\n",
       "      )\n",
       "    )\n",
       "    (pooler): BertPooler(\n",
       "      (dense): Linear(in_features=768, out_features=768, bias=True)\n",
       "      (activation): Tanh()\n",
       "    )\n",
       "  )\n",
       "  (dropout): Dropout(p=0.1, inplace=False)\n",
       "  (classifier): Linear(in_features=768, out_features=18, bias=True)\n",
       ")"
      ]
     },
     "execution_count": 39,
     "metadata": {},
     "output_type": "execute_result"
    }
   ],
   "source": [
    "model.cuda()"
   ]
  },
  {
   "cell_type": "code",
   "execution_count": 41,
   "metadata": {
    "colab": {
     "base_uri": "https://localhost:8080/"
    },
    "id": "o0RT4Z8rv6kN",
    "outputId": "2c62ebc6-58af-4084-e187-466cbf880c7b"
   },
   "outputs": [
    {
     "data": {
      "text/plain": [
       "[('weight', Parameter containing:\n",
       "  tensor([[-0.0011,  0.0095,  0.0066,  ...,  0.0105,  0.0054,  0.0139],\n",
       "          [-0.0348,  0.0092,  0.0012,  ..., -0.0180,  0.0008, -0.0274],\n",
       "          [ 0.0137, -0.0071, -0.0030,  ...,  0.0076, -0.0146,  0.0017],\n",
       "          ...,\n",
       "          [ 0.0039,  0.0199,  0.0090,  ...,  0.0376,  0.0054,  0.0063],\n",
       "          [ 0.0080, -0.0017,  0.0234,  ..., -0.0142,  0.0056,  0.0135],\n",
       "          [-0.0648, -0.0192,  0.0214,  ...,  0.0124,  0.0028,  0.0012]],\n",
       "         device='cuda:0', requires_grad=True)), ('bias', Parameter containing:\n",
       "  tensor([0., 0., 0., 0., 0., 0., 0., 0., 0., 0., 0., 0., 0., 0., 0., 0., 0., 0.],\n",
       "         device='cuda:0', requires_grad=True))]"
      ]
     },
     "execution_count": 41,
     "metadata": {},
     "output_type": "execute_result"
    }
   ],
   "source": [
    "list(model.classifier.named_parameters()) "
   ]
  },
  {
   "cell_type": "code",
   "execution_count": 42,
   "metadata": {
    "_uuid": "c32ef5fb14eee369b8b945f48316b8f973a812d6",
    "id": "Ag1OLUtg9TR8"
   },
   "outputs": [],
   "source": [
    "param_optimizer = list(model.classifier.named_parameters()) \n",
    "optimizer_grouped_parameters = [{\"params\": [p for n, p in param_optimizer]}]\n",
    "optimizer = Adam(optimizer_grouped_parameters, lr=3e-5)"
   ]
  },
  {
   "cell_type": "code",
   "execution_count": 43,
   "metadata": {
    "_uuid": "3486fe719942f089d4041d6db192154cd4ba6052",
    "id": "4fSU0CFV9TR9"
   },
   "outputs": [],
   "source": [
    "from seqeval.metrics import f1_score\n",
    "\n",
    "def flat_accuracy(preds, labels):\n",
    "    pred_flat = np.argmax(preds, axis=2).flatten()\n",
    "    labels_flat = labels.flatten()\n",
    "    return np.sum(pred_flat == labels_flat) / len(labels_flat)"
   ]
  },
  {
   "cell_type": "code",
   "execution_count": 54,
   "metadata": {
    "_uuid": "f76abc8a8fcc868095f325515f2c5ecb43c02859",
    "colab": {
     "base_uri": "https://localhost:8080/"
    },
    "id": "2AJr3d8c9TR9",
    "outputId": "684b65d9-9a96-43fe-b2cf-2c8063fd13c8"
   },
   "outputs": [
    {
     "name": "stderr",
     "output_type": "stream",
     "text": [
      "Epoch:  20%|██        | 1/5 [00:08<00:35,  8.87s/it]"
     ]
    },
    {
     "name": "stdout",
     "output_type": "stream",
     "text": [
      "\n",
      "Average training loss:  2.435664701461792\n"
     ]
    },
    {
     "name": "stderr",
     "output_type": "stream",
     "text": [
      "\r",
      "Epoch:  40%|████      | 2/5 [00:17<00:26,  8.84s/it]"
     ]
    },
    {
     "name": "stdout",
     "output_type": "stream",
     "text": [
      "\n",
      "Average training loss:  2.379415249824524\n"
     ]
    },
    {
     "name": "stderr",
     "output_type": "stream",
     "text": [
      "\r",
      "Epoch:  60%|██████    | 3/5 [00:26<00:17,  8.82s/it]"
     ]
    },
    {
     "name": "stdout",
     "output_type": "stream",
     "text": [
      "\n",
      "Average training loss:  2.3230634212493895\n"
     ]
    },
    {
     "name": "stderr",
     "output_type": "stream",
     "text": [
      "\r",
      "Epoch:  80%|████████  | 4/5 [00:35<00:08,  8.81s/it]"
     ]
    },
    {
     "name": "stdout",
     "output_type": "stream",
     "text": [
      "\n",
      "Average training loss:  2.2805511713027955\n"
     ]
    },
    {
     "name": "stderr",
     "output_type": "stream",
     "text": [
      "Epoch: 100%|██████████| 5/5 [00:44<00:00,  8.81s/it]"
     ]
    },
    {
     "name": "stdout",
     "output_type": "stream",
     "text": [
      "\n",
      "Average training loss:  2.2235549211502077\n"
     ]
    },
    {
     "name": "stderr",
     "output_type": "stream",
     "text": [
      "\n"
     ]
    }
   ],
   "source": [
    "epochs = 5\n",
    "max_grad_norm = 1.0\n",
    "\n",
    "for _ in trange(epochs, desc=\"Epoch\"):\n",
    "    # TRAINING loop\n",
    "    model.train()\n",
    "\n",
    "    running_loss=0 #this is the train_loss\n",
    "    \n",
    "    for step, batch in enumerate(train_dataloader):\n",
    "        batch = tuple(t.to(device) for t in batch)\n",
    "        b_input_ids, b_input_mask, b_labels = batch\n",
    "\n",
    "        #zero-out the gradients\n",
    "        optimizer.zero_grad()\n",
    "        \n",
    "        # forward pass\n",
    "        output = model(b_input_ids, token_type_ids=None, attention_mask=b_input_mask, labels=b_labels)\n",
    "        current_loss=output\n",
    "       \n",
    "        # backward pass\n",
    "        current_loss.backward()\n",
    "        \n",
    "        # track train loss\n",
    "        running_loss=running_loss+current_loss.item()\n",
    "        \n",
    "        # gradient clipping\n",
    "        torch.nn.utils.clip_grad_norm_(parameters=model.parameters(), max_norm=max_grad_norm)\n",
    "        \n",
    "        # update parameters\n",
    "        optimizer.step()\n",
    "        \n",
    "    # print train loss per epoch\n",
    "    print(\"\\nAverage training loss: \",(running_loss/len(train_dataloader)))\n",
    "\n",
    "  \n",
    "   \n"
   ]
  },
  {
   "cell_type": "code",
   "execution_count": 55,
   "metadata": {
    "id": "6ITqxzGq5f5Z"
   },
   "outputs": [],
   "source": [
    " # saving model after the final epoch\n",
    "\n",
    " torch.save(model,'/content/gdrive/MyDrive/NLP_Assignment_3/bert_model.pth')"
   ]
  },
  {
   "cell_type": "code",
   "execution_count": 56,
   "metadata": {
    "_uuid": "5c2f84d74b0913606ce9ea58ff5f36e605ad1110",
    "id": "DzFsMeOT9TR-"
   },
   "outputs": [],
   "source": [
    "#Loading the saved model\n",
    "\n",
    "loaded_model = torch.load('/content/gdrive/MyDrive/NLP_Assignment_3/bert_model.pth')"
   ]
  },
  {
   "cell_type": "code",
   "execution_count": 64,
   "metadata": {
    "colab": {
     "base_uri": "https://localhost:8080/"
    },
    "id": "0G-gm0Xs6r1n",
    "outputId": "5317237c-fe84-4689-d63f-6cc7545abff0"
   },
   "outputs": [
    {
     "name": "stdout",
     "output_type": "stream",
     "text": [
      "Validation Loss:  0.9703524708747864\n",
      "Validation Accuracy:  0.8776515151515152\n"
     ]
    }
   ],
   "source": [
    "# evaluating the saved model on the validation set and predict the value also\n",
    "\n",
    "loaded_model.eval()\n",
    "predictions, ground_truth_labels = [], []\n",
    "Val_Loss=0\n",
    "\n",
    "# Predictions on the validation set\n",
    "\n",
    "for batch in valid_dataloader:\n",
    "  batch = tuple(t.to(device) for t in batch)\n",
    "  # Unpacking the inputs from dataloader\n",
    "  b_input_ids, b_input_mask, b_labels = batch\n",
    "\n",
    "  with torch.no_grad():# we do not store gradients, so that operation is fast and there is less memory usage\n",
    "    # Forward pass to calculate predictions\n",
    "    preds = loaded_model(b_input_ids, token_type_ids=None, attention_mask=b_input_mask)\n",
    "\n",
    "  Val_Loss = Val_Loss + preds.mean().item()\n",
    "\n",
    "  # In order to convert CUDA:device type tensor to numpy, first we need to move the prediction tensors and labels to the CPU\n",
    "  preds = preds.detach().cpu().numpy()\n",
    "  b_labels = b_labels.to('cpu').numpy()\n",
    "  \n",
    "  # We store the predictions and ground truth labels for calculation of validation accuracy\n",
    "  predictions.append(preds)\n",
    "  ground_truth_labels.append(b_labels)\n",
    "\n",
    "\n",
    "predictions = np.concatenate(predictions, axis=0) \n",
    "ground_truth_labels = np.concatenate(ground_truth_labels, axis=0) \n",
    "accuracy = flat_accuracy(predictions, ground_truth_labels)\n",
    "print(\"Validation Loss: \", abs(Val_Loss))\n",
    "print(\"Validation Accuracy: \", accuracy)"
   ]
  },
  {
   "cell_type": "code",
   "execution_count": 69,
   "metadata": {
    "colab": {
     "base_uri": "https://localhost:8080/"
    },
    "id": "RTzIzWZHFcKw",
    "outputId": "9960e317-3cd5-438f-e608-704cf4aa34e9"
   },
   "outputs": [
    {
     "name": "stdout",
     "output_type": "stream",
     "text": [
      "      Prediction index  Ground truth index Prediction tag Ground truth tag\n",
      "0                    8                   8              O                O\n",
      "1                    8                   8              O                O\n",
      "2                    8                   8              O                O\n",
      "3                    8                   8              O                O\n",
      "4                    8                   9              O            B-geo\n",
      "...                ...                 ...            ...              ...\n",
      "2635                 8                   8              O                O\n",
      "2636                 8                   8              O                O\n",
      "2637                 8                   8              O                O\n",
      "2638                 8                   8              O                O\n",
      "2639                 8                   8              O                O\n",
      "\n",
      "[2640 rows x 4 columns]\n"
     ]
    }
   ],
   "source": [
    "# Printing the predicted outputs from the validation set using the loaded model\n",
    "\n",
    "pred_flattened = np.argmax(predictions, axis=2).flatten()\n",
    "labels_flattened = ground_truth_labels.flatten()\n",
    "\n",
    "tag_list=list(tag2idx.keys())\n",
    "tag_idx_list=list(tag2idx.values())\n",
    "\n",
    "tag_predictions=[tag_list[tag_idx_list.index(element)] for element in pred_flattened]\n",
    "tag_labels=[tag_list[tag_idx_list.index(element)] for element in labels_flattened]\n",
    "\n",
    "output_data = {'Prediction index':pred_flattened, 'Ground truth index':labels_flattened, 'Prediction tag':tag_predictions, 'Ground truth tag':tag_labels}\n",
    "\n",
    "output_data_df=pd.DataFrame(output_data)\n",
    "print(output_data_df)"
   ]
  },
  {
   "cell_type": "code",
   "execution_count": 70,
   "metadata": {
    "id": "XJoi1B2lJqVE"
   },
   "outputs": [],
   "source": [
    "#Saving the outputs of the model on validation set as csv file\n",
    "\n",
    "output_data_df.to_csv('/content/gdrive/MyDrive/NLP_Assignment_3/outputs_on_validation_set.csv')"
   ]
  }
 ],
 "metadata": {
  "accelerator": "GPU",
  "colab": {
   "name": "NLP_CS60075_A3 - Copy.ipynb",
   "provenance": []
  },
  "kernelspec": {
   "display_name": "Python 3 (ipykernel)",
   "language": "python",
   "name": "python3"
  },
  "language_info": {
   "codemirror_mode": {
    "name": "ipython",
    "version": 3
   },
   "file_extension": ".py",
   "mimetype": "text/x-python",
   "name": "python",
   "nbconvert_exporter": "python",
   "pygments_lexer": "ipython3",
   "version": "3.8.11"
  }
 },
 "nbformat": 4,
 "nbformat_minor": 1
}
